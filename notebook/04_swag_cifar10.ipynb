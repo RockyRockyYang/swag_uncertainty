{
 "cells": [
  {
   "cell_type": "code",
   "execution_count": 1,
   "metadata": {},
   "outputs": [
    {
     "name": "stdout",
     "output_type": "stream",
     "text": [
      "Populating the interactive namespace from numpy and matplotlib\n"
     ]
    },
    {
     "name": "stderr",
     "output_type": "stream",
     "text": [
      "/anaconda3/lib/python3.6/site-packages/IPython/core/magics/pylab.py:160: UserWarning: pylab import has clobbered these variables: ['imshow', 'seed']\n",
      "`%matplotlib` prevents importing * from pylab and numpy\n",
      "  \"\\n`%matplotlib` prevents importing * from pylab and numpy\"\n"
     ]
    }
   ],
   "source": [
    "# Import modules\n",
    "import sys\n",
    "sys.path.append(\"../code/\")\n",
    "import numpy as np\n",
    "import pandas as pd\n",
    "import torch\n",
    "import os\n",
    "import torch.nn as nn\n",
    "import torch.nn.functional as F\n",
    "import matplotlib.pyplot as plt\n",
    "import seaborn as sns\n",
    "import torch.optim as optim\n",
    "import torchvision\n",
    "import torchvision.transforms as transforms\n",
    "from torchvision.datasets import CIFAR10\n",
    "from torch.utils.data import Dataset, DataLoader\n",
    "import numpy as np\n",
    "import torchvision\n",
    "import torchvision.transforms as transforms\n",
    "from torch.optim.lr_scheduler import StepLR, LambdaLR, CosineAnnealingLR\n",
    "from torch.utils.data import DataLoader\n",
    "from torchviz import make_dot\n",
    "\n",
    "from swag import SWAG\n",
    "from models import SimpleNet, ConvNN, Classification_relu, Classification_sigmoid, Classification_tanh\n",
    "from util import model_param_to_1D, params_1d_to_weights, create_NN_with_weights, plot_decision_boundary\n",
    "from data_gen import ClassificationDataSet\n",
    "\n",
    "seed = 0\n",
    "torch.manual_seed(seed)\n",
    "np.random.seed(seed)\n",
    "\n",
    "# functions to show an image\n",
    "def imshow(img):\n",
    "    img = img / 2 + 0.5     # unnormalize\n",
    "    npimg = img.numpy()\n",
    "    plt.imshow(np.transpose(npimg, (1, 2, 0)))\n",
    "    plt.show()\n",
    "\n",
    "%pylab inline"
   ]
  },
  {
   "cell_type": "markdown",
   "metadata": {},
   "source": [
    "# Classification on CIFAR10"
   ]
  },
  {
   "cell_type": "markdown",
   "metadata": {},
   "source": [
    "The paper claims that the test accuracies of SWAG on the several image datasets typically outperforms all the baseline models in terms of accuracy.\n",
    "\n",
    "In the below section, we will train a model on the dataset CIFAR-10. The CIFAR-10 dataset is a collection of images that are commonly used to train machine learning and computer vision algorithms:\n",
    "1. It contains 60,000 32x32 color images in 10 different classes. \n",
    "2. The 10 different classes represent airplanes, cars, birds, cats, deer, dogs, frogs, horses, ships, and trucks. \n",
    "3. There are 6000 images of each class.\n",
    "\n",
    "We split the dataset into training and testing set, where the training set contrains 50000 images and the test set contains 10000 images.\n",
    "\n",
    "Due to the computational power limit, we are going to train a Simple Convolutional Neural network with the following architecture."
   ]
  },
  {
   "cell_type": "markdown",
   "metadata": {},
   "source": [
    "## Model Architechture"
   ]
  },
  {
   "cell_type": "code",
   "execution_count": 2,
   "metadata": {},
   "outputs": [],
   "source": [
    "class Net(nn.Module):\n",
    "    def __init__(self):\n",
    "        super(Net, self).__init__()\n",
    "        self.conv1 = nn.Conv2d(3, 6, 5)\n",
    "        self.pool = nn.MaxPool2d(2, 2)\n",
    "        self.conv2 = nn.Conv2d(6, 16, 5)\n",
    "        self.fc1 = nn.Linear(16 * 5 * 5, 120)\n",
    "        self.fc2 = nn.Linear(120, 84)\n",
    "        self.fc3 = nn.Linear(84, 10)\n",
    "\n",
    "    def forward(self, x):\n",
    "        x = self.pool(F.relu(self.conv1(x)))\n",
    "        x = self.pool(F.relu(self.conv2(x)))\n",
    "        x = x.view(-1, 16 * 5 * 5)\n",
    "        x = F.relu(self.fc1(x))\n",
    "        x = F.relu(self.fc2(x))\n",
    "        x = self.fc3(x)\n",
    "        return x"
   ]
  },
  {
   "cell_type": "code",
   "execution_count": 3,
   "metadata": {
    "scrolled": true
   },
   "outputs": [
    {
     "name": "stdout",
     "output_type": "stream",
     "text": [
      "Net(\n",
      "  (conv1): Conv2d(3, 6, kernel_size=(5, 5), stride=(1, 1))\n",
      "  (pool): MaxPool2d(kernel_size=2, stride=2, padding=0, dilation=1, ceil_mode=False)\n",
      "  (conv2): Conv2d(6, 16, kernel_size=(5, 5), stride=(1, 1))\n",
      "  (fc1): Linear(in_features=400, out_features=120, bias=True)\n",
      "  (fc2): Linear(in_features=120, out_features=84, bias=True)\n",
      "  (fc3): Linear(in_features=84, out_features=10, bias=True)\n",
      ")\n"
     ]
    }
   ],
   "source": [
    "net = Net()\n",
    "print(net)"
   ]
  },
  {
   "cell_type": "markdown",
   "metadata": {},
   "source": [
    "### Load train-test data"
   ]
  },
  {
   "cell_type": "code",
   "execution_count": 4,
   "metadata": {},
   "outputs": [
    {
     "name": "stdout",
     "output_type": "stream",
     "text": [
      "Files already downloaded and verified\n",
      "Files already downloaded and verified\n"
     ]
    }
   ],
   "source": [
    "transform_train = transforms.Compose([\n",
    "    transforms.Resize((40, 40)),       \n",
    "    transforms.RandomCrop((32, 32)),\n",
    "    transforms.RandomHorizontalFlip(),\n",
    "    transforms.RandomRotation(15),\n",
    "    transforms.ToTensor(),\n",
    "    transforms.Normalize((0.4914, 0.4822, 0.4465), (0.2023, 0.1994, 0.2010)),\n",
    "])\n",
    "\n",
    "# Normalize the test set same as training set without augmentation\n",
    "transform_test = transforms.Compose([\n",
    "    transforms.ToTensor(),\n",
    "    transforms.Normalize((0.4914, 0.4822, 0.4465), (0.2023, 0.1994, 0.2010)),\n",
    "])\n",
    "\n",
    "trainset = torchvision.datasets.CIFAR10(root='./data', train=True,\n",
    "                                        download=True, transform=transform_train)\n",
    "trainloader = torch.utils.data.DataLoader(trainset, batch_size=3,\n",
    "                                          shuffle=True, num_workers=2)\n",
    "\n",
    "testset = torchvision.datasets.CIFAR10(root='./data', train=False,\n",
    "                                       download=True, transform=transform_test)\n",
    "testloader = torch.utils.data.DataLoader(testset, batch_size=3,\n",
    "                                         shuffle=False, num_workers=2)\n",
    "\n",
    "classes = ('plane', 'car', 'bird', 'cat',\n",
    "           'deer', 'dog', 'frog', 'horse', 'ship', 'truck')"
   ]
  },
  {
   "cell_type": "code",
   "execution_count": 5,
   "metadata": {
    "scrolled": true
   },
   "outputs": [
    {
     "data": {
      "image/svg+xml": [
       "<?xml version=\"1.0\" encoding=\"UTF-8\" standalone=\"no\"?>\n",
       "<!DOCTYPE svg PUBLIC \"-//W3C//DTD SVG 1.1//EN\"\n",
       " \"http://www.w3.org/Graphics/SVG/1.1/DTD/svg11.dtd\">\n",
       "<!-- Generated by graphviz version 2.44.1 (20200629.0846)\n",
       " -->\n",
       "<!-- Pages: 1 -->\n",
       "<svg width=\"420pt\" height=\"864pt\"\n",
       " viewBox=\"0.00 0.00 420.14 864.00\" xmlns=\"http://www.w3.org/2000/svg\" xmlns:xlink=\"http://www.w3.org/1999/xlink\">\n",
       "<g id=\"graph0\" class=\"graph\" transform=\"scale(0.99 0.99) rotate(0) translate(4 870)\">\n",
       "<polygon fill=\"white\" stroke=\"transparent\" points=\"-4,4 -4,-870 421,-870 421,4 -4,4\"/>\n",
       "<!-- 112518962984 -->\n",
       "<g id=\"node1\" class=\"node\">\n",
       "<title>112518962984</title>\n",
       "<polygon fill=\"#caff70\" stroke=\"black\" points=\"300.5,-21 202.5,-21 202.5,0 300.5,0 300.5,-21\"/>\n",
       "<text text-anchor=\"middle\" x=\"251.5\" y=\"-7.4\" font-family=\"Times,serif\" font-size=\"12.00\">MeanBackward0</text>\n",
       "</g>\n",
       "<!-- 112518963152 -->\n",
       "<g id=\"node2\" class=\"node\">\n",
       "<title>112518963152</title>\n",
       "<polygon fill=\"lightgrey\" stroke=\"black\" points=\"303.5,-78 199.5,-78 199.5,-57 303.5,-57 303.5,-78\"/>\n",
       "<text text-anchor=\"middle\" x=\"251.5\" y=\"-64.4\" font-family=\"Times,serif\" font-size=\"12.00\">AddmmBackward</text>\n",
       "</g>\n",
       "<!-- 112518963152&#45;&gt;112518962984 -->\n",
       "<g id=\"edge1\" class=\"edge\">\n",
       "<title>112518963152&#45;&gt;112518962984</title>\n",
       "<path fill=\"none\" stroke=\"black\" d=\"M251.5,-56.92C251.5,-49.91 251.5,-40.14 251.5,-31.47\"/>\n",
       "<polygon fill=\"black\" stroke=\"black\" points=\"255,-31.34 251.5,-21.34 248,-31.34 255,-31.34\"/>\n",
       "</g>\n",
       "<!-- 112520229160 -->\n",
       "<g id=\"node3\" class=\"node\">\n",
       "<title>112520229160</title>\n",
       "<polygon fill=\"lightblue\" stroke=\"black\" points=\"186.5,-148 132.5,-148 132.5,-114 186.5,-114 186.5,-148\"/>\n",
       "<text text-anchor=\"middle\" x=\"159.5\" y=\"-134.4\" font-family=\"Times,serif\" font-size=\"12.00\">fc3.bias</text>\n",
       "<text text-anchor=\"middle\" x=\"159.5\" y=\"-121.4\" font-family=\"Times,serif\" font-size=\"12.00\"> (10)</text>\n",
       "</g>\n",
       "<!-- 112520229160&#45;&gt;112518963152 -->\n",
       "<g id=\"edge2\" class=\"edge\">\n",
       "<title>112520229160&#45;&gt;112518963152</title>\n",
       "<path fill=\"none\" stroke=\"black\" d=\"M183.67,-113.84C197.65,-104.5 215.12,-92.82 228.83,-83.65\"/>\n",
       "<polygon fill=\"black\" stroke=\"black\" points=\"230.86,-86.51 237.23,-78.04 226.97,-80.69 230.86,-86.51\"/>\n",
       "</g>\n",
       "<!-- 112520229216 -->\n",
       "<g id=\"node4\" class=\"node\">\n",
       "<title>112520229216</title>\n",
       "<polygon fill=\"lightgrey\" stroke=\"black\" points=\"298.5,-141.5 204.5,-141.5 204.5,-120.5 298.5,-120.5 298.5,-141.5\"/>\n",
       "<text text-anchor=\"middle\" x=\"251.5\" y=\"-127.9\" font-family=\"Times,serif\" font-size=\"12.00\">ReluBackward0</text>\n",
       "</g>\n",
       "<!-- 112520229216&#45;&gt;112518963152 -->\n",
       "<g id=\"edge3\" class=\"edge\">\n",
       "<title>112520229216&#45;&gt;112518963152</title>\n",
       "<path fill=\"none\" stroke=\"black\" d=\"M251.5,-120.39C251.5,-111.87 251.5,-99.14 251.5,-88.42\"/>\n",
       "<polygon fill=\"black\" stroke=\"black\" points=\"255,-88.24 251.5,-78.24 248,-88.24 255,-88.24\"/>\n",
       "</g>\n",
       "<!-- 112520231120 -->\n",
       "<g id=\"node5\" class=\"node\">\n",
       "<title>112520231120</title>\n",
       "<polygon fill=\"lightgrey\" stroke=\"black\" points=\"302.5,-211.5 198.5,-211.5 198.5,-190.5 302.5,-190.5 302.5,-211.5\"/>\n",
       "<text text-anchor=\"middle\" x=\"250.5\" y=\"-197.9\" font-family=\"Times,serif\" font-size=\"12.00\">AddmmBackward</text>\n",
       "</g>\n",
       "<!-- 112520231120&#45;&gt;112520229216 -->\n",
       "<g id=\"edge4\" class=\"edge\">\n",
       "<title>112520231120&#45;&gt;112520229216</title>\n",
       "<path fill=\"none\" stroke=\"black\" d=\"M250.64,-190.26C250.79,-180.26 251.02,-164.42 251.21,-151.78\"/>\n",
       "<polygon fill=\"black\" stroke=\"black\" points=\"254.71,-151.78 251.36,-141.72 247.71,-151.67 254.71,-151.78\"/>\n",
       "</g>\n",
       "<!-- 112520231176 -->\n",
       "<g id=\"node6\" class=\"node\">\n",
       "<title>112520231176</title>\n",
       "<polygon fill=\"lightblue\" stroke=\"black\" points=\"185.5,-288 131.5,-288 131.5,-254 185.5,-254 185.5,-288\"/>\n",
       "<text text-anchor=\"middle\" x=\"158.5\" y=\"-274.4\" font-family=\"Times,serif\" font-size=\"12.00\">fc2.bias</text>\n",
       "<text text-anchor=\"middle\" x=\"158.5\" y=\"-261.4\" font-family=\"Times,serif\" font-size=\"12.00\"> (84)</text>\n",
       "</g>\n",
       "<!-- 112520231176&#45;&gt;112520231120 -->\n",
       "<g id=\"edge5\" class=\"edge\">\n",
       "<title>112520231176&#45;&gt;112520231120</title>\n",
       "<path fill=\"none\" stroke=\"black\" d=\"M180.3,-253.88C195,-243.02 214.3,-228.75 228.95,-217.93\"/>\n",
       "<polygon fill=\"black\" stroke=\"black\" points=\"231.42,-220.46 237.38,-211.7 227.26,-214.83 231.42,-220.46\"/>\n",
       "</g>\n",
       "<!-- 112520231680 -->\n",
       "<g id=\"node7\" class=\"node\">\n",
       "<title>112520231680</title>\n",
       "<polygon fill=\"lightgrey\" stroke=\"black\" points=\"297.5,-281.5 203.5,-281.5 203.5,-260.5 297.5,-260.5 297.5,-281.5\"/>\n",
       "<text text-anchor=\"middle\" x=\"250.5\" y=\"-267.9\" font-family=\"Times,serif\" font-size=\"12.00\">ReluBackward0</text>\n",
       "</g>\n",
       "<!-- 112520231680&#45;&gt;112520231120 -->\n",
       "<g id=\"edge6\" class=\"edge\">\n",
       "<title>112520231680&#45;&gt;112520231120</title>\n",
       "<path fill=\"none\" stroke=\"black\" d=\"M250.5,-260.26C250.5,-250.26 250.5,-234.42 250.5,-221.78\"/>\n",
       "<polygon fill=\"black\" stroke=\"black\" points=\"254,-221.72 250.5,-211.72 247,-221.72 254,-221.72\"/>\n",
       "</g>\n",
       "<!-- 112520231848 -->\n",
       "<g id=\"node8\" class=\"node\">\n",
       "<title>112520231848</title>\n",
       "<polygon fill=\"lightgrey\" stroke=\"black\" points=\"302.5,-351.5 198.5,-351.5 198.5,-330.5 302.5,-330.5 302.5,-351.5\"/>\n",
       "<text text-anchor=\"middle\" x=\"250.5\" y=\"-337.9\" font-family=\"Times,serif\" font-size=\"12.00\">AddmmBackward</text>\n",
       "</g>\n",
       "<!-- 112520231848&#45;&gt;112520231680 -->\n",
       "<g id=\"edge7\" class=\"edge\">\n",
       "<title>112520231848&#45;&gt;112520231680</title>\n",
       "<path fill=\"none\" stroke=\"black\" d=\"M250.5,-330.26C250.5,-320.26 250.5,-304.42 250.5,-291.78\"/>\n",
       "<polygon fill=\"black\" stroke=\"black\" points=\"254,-291.72 250.5,-281.72 247,-291.72 254,-291.72\"/>\n",
       "</g>\n",
       "<!-- 112520232016 -->\n",
       "<g id=\"node9\" class=\"node\">\n",
       "<title>112520232016</title>\n",
       "<polygon fill=\"lightblue\" stroke=\"black\" points=\"186.5,-428 132.5,-428 132.5,-394 186.5,-394 186.5,-428\"/>\n",
       "<text text-anchor=\"middle\" x=\"159.5\" y=\"-414.4\" font-family=\"Times,serif\" font-size=\"12.00\">fc1.bias</text>\n",
       "<text text-anchor=\"middle\" x=\"159.5\" y=\"-401.4\" font-family=\"Times,serif\" font-size=\"12.00\"> (120)</text>\n",
       "</g>\n",
       "<!-- 112520232016&#45;&gt;112520231848 -->\n",
       "<g id=\"edge8\" class=\"edge\">\n",
       "<title>112520232016&#45;&gt;112520231848</title>\n",
       "<path fill=\"none\" stroke=\"black\" d=\"M181.07,-393.88C195.6,-383.02 214.7,-368.75 229.18,-357.93\"/>\n",
       "<polygon fill=\"black\" stroke=\"black\" points=\"231.61,-360.49 237.52,-351.7 227.42,-354.88 231.61,-360.49\"/>\n",
       "</g>\n",
       "<!-- 112520232072 -->\n",
       "<g id=\"node10\" class=\"node\">\n",
       "<title>112520232072</title>\n",
       "<polygon fill=\"lightgrey\" stroke=\"black\" points=\"296,-421.5 205,-421.5 205,-400.5 296,-400.5 296,-421.5\"/>\n",
       "<text text-anchor=\"middle\" x=\"250.5\" y=\"-407.9\" font-family=\"Times,serif\" font-size=\"12.00\">ViewBackward</text>\n",
       "</g>\n",
       "<!-- 112520232072&#45;&gt;112520231848 -->\n",
       "<g id=\"edge9\" class=\"edge\">\n",
       "<title>112520232072&#45;&gt;112520231848</title>\n",
       "<path fill=\"none\" stroke=\"black\" d=\"M250.5,-400.26C250.5,-390.26 250.5,-374.42 250.5,-361.78\"/>\n",
       "<polygon fill=\"black\" stroke=\"black\" points=\"254,-361.72 250.5,-351.72 247,-361.72 254,-361.72\"/>\n",
       "</g>\n",
       "<!-- 112520232240 -->\n",
       "<g id=\"node11\" class=\"node\">\n",
       "<title>112520232240</title>\n",
       "<polygon fill=\"lightgrey\" stroke=\"black\" points=\"330,-491.5 149,-491.5 149,-470.5 330,-470.5 330,-491.5\"/>\n",
       "<text text-anchor=\"middle\" x=\"239.5\" y=\"-477.9\" font-family=\"Times,serif\" font-size=\"12.00\">MaxPool2DWithIndicesBackward</text>\n",
       "</g>\n",
       "<!-- 112520232240&#45;&gt;112520232072 -->\n",
       "<g id=\"edge10\" class=\"edge\">\n",
       "<title>112520232240&#45;&gt;112520232072</title>\n",
       "<path fill=\"none\" stroke=\"black\" d=\"M241.08,-470.26C242.69,-460.26 245.26,-444.42 247.3,-431.78\"/>\n",
       "<polygon fill=\"black\" stroke=\"black\" points=\"250.79,-432.16 248.93,-421.72 243.87,-431.04 250.79,-432.16\"/>\n",
       "</g>\n",
       "<!-- 112520232408 -->\n",
       "<g id=\"node12\" class=\"node\">\n",
       "<title>112520232408</title>\n",
       "<polygon fill=\"lightgrey\" stroke=\"black\" points=\"286.5,-555 192.5,-555 192.5,-534 286.5,-534 286.5,-555\"/>\n",
       "<text text-anchor=\"middle\" x=\"239.5\" y=\"-541.4\" font-family=\"Times,serif\" font-size=\"12.00\">ReluBackward0</text>\n",
       "</g>\n",
       "<!-- 112520232408&#45;&gt;112520232240 -->\n",
       "<g id=\"edge11\" class=\"edge\">\n",
       "<title>112520232408&#45;&gt;112520232240</title>\n",
       "<path fill=\"none\" stroke=\"black\" d=\"M239.5,-533.89C239.5,-525.37 239.5,-512.64 239.5,-501.92\"/>\n",
       "<polygon fill=\"black\" stroke=\"black\" points=\"243,-501.74 239.5,-491.74 236,-501.74 243,-501.74\"/>\n",
       "</g>\n",
       "<!-- 112520232576 -->\n",
       "<g id=\"node13\" class=\"node\">\n",
       "<title>112520232576</title>\n",
       "<polygon fill=\"lightgrey\" stroke=\"black\" points=\"320.5,-612 158.5,-612 158.5,-591 320.5,-591 320.5,-612\"/>\n",
       "<text text-anchor=\"middle\" x=\"239.5\" y=\"-598.4\" font-family=\"Times,serif\" font-size=\"12.00\">MkldnnConvolutionBackward</text>\n",
       "</g>\n",
       "<!-- 112520232576&#45;&gt;112520232408 -->\n",
       "<g id=\"edge12\" class=\"edge\">\n",
       "<title>112520232576&#45;&gt;112520232408</title>\n",
       "<path fill=\"none\" stroke=\"black\" d=\"M239.5,-590.92C239.5,-583.91 239.5,-574.14 239.5,-565.47\"/>\n",
       "<polygon fill=\"black\" stroke=\"black\" points=\"243,-565.34 239.5,-555.34 236,-565.34 243,-565.34\"/>\n",
       "</g>\n",
       "<!-- 112520232744 -->\n",
       "<g id=\"node14\" class=\"node\">\n",
       "<title>112520232744</title>\n",
       "<polygon fill=\"lightgrey\" stroke=\"black\" points=\"181,-675.5 0,-675.5 0,-654.5 181,-654.5 181,-675.5\"/>\n",
       "<text text-anchor=\"middle\" x=\"90.5\" y=\"-661.9\" font-family=\"Times,serif\" font-size=\"12.00\">MaxPool2DWithIndicesBackward</text>\n",
       "</g>\n",
       "<!-- 112520232744&#45;&gt;112520232576 -->\n",
       "<g id=\"edge13\" class=\"edge\">\n",
       "<title>112520232744&#45;&gt;112520232576</title>\n",
       "<path fill=\"none\" stroke=\"black\" d=\"M113.78,-654.39C138.82,-644.06 178.82,-627.54 206.97,-615.93\"/>\n",
       "<polygon fill=\"black\" stroke=\"black\" points=\"208.47,-619.09 216.38,-612.04 205.8,-612.62 208.47,-619.09\"/>\n",
       "</g>\n",
       "<!-- 112646668360 -->\n",
       "<g id=\"node15\" class=\"node\">\n",
       "<title>112646668360</title>\n",
       "<polygon fill=\"lightgrey\" stroke=\"black\" points=\"137.5,-739 43.5,-739 43.5,-718 137.5,-718 137.5,-739\"/>\n",
       "<text text-anchor=\"middle\" x=\"90.5\" y=\"-725.4\" font-family=\"Times,serif\" font-size=\"12.00\">ReluBackward0</text>\n",
       "</g>\n",
       "<!-- 112646668360&#45;&gt;112520232744 -->\n",
       "<g id=\"edge14\" class=\"edge\">\n",
       "<title>112646668360&#45;&gt;112520232744</title>\n",
       "<path fill=\"none\" stroke=\"black\" d=\"M90.5,-717.89C90.5,-709.37 90.5,-696.64 90.5,-685.92\"/>\n",
       "<polygon fill=\"black\" stroke=\"black\" points=\"94,-685.74 90.5,-675.74 87,-685.74 94,-685.74\"/>\n",
       "</g>\n",
       "<!-- 112646668528 -->\n",
       "<g id=\"node16\" class=\"node\">\n",
       "<title>112646668528</title>\n",
       "<polygon fill=\"lightgrey\" stroke=\"black\" points=\"171.5,-796 9.5,-796 9.5,-775 171.5,-775 171.5,-796\"/>\n",
       "<text text-anchor=\"middle\" x=\"90.5\" y=\"-782.4\" font-family=\"Times,serif\" font-size=\"12.00\">MkldnnConvolutionBackward</text>\n",
       "</g>\n",
       "<!-- 112646668528&#45;&gt;112646668360 -->\n",
       "<g id=\"edge15\" class=\"edge\">\n",
       "<title>112646668528&#45;&gt;112646668360</title>\n",
       "<path fill=\"none\" stroke=\"black\" d=\"M90.5,-774.92C90.5,-767.91 90.5,-758.14 90.5,-749.47\"/>\n",
       "<polygon fill=\"black\" stroke=\"black\" points=\"94,-749.34 90.5,-739.34 87,-749.34 94,-749.34\"/>\n",
       "</g>\n",
       "<!-- 112646668696 -->\n",
       "<g id=\"node17\" class=\"node\">\n",
       "<title>112646668696</title>\n",
       "<polygon fill=\"lightblue\" stroke=\"black\" points=\"85,-866 4,-866 4,-832 85,-832 85,-866\"/>\n",
       "<text text-anchor=\"middle\" x=\"44.5\" y=\"-852.4\" font-family=\"Times,serif\" font-size=\"12.00\">conv1.weight</text>\n",
       "<text text-anchor=\"middle\" x=\"44.5\" y=\"-839.4\" font-family=\"Times,serif\" font-size=\"12.00\"> (6, 3, 5, 5)</text>\n",
       "</g>\n",
       "<!-- 112646668696&#45;&gt;112646668528 -->\n",
       "<g id=\"edge16\" class=\"edge\">\n",
       "<title>112646668696&#45;&gt;112646668528</title>\n",
       "<path fill=\"none\" stroke=\"black\" d=\"M56.59,-831.84C62.97,-823.3 70.83,-812.8 77.36,-804.06\"/>\n",
       "<polygon fill=\"black\" stroke=\"black\" points=\"80.18,-806.15 83.36,-796.04 74.57,-801.95 80.18,-806.15\"/>\n",
       "</g>\n",
       "<!-- 112646668752 -->\n",
       "<g id=\"node18\" class=\"node\">\n",
       "<title>112646668752</title>\n",
       "<polygon fill=\"lightblue\" stroke=\"black\" points=\"171.5,-866 103.5,-866 103.5,-832 171.5,-832 171.5,-866\"/>\n",
       "<text text-anchor=\"middle\" x=\"137.5\" y=\"-852.4\" font-family=\"Times,serif\" font-size=\"12.00\">conv1.bias</text>\n",
       "<text text-anchor=\"middle\" x=\"137.5\" y=\"-839.4\" font-family=\"Times,serif\" font-size=\"12.00\"> (6)</text>\n",
       "</g>\n",
       "<!-- 112646668752&#45;&gt;112646668528 -->\n",
       "<g id=\"edge17\" class=\"edge\">\n",
       "<title>112646668752&#45;&gt;112646668528</title>\n",
       "<path fill=\"none\" stroke=\"black\" d=\"M125.15,-831.84C118.62,-823.3 110.6,-812.8 103.92,-804.06\"/>\n",
       "<polygon fill=\"black\" stroke=\"black\" points=\"106.65,-801.86 97.79,-796.04 101.08,-806.11 106.65,-801.86\"/>\n",
       "</g>\n",
       "<!-- 112520232800 -->\n",
       "<g id=\"node19\" class=\"node\">\n",
       "<title>112520232800</title>\n",
       "<polygon fill=\"lightblue\" stroke=\"black\" points=\"280,-682 199,-682 199,-648 280,-648 280,-682\"/>\n",
       "<text text-anchor=\"middle\" x=\"239.5\" y=\"-668.4\" font-family=\"Times,serif\" font-size=\"12.00\">conv2.weight</text>\n",
       "<text text-anchor=\"middle\" x=\"239.5\" y=\"-655.4\" font-family=\"Times,serif\" font-size=\"12.00\"> (16, 6, 5, 5)</text>\n",
       "</g>\n",
       "<!-- 112520232800&#45;&gt;112520232576 -->\n",
       "<g id=\"edge18\" class=\"edge\">\n",
       "<title>112520232800&#45;&gt;112520232576</title>\n",
       "<path fill=\"none\" stroke=\"black\" d=\"M239.5,-647.84C239.5,-640.01 239.5,-630.54 239.5,-622.28\"/>\n",
       "<polygon fill=\"black\" stroke=\"black\" points=\"243,-622.04 239.5,-612.04 236,-622.04 243,-622.04\"/>\n",
       "</g>\n",
       "<!-- 112520232856 -->\n",
       "<g id=\"node20\" class=\"node\">\n",
       "<title>112520232856</title>\n",
       "<polygon fill=\"lightblue\" stroke=\"black\" points=\"366.5,-682 298.5,-682 298.5,-648 366.5,-648 366.5,-682\"/>\n",
       "<text text-anchor=\"middle\" x=\"332.5\" y=\"-668.4\" font-family=\"Times,serif\" font-size=\"12.00\">conv2.bias</text>\n",
       "<text text-anchor=\"middle\" x=\"332.5\" y=\"-655.4\" font-family=\"Times,serif\" font-size=\"12.00\"> (16)</text>\n",
       "</g>\n",
       "<!-- 112520232856&#45;&gt;112520232576 -->\n",
       "<g id=\"edge19\" class=\"edge\">\n",
       "<title>112520232856&#45;&gt;112520232576</title>\n",
       "<path fill=\"none\" stroke=\"black\" d=\"M308.07,-647.84C293.94,-638.5 276.27,-626.82 262.41,-617.65\"/>\n",
       "<polygon fill=\"black\" stroke=\"black\" points=\"264.2,-614.64 253.93,-612.04 260.34,-620.48 264.2,-614.64\"/>\n",
       "</g>\n",
       "<!-- 112520232128 -->\n",
       "<g id=\"node21\" class=\"node\">\n",
       "<title>112520232128</title>\n",
       "<polygon fill=\"lightgrey\" stroke=\"black\" points=\"408,-421.5 335,-421.5 335,-400.5 408,-400.5 408,-421.5\"/>\n",
       "<text text-anchor=\"middle\" x=\"371.5\" y=\"-407.9\" font-family=\"Times,serif\" font-size=\"12.00\">TBackward</text>\n",
       "</g>\n",
       "<!-- 112520232128&#45;&gt;112520231848 -->\n",
       "<g id=\"edge20\" class=\"edge\">\n",
       "<title>112520232128&#45;&gt;112520231848</title>\n",
       "<path fill=\"none\" stroke=\"black\" d=\"M354.42,-400.4C334.06,-388.96 299.84,-369.73 276.26,-356.48\"/>\n",
       "<polygon fill=\"black\" stroke=\"black\" points=\"277.93,-353.4 267.49,-351.55 274.5,-359.5 277.93,-353.4\"/>\n",
       "</g>\n",
       "<!-- 112520232296 -->\n",
       "<g id=\"node22\" class=\"node\">\n",
       "<title>112520232296</title>\n",
       "<polygon fill=\"lightblue\" stroke=\"black\" points=\"417,-498 348,-498 348,-464 417,-464 417,-498\"/>\n",
       "<text text-anchor=\"middle\" x=\"382.5\" y=\"-484.4\" font-family=\"Times,serif\" font-size=\"12.00\">fc1.weight</text>\n",
       "<text text-anchor=\"middle\" x=\"382.5\" y=\"-471.4\" font-family=\"Times,serif\" font-size=\"12.00\"> (120, 400)</text>\n",
       "</g>\n",
       "<!-- 112520232296&#45;&gt;112520232128 -->\n",
       "<g id=\"edge21\" class=\"edge\">\n",
       "<title>112520232296&#45;&gt;112520232128</title>\n",
       "<path fill=\"none\" stroke=\"black\" d=\"M379.89,-463.88C378.34,-454.31 376.37,-442.09 374.72,-431.91\"/>\n",
       "<polygon fill=\"black\" stroke=\"black\" points=\"378.15,-431.21 373.1,-421.89 371.24,-432.33 378.15,-431.21\"/>\n",
       "</g>\n",
       "<!-- 112520231736 -->\n",
       "<g id=\"node23\" class=\"node\">\n",
       "<title>112520231736</title>\n",
       "<polygon fill=\"lightgrey\" stroke=\"black\" points=\"390,-281.5 317,-281.5 317,-260.5 390,-260.5 390,-281.5\"/>\n",
       "<text text-anchor=\"middle\" x=\"353.5\" y=\"-267.9\" font-family=\"Times,serif\" font-size=\"12.00\">TBackward</text>\n",
       "</g>\n",
       "<!-- 112520231736&#45;&gt;112520231120 -->\n",
       "<g id=\"edge22\" class=\"edge\">\n",
       "<title>112520231736&#45;&gt;112520231120</title>\n",
       "<path fill=\"none\" stroke=\"black\" d=\"M338.74,-260.26C321.67,-248.98 293.34,-230.29 273.4,-217.12\"/>\n",
       "<polygon fill=\"black\" stroke=\"black\" points=\"275.17,-214.09 264.9,-211.51 271.31,-219.94 275.17,-214.09\"/>\n",
       "</g>\n",
       "<!-- 112520231904 -->\n",
       "<g id=\"node24\" class=\"node\">\n",
       "<title>112520231904</title>\n",
       "<polygon fill=\"lightblue\" stroke=\"black\" points=\"388,-358 321,-358 321,-324 388,-324 388,-358\"/>\n",
       "<text text-anchor=\"middle\" x=\"354.5\" y=\"-344.4\" font-family=\"Times,serif\" font-size=\"12.00\">fc2.weight</text>\n",
       "<text text-anchor=\"middle\" x=\"354.5\" y=\"-331.4\" font-family=\"Times,serif\" font-size=\"12.00\"> (84, 120)</text>\n",
       "</g>\n",
       "<!-- 112520231904&#45;&gt;112520231736 -->\n",
       "<g id=\"edge23\" class=\"edge\">\n",
       "<title>112520231904&#45;&gt;112520231736</title>\n",
       "<path fill=\"none\" stroke=\"black\" d=\"M354.26,-323.88C354.12,-314.31 353.94,-302.09 353.79,-291.91\"/>\n",
       "<polygon fill=\"black\" stroke=\"black\" points=\"357.29,-291.84 353.65,-281.89 350.29,-291.95 357.29,-291.84\"/>\n",
       "</g>\n",
       "<!-- 112520229272 -->\n",
       "<g id=\"node25\" class=\"node\">\n",
       "<title>112520229272</title>\n",
       "<polygon fill=\"lightgrey\" stroke=\"black\" points=\"391,-141.5 318,-141.5 318,-120.5 391,-120.5 391,-141.5\"/>\n",
       "<text text-anchor=\"middle\" x=\"354.5\" y=\"-127.9\" font-family=\"Times,serif\" font-size=\"12.00\">TBackward</text>\n",
       "</g>\n",
       "<!-- 112520229272&#45;&gt;112518963152 -->\n",
       "<g id=\"edge24\" class=\"edge\">\n",
       "<title>112520229272&#45;&gt;112518963152</title>\n",
       "<path fill=\"none\" stroke=\"black\" d=\"M338.41,-120.39C321.78,-110.46 295.6,-94.83 276.32,-83.32\"/>\n",
       "<polygon fill=\"black\" stroke=\"black\" points=\"277.86,-80.16 267.48,-78.04 274.27,-86.17 277.86,-80.16\"/>\n",
       "</g>\n",
       "<!-- 112520229384 -->\n",
       "<g id=\"node26\" class=\"node\">\n",
       "<title>112520229384</title>\n",
       "<polygon fill=\"lightblue\" stroke=\"black\" points=\"388,-218 321,-218 321,-184 388,-184 388,-218\"/>\n",
       "<text text-anchor=\"middle\" x=\"354.5\" y=\"-204.4\" font-family=\"Times,serif\" font-size=\"12.00\">fc3.weight</text>\n",
       "<text text-anchor=\"middle\" x=\"354.5\" y=\"-191.4\" font-family=\"Times,serif\" font-size=\"12.00\"> (10, 84)</text>\n",
       "</g>\n",
       "<!-- 112520229384&#45;&gt;112520229272 -->\n",
       "<g id=\"edge25\" class=\"edge\">\n",
       "<title>112520229384&#45;&gt;112520229272</title>\n",
       "<path fill=\"none\" stroke=\"black\" d=\"M354.5,-183.88C354.5,-174.31 354.5,-162.09 354.5,-151.91\"/>\n",
       "<polygon fill=\"black\" stroke=\"black\" points=\"358,-151.89 354.5,-141.89 351,-151.89 358,-151.89\"/>\n",
       "</g>\n",
       "</g>\n",
       "</svg>\n"
      ],
      "text/plain": [
       "<graphviz.dot.Digraph at 0x10ea36588>"
      ]
     },
     "execution_count": 5,
     "metadata": {},
     "output_type": "execute_result"
    }
   ],
   "source": [
    "dataiter = iter(trainloader)\n",
    "images, labels = dataiter.next()\n",
    "y = net(images)\n",
    "make_dot(y.mean(),params = dict(net.named_parameters()))"
   ]
  },
  {
   "cell_type": "markdown",
   "metadata": {},
   "source": [
    "### Loss function and optmizer"
   ]
  },
  {
   "cell_type": "code",
   "execution_count": 6,
   "metadata": {},
   "outputs": [],
   "source": [
    "# Use the Classification Cross-Entropy loss and Adam optimizer.\n",
    "criterion = nn.CrossEntropyLoss()\n",
    "optimizer = optim.SGD(net.parameters(), lr=0.001, momentum=0.9)"
   ]
  },
  {
   "cell_type": "code",
   "execution_count": 7,
   "metadata": {},
   "outputs": [
    {
     "data": {
      "text/plain": [
       "Dataset CIFAR10\n",
       "    Number of datapoints: 50000\n",
       "    Root location: ./data\n",
       "    Split: Train\n",
       "    StandardTransform\n",
       "Transform: Compose(\n",
       "               Resize(size=(40, 40), interpolation=PIL.Image.BILINEAR)\n",
       "               RandomCrop(size=(32, 32), padding=None)\n",
       "               RandomHorizontalFlip(p=0.5)\n",
       "               RandomRotation(degrees=[-15.0, 15.0], resample=False, expand=False)\n",
       "               ToTensor()\n",
       "               Normalize(mean=(0.4914, 0.4822, 0.4465), std=(0.2023, 0.1994, 0.201))\n",
       "           )"
      ]
     },
     "execution_count": 7,
     "metadata": {},
     "output_type": "execute_result"
    }
   ],
   "source": [
    "trainset"
   ]
  },
  {
   "cell_type": "code",
   "execution_count": 8,
   "metadata": {},
   "outputs": [
    {
     "name": "stderr",
     "output_type": "stream",
     "text": [
      "Clipping input data to the valid range for imshow with RGB data ([0..1] for floats or [0..255] for integers).\n"
     ]
    },
    {
     "name": "stdout",
     "output_type": "stream",
     "text": [
      "tensor([7, 8, 2])\n",
      "horse  ship  bird\n"
     ]
    },
    {
     "data": {
      "image/png": "[encoded data removed]",
      "text/plain": [
       "<Figure size 432x288 with 1 Axes>"
      ]
     },
     "metadata": {
      "needs_background": "light"
     },
     "output_type": "display_data"
    }
   ],
   "source": [
    "# functions to show an image\n",
    "def imshow(img):\n",
    "    img = img / 2 + 0.5     # unnormalize\n",
    "    npimg = img.numpy()\n",
    "    plt.imshow(np.transpose(npimg, (1, 2, 0)))\n",
    "    plt.show()\n",
    "\n",
    "# get some random training images\n",
    "dataiter = iter(trainloader)\n",
    "images, labels = dataiter.next()\n",
    "\n",
    "# print labels\n",
    "print(labels)\n",
    "print(' '.join('%5s' % classes[labels[j]] for j in range(3)))\n",
    "# show images\n",
    "imshow(torchvision.utils.make_grid(images))"
   ]
  },
  {
   "cell_type": "markdown",
   "metadata": {},
   "source": [
    "## Training without SWAG"
   ]
  },
  {
   "cell_type": "markdown",
   "metadata": {},
   "source": [
    "### Training the model"
   ]
  },
  {
   "cell_type": "code",
   "execution_count": 9,
   "metadata": {},
   "outputs": [],
   "source": [
    "def data_train(model= net, epoch = 2, model_path = '', optimizer = optimizer, criterion = criterion,trainloader = trainloader,batch = 2000):\n",
    "    for epoch in range(epoch):  # loop over the dataset multiple times\n",
    "\n",
    "        running_loss = 0.0\n",
    "        for i, data in enumerate(trainloader, 0):\n",
    "            # get the inputs\n",
    "            inputs, labels = data\n",
    "\n",
    "            # zero the parameter gradients\n",
    "            optimizer.zero_grad()\n",
    "\n",
    "            # forward + backward + optimize\n",
    "            outputs = model(inputs)\n",
    "            loss = criterion(outputs, labels)\n",
    "            loss.backward()\n",
    "            optimizer.step()\n",
    "\n",
    "            # print statistics\n",
    "            running_loss += loss.item()\n",
    "            if i % batch == (batch-1):    # print every 2000 mini-batches\n",
    "                print('[%d, %5d] loss: %.3f' %\n",
    "                      (epoch + 1, i + 1, running_loss / batch))\n",
    "                running_loss = 0.0\n",
    "    print('Finished Training.')\n",
    "    torch.save(model.state_dict(), model_path)\n",
    "    print('Saved model parameters to disk.')\n",
    "    "
   ]
  },
  {
   "cell_type": "code",
   "execution_count": 10,
   "metadata": {},
   "outputs": [
    {
     "name": "stdout",
     "output_type": "stream",
     "text": [
      "Loaded model parameters from disk.\n"
     ]
    }
   ],
   "source": [
    "import os\n",
    "\n",
    "model_directory_path = '/Users/zhaoliyang/Desktop/AM207/swag_uncertainty/model/'\n",
    "model_path = model_directory_path + 'cifar-10-cnn-model.pt'\n",
    "\n",
    "if not os.path.exists(model_directory_path):\n",
    "    os.makedirs(model_directory_path)\n",
    "\n",
    "if os.path.isfile(model_path):\n",
    "    # load trained model parameters from disk\n",
    "    net.load_state_dict(torch.load(model_path))\n",
    "    print('Loaded model parameters from disk.')\n",
    "else:\n",
    "    data_train(net,3,model_path)"
   ]
  },
  {
   "cell_type": "code",
   "execution_count": 11,
   "metadata": {},
   "outputs": [
    {
     "name": "stderr",
     "output_type": "stream",
     "text": [
      "Clipping input data to the valid range for imshow with RGB data ([0..1] for floats or [0..255] for integers).\n",
      "Clipping input data to the valid range for imshow with RGB data ([0..1] for floats or [0..255] for integers).\n",
      "Clipping input data to the valid range for imshow with RGB data ([0..1] for floats or [0..255] for integers).\n"
     ]
    },
    {
     "data": {
      "image/png": "[encoded data removed]",
      "text/plain": [
       "<Figure size 864x180 with 3 Axes>"
      ]
     },
     "metadata": {},
     "output_type": "display_data"
    }
   ],
   "source": [
    "def convert_to_imshow_format(image):\n",
    "    # first convert back to [0,1] range from [-1,1] range\n",
    "    image = image / 2 + 0.5\n",
    "    image = image.numpy()\n",
    "    # convert from CHW to HWC\n",
    "    # from 3x32x32 to 32x32x3\n",
    "    return image.transpose(1,2,0)\n",
    "dataiter = iter(testloader)\n",
    "images, labels = dataiter.next()\n",
    "\n",
    "fig, axes = plt.subplots(1, len(images), figsize=(12,2.5))\n",
    "for idx, image in enumerate(images):\n",
    "    axes[idx].imshow(convert_to_imshow_format(image))\n",
    "    axes[idx].set_title(classes[labels[idx]])\n",
    "    axes[idx].set_xticks([])\n",
    "    axes[idx].set_yticks([])"
   ]
  },
  {
   "cell_type": "markdown",
   "metadata": {},
   "source": [
    "### Test Accuracy"
   ]
  },
  {
   "cell_type": "code",
   "execution_count": 12,
   "metadata": {},
   "outputs": [],
   "source": [
    "def test_accuracy(model, testloader = testloader, classes = classes):\n",
    "    # Overall accuracy on\n",
    "    total_correct = 0\n",
    "    total_images = 0\n",
    "    confusion_matrix = np.zeros([len(classes),len(classes)], int)\n",
    "    with torch.no_grad():\n",
    "        for data in testloader:\n",
    "            images, labels = data\n",
    "            outputs = model(images)\n",
    "            _, predicted = torch.max(outputs.data, 1)\n",
    "            total_images += labels.size(0)\n",
    "            total_correct += (predicted == labels).sum().item()\n",
    "            for i, l in enumerate(labels):\n",
    "                confusion_matrix[l.item(), predicted[i].item()] += 1 \n",
    "\n",
    "    model_accuracy = total_correct / total_images * 100\n",
    "    print('Model accuracy on {0} test images: {1:.2f}%'.format(total_images, model_accuracy))\n",
    "    return confusion_matrix, model_accuracy"
   ]
  },
  {
   "cell_type": "code",
   "execution_count": 13,
   "metadata": {},
   "outputs": [
    {
     "name": "stdout",
     "output_type": "stream",
     "text": [
      "Model accuracy on 10000 test images: 53.07%\n"
     ]
    }
   ],
   "source": [
    "confusion_matrix,acc = test_accuracy(net)"
   ]
  },
  {
   "cell_type": "code",
   "execution_count": 14,
   "metadata": {},
   "outputs": [],
   "source": [
    "def accuracy_class(cm):\n",
    "    # On different categories\n",
    "    print('{0:10s} - {1}'.format('Category','Accuracy'))\n",
    "    for i, r in enumerate(cm):\n",
    "        print('{0:10s} - {1:.1f}'.format(classes[i], r[i]/np.sum(r)*100))"
   ]
  },
  {
   "cell_type": "code",
   "execution_count": 15,
   "metadata": {},
   "outputs": [
    {
     "name": "stdout",
     "output_type": "stream",
     "text": [
      "Category   - Accuracy\n",
      "plane      - 51.1\n",
      "car        - 76.4\n",
      "bird       - 27.1\n",
      "cat        - 37.5\n",
      "deer       - 41.9\n",
      "dog        - 27.6\n",
      "frog       - 75.3\n",
      "horse      - 63.8\n",
      "ship       - 70.2\n",
      "truck      - 59.8\n"
     ]
    }
   ],
   "source": [
    "accuracy_class(confusion_matrix)"
   ]
  },
  {
   "cell_type": "markdown",
   "metadata": {},
   "source": [
    "## Swag"
   ]
  },
  {
   "cell_type": "code",
   "execution_count": 16,
   "metadata": {},
   "outputs": [
    {
     "name": "stderr",
     "output_type": "stream",
     "text": [
      "/anaconda3/lib/python3.6/site-packages/torch/nn/modules/container.py:434: UserWarning: Setting attributes on ParameterList is not supported.\n",
      "  warnings.warn(\"Setting attributes on ParameterList is not supported.\")\n"
     ]
    }
   ],
   "source": [
    "swag = SWAG(Net, 3, True, net)"
   ]
  },
  {
   "cell_type": "code",
   "execution_count": 17,
   "metadata": {},
   "outputs": [],
   "source": [
    "# Compile swa\n",
    "objective = 'classification'\n",
    "lr = 1e-3\n",
    "momentum=0.9\n",
    "optimizer = optim.SGD\n",
    "loss_fn = nn.CrossEntropyLoss()\n",
    "swa_scheduler = LambdaLR\n",
    "\n",
    "swag.compile(objective, lr,1, momentum, optimizer, loss_fn, swa_scheduler)"
   ]
  },
  {
   "cell_type": "code",
   "execution_count": 18,
   "metadata": {},
   "outputs": [
    {
     "name": "stdout",
     "output_type": "stream",
     "text": [
      "Loaded model parameters from disk.\n"
     ]
    }
   ],
   "source": [
    "model_directory_path = '/Users/zhaoliyang/Desktop/AM207/swag_uncertainty/model/'\n",
    "model_path = model_directory_path + 'cifar-10-cnn-swag-model.pt'\n",
    "new_net = Net()\n",
    "seed = 0\n",
    "torch.manual_seed(seed)\n",
    "np.random.seed(seed)\n",
    "# Compile swa\n",
    "objective = 'classification'\n",
    "lr = 1e-3\n",
    "momentum=0.9\n",
    "optimizer = optim.SGD\n",
    "loss_fn = nn.CrossEntropyLoss()\n",
    "swa_scheduler = LambdaLR\n",
    "swag.compile(objective, lr,1, momentum, optimizer, loss_fn, swa_scheduler)\n",
    "if not os.path.exists(model_directory_path):\n",
    "    os.makedirs(model_directory_path)\n",
    "if os.path.isfile(model_path):\n",
    "    # load trained model parameters from disk\n",
    "    new_net.load_state_dict(torch.load(model_path))\n",
    "    print('Loaded model parameters from disk.')\n",
    "else:\n",
    "    # Fit swag\n",
    "    first_mom, second_mom, D = swag.fit(trainloader,\n",
    "                                        train_epoch=0,\n",
    "                                        swag_epoch=5,\n",
    "                                        log_freq=4000,\n",
    "                                        pretrained = True)\n",
    "    # Test prediction\n",
    "    # Test prediction\n",
    "    testiter = iter(testloader)\n",
    "    X_test, y_test = testiter.next()\n",
    "    params_1d, shape_lookup, len_lookup = model_param_to_1D(net)\n",
    "    model_params = params_1d_to_weights(first_mom, shape_lookup, len_lookup)\n",
    "    new_net = create_NN_with_weights(Net, model_params)\n",
    "    torch.save(new_net.state_dict(), model_path)"
   ]
  },
  {
   "cell_type": "code",
   "execution_count": 19,
   "metadata": {},
   "outputs": [
    {
     "name": "stdout",
     "output_type": "stream",
     "text": [
      "Model accuracy on 10000 test images: 57.20%\n"
     ]
    }
   ],
   "source": [
    "# Overall accuracy\n",
    "confusion_matrix_swag,_ = test_accuracy(new_net)"
   ]
  },
  {
   "cell_type": "code",
   "execution_count": 20,
   "metadata": {},
   "outputs": [
    {
     "name": "stdout",
     "output_type": "stream",
     "text": [
      "Category   - Accuracy\n",
      "plane      - 51.7\n",
      "car        - 74.5\n",
      "bird       - 32.0\n",
      "cat        - 21.7\n",
      "deer       - 39.7\n",
      "dog        - 50.9\n",
      "frog       - 82.5\n",
      "horse      - 66.6\n",
      "ship       - 80.6\n",
      "truck      - 71.8\n"
     ]
    }
   ],
   "source": [
    "accuracy_class(confusion_matrix_swag)"
   ]
  },
  {
   "cell_type": "markdown",
   "metadata": {},
   "source": [
    "From the above results, we trained 3 epochs on our simple CNN models and got overall accuracy of 53.07% on the test set classification task. After that, we used the weights of the trained network as initial value of the SWAG weights and performed swag algorithm for 5 epochs. We see that the accuracy has increased around 4% to 57.20%. Indeed, the SWAG algorithm is capable of outperforming the baseline model in terms of accuracy in this case."
   ]
  },
  {
   "cell_type": "markdown",
   "metadata": {},
   "source": [
    "## Improvement on better models\n",
    "\n",
    "From the above experiment, we verify that SWAG algorithm is capable of outperforming the baseline model in terms of accuracy on a simple neural network model. We will train a model to only classify dogs and cats and see if SWAG is able to improve the performace of a model that has pretty good test accuracy."
   ]
  },
  {
   "cell_type": "markdown",
   "metadata": {},
   "source": [
    "### Write functions to choose only specific classes of CIFAR-10"
   ]
  },
  {
   "cell_type": "code",
   "execution_count": 21,
   "metadata": {},
   "outputs": [
    {
     "name": "stdout",
     "output_type": "stream",
     "text": [
      "Files already downloaded and verified\n",
      "Files already downloaded and verified\n"
     ]
    }
   ],
   "source": [
    "# Transformations\n",
    "RC   = transforms.RandomCrop(32, padding=4)\n",
    "RHF  = transforms.RandomHorizontalFlip()\n",
    "RVF  = transforms.RandomVerticalFlip()\n",
    "NRM  = transforms.Normalize((0.4914, 0.4822, 0.4465), (0.2023, 0.1994, 0.2010))\n",
    "TT   = transforms.ToTensor()\n",
    "TPIL = transforms.ToPILImage()\n",
    "\n",
    "# Transforms object for trainset with augmentation\n",
    "transform_with_aug = transforms.Compose([TPIL, RC, RHF, TT, NRM])\n",
    "# Transforms object for testset with NO augmentation\n",
    "transform_no_aug   = transforms.Compose([TT, NRM])\n",
    "\n",
    "# Downloading/Louding CIFAR10 data\n",
    "trainset  = CIFAR10(root='./data', train=True , download=True)#, transform = transform_with_aug)\n",
    "testset   = CIFAR10(root='./data', train=False, download=True)#, transform = transform_no_aug)\n",
    "classDict = {'plane':0, 'car':1, 'bird':2, 'cat':3, 'deer':4, 'dog':5, 'frog':6, 'horse':7, 'ship':8, 'truck':9}\n",
    "\n",
    "# Separating trainset/testset data/label\n",
    "x_train  = trainset.data\n",
    "x_test   = testset.data\n",
    "y_train  = trainset.targets\n",
    "y_test   = testset.targets\n",
    "\n",
    "# Define a function to separate CIFAR classes by class index\n",
    "\n",
    "def get_class_i(x, y, i):\n",
    "    \"\"\"\n",
    "    x: trainset.train_data or testset.test_data\n",
    "    y: trainset.train_labels or testset.test_labels\n",
    "    i: class label, a number between 0 to 9\n",
    "    return: x_i\n",
    "    \"\"\"\n",
    "    # Convert to a numpy array\n",
    "    y = np.array(y)\n",
    "    # Locate position of labels that equal to i\n",
    "    pos_i = np.argwhere(y == i)\n",
    "    # Convert the result into a 1-D list\n",
    "    pos_i = list(pos_i[:,0])\n",
    "    # Collect all data that match the desired label\n",
    "    x_i = [x[j] for j in pos_i]\n",
    "    \n",
    "    return x_i\n",
    "\n",
    "class CNN(nn.Module):\n",
    "    def __init__(self):\n",
    "        super(CNN, self).__init__()\n",
    "        self.conv1 = nn.Conv2d(3,   64,  3)\n",
    "        self.conv2 = nn.Conv2d(64,  128, 3)\n",
    "        self.conv3 = nn.Conv2d(128, 256, 3)\n",
    "        self.pool = nn.MaxPool2d(2, 2)\n",
    "        self.fc1 = nn.Linear(64 * 4 * 4, 128)\n",
    "        self.fc2 = nn.Linear(128, 256)\n",
    "        self.fc3 = nn.Linear(256, 2)\n",
    "\n",
    "    def forward(self, x):\n",
    "        x = self.pool(F.relu(self.conv1(x)))\n",
    "        x = self.pool(F.relu(self.conv2(x)))\n",
    "        x = self.pool(F.relu(self.conv3(x)))\n",
    "        x = x.view(-1, 64 * 4 * 4)\n",
    "        x = F.relu(self.fc1(x))\n",
    "        x = F.relu(self.fc2(x))\n",
    "        x = self.fc3(x)\n",
    "        return F.log_softmax(x, dim=1)   \n",
    "\n",
    "\n",
    "\n",
    "class DatasetMaker(Dataset):\n",
    "    def __init__(self, datasets, transformFunc = transform_no_aug):\n",
    "        \"\"\"\n",
    "        datasets: a list of get_class_i outputs, i.e. a list of list of images for selected classes\n",
    "        \"\"\"\n",
    "        self.datasets = datasets\n",
    "        self.lengths  = [len(d) for d in self.datasets]\n",
    "        self.transformFunc = transformFunc\n",
    "    def __getitem__(self, i):\n",
    "        class_label, index_wrt_class = self.index_of_which_bin(self.lengths, i)\n",
    "        img = self.datasets[class_label][index_wrt_class]\n",
    "        img = self.transformFunc(img)\n",
    "        return img, class_label\n",
    "\n",
    "    def __len__(self):\n",
    "        return sum(self.lengths)\n",
    "    \n",
    "    def index_of_which_bin(self, bin_sizes, absolute_index, verbose=False):\n",
    "        \"\"\"\n",
    "        Given the absolute index, returns which bin it falls in and which element of that bin it corresponds to.\n",
    "        \"\"\"\n",
    "        # Which class/bin does i fall into?\n",
    "        accum = np.add.accumulate(bin_sizes)\n",
    "        if verbose:\n",
    "            print(\"accum =\", accum)\n",
    "        bin_index  = len(np.argwhere(accum <= absolute_index))\n",
    "        if verbose:\n",
    "            print(\"class_label =\", bin_index)\n",
    "        # Which element of the fallent class/bin does i correspond to?\n",
    "        index_wrt_class = absolute_index - np.insert(accum, 0, 0)[bin_index]\n",
    "        if verbose:\n",
    "            print(\"index_wrt_class =\", index_wrt_class)\n",
    "\n",
    "        return bin_index, index_wrt_class"
   ]
  },
  {
   "cell_type": "code",
   "execution_count": 22,
   "metadata": {},
   "outputs": [],
   "source": [
    "# Choose only cats (class 3 of CIFAR) and dogs (class 5 of CIFAR) as trainset/testset\n",
    "cat_dog_trainset = \\\n",
    "    DatasetMaker(\n",
    "        [get_class_i(x_train, y_train, classDict['cat']), get_class_i(x_train, y_train, classDict['dog'])],\n",
    "        transform_with_aug\n",
    "    )\n",
    "cat_dog_testset  = \\\n",
    "    DatasetMaker(\n",
    "        [get_class_i(x_test , y_test , classDict['cat']), get_class_i(x_test , y_test , classDict['dog'])],\n",
    "        transform_no_aug\n",
    "    )\n",
    "\n",
    "kwargs = {'num_workers': 2, 'pin_memory': False}\n",
    "\n",
    "# Create datasetLoaders from trainset and testset\n",
    "trainsetLoader   = DataLoader(cat_dog_trainset, batch_size=4, shuffle=True , **kwargs)\n",
    "testsetLoader    = DataLoader(cat_dog_testset , batch_size=4, shuffle=False, **kwargs)"
   ]
  },
  {
   "cell_type": "code",
   "execution_count": 23,
   "metadata": {},
   "outputs": [
    {
     "name": "stderr",
     "output_type": "stream",
     "text": [
      "Clipping input data to the valid range for imshow with RGB data ([0..1] for floats or [0..255] for integers).\n"
     ]
    },
    {
     "name": "stdout",
     "output_type": "stream",
     "text": [
      "tensor([1, 0, 1, 1])\n",
      "  Dog   Cat   Dog   Dog\n"
     ]
    },
    {
     "data": {
      "image/png": "[encoded data removed]",
      "text/plain": [
       "<Figure size 432x288 with 1 Axes>"
      ]
     },
     "metadata": {
      "needs_background": "light"
     },
     "output_type": "display_data"
    }
   ],
   "source": [
    "classes = ['Cat','Dog']\n",
    "# get some random training images\n",
    "dataiter = iter(trainsetLoader)\n",
    "images, labels = dataiter.next()\n",
    "\n",
    "# print labels\n",
    "print(labels)\n",
    "print(' '.join('%5s' % classes[labels[j]] for j in range(4)))\n",
    "# show images\n",
    "imshow(torchvision.utils.make_grid(images))"
   ]
  },
  {
   "cell_type": "markdown",
   "metadata": {},
   "source": [
    "### Train the Model"
   ]
  },
  {
   "cell_type": "markdown",
   "metadata": {},
   "source": [
    "### Model Architecture"
   ]
  },
  {
   "cell_type": "code",
   "execution_count": 24,
   "metadata": {},
   "outputs": [],
   "source": [
    "class CNN(nn.Module):\n",
    "    def __init__(self):\n",
    "        super(CNN, self).__init__()\n",
    "        self.conv1 = nn.Conv2d(3,   64,  3)\n",
    "        self.conv2 = nn.Conv2d(64,  128, 3)\n",
    "        self.conv3 = nn.Conv2d(128, 256, 3)\n",
    "        self.pool = nn.MaxPool2d(2, 2)\n",
    "        self.fc1 = nn.Linear(64 * 4 * 4, 128)\n",
    "        self.fc2 = nn.Linear(128, 256)\n",
    "        self.fc3 = nn.Linear(256, 2)\n",
    "\n",
    "    def forward(self, x):\n",
    "        x = self.pool(F.relu(self.conv1(x)))\n",
    "        x = self.pool(F.relu(self.conv2(x)))\n",
    "        x = self.pool(F.relu(self.conv3(x)))\n",
    "        x = x.view(-1, 64 * 4 * 4)\n",
    "        x = F.relu(self.fc1(x))\n",
    "        x = F.relu(self.fc2(x))\n",
    "        x = self.fc3(x)\n",
    "        return F.log_softmax(x, dim=1)"
   ]
  },
  {
   "cell_type": "markdown",
   "metadata": {},
   "source": [
    "### Define Training Procedure"
   ]
  },
  {
   "cell_type": "code",
   "execution_count": 25,
   "metadata": {},
   "outputs": [],
   "source": [
    "def train(model, device, train_loader, optimizer, epoch):\n",
    "    losses = []\n",
    "    model.train()\n",
    "    for batch_idx, (data, target) in enumerate(train_loader):\n",
    "        data, target = data.to(device), target.to(device)\n",
    "        optimizer.zero_grad()\n",
    "        output = model(data)\n",
    "        loss = F.nll_loss(output, target)\n",
    "        loss.backward()\n",
    "        optimizer.step()\n",
    "        losses.append(loss.item())\n",
    "        if batch_idx > 0 and batch_idx % 1000 == 0:\n",
    "            print('Train Epoch: {} [{}/{}\\t({:.0f}%)]\\tLoss: {:.6f}'.format(\n",
    "                epoch, batch_idx * len(data), len(train_loader.dataset),\n",
    "                100. * batch_idx / len(train_loader), loss.item()))\n",
    "    return losses"
   ]
  },
  {
   "cell_type": "code",
   "execution_count": 26,
   "metadata": {},
   "outputs": [],
   "source": [
    "def test(model, device, test_loader):\n",
    "    model.eval()\n",
    "    test_loss = 0\n",
    "    correct = 0\n",
    "    with torch.no_grad():\n",
    "        for data, target in test_loader:\n",
    "            data, target = data.to(device), target.to(device)\n",
    "            output = model(data)\n",
    "            test_loss += F.nll_loss(output, target, reduction='sum').item() # sum up batch loss\n",
    "            pred = output.argmax(dim=1, keepdim=True) # get the index of the max log-probability\n",
    "            correct += pred.eq(target.view_as(pred)).sum().item()\n",
    "    test_loss /= len(test_loader.dataset)\n",
    "    print('\\nAverage loss: {:.4f}, Accuracy: {}/{} ({:.0f}%)\\n'.format(\n",
    "        test_loss, correct, len(test_loader.dataset),\n",
    "        100. * correct / len(test_loader.dataset)))\n",
    "    return (float(correct) / len(test_loader.dataset))"
   ]
  },
  {
   "cell_type": "markdown",
   "metadata": {},
   "source": [
    "### Train the model and save weights"
   ]
  },
  {
   "cell_type": "code",
   "execution_count": 27,
   "metadata": {},
   "outputs": [
    {
     "name": "stdout",
     "output_type": "stream",
     "text": [
      "Loaded model parameters from disk.\n"
     ]
    }
   ],
   "source": [
    "model = CNN()\n",
    "model_directory_path = '/Users/zhaoliyang/Desktop/AM207/swag_uncertainty/model/'\n",
    "model_path = model_directory_path + 'cifar-10-cnn-catdog2-model.pt'\n",
    "if not os.path.exists(model_directory_path):\n",
    "    os.makedirs(model_directory_path)\n",
    "if os.path.isfile(model_path):\n",
    "    # load trained model parameters from disk\n",
    "    model.load_state_dict(torch.load(model_path))\n",
    "    print('Loaded model parameters from disk.')\n",
    "else:\n",
    "    optimizer = optim.SGD(model.parameters(), lr=0.001, momentum=0.9)\n",
    "    device = torch.device(\"cpu\") \n",
    "    losses = []\n",
    "    accuracies = []\n",
    "    for epoch in range(0, 20):\n",
    "        losses.extend(train(model, device, trainsetLoader, optimizer, epoch))\n",
    "        accuracies.append(test(model, device, trainsetLoader))\n",
    "        torch.save(model.state_dict(), model_path)"
   ]
  },
  {
   "cell_type": "markdown",
   "metadata": {},
   "source": [
    "### Check accuracy on test set"
   ]
  },
  {
   "cell_type": "code",
   "execution_count": 28,
   "metadata": {},
   "outputs": [
    {
     "name": "stdout",
     "output_type": "stream",
     "text": [
      "Model accuracy on 2000 test images: 84.45%\n"
     ]
    }
   ],
   "source": [
    "confusion_matrix_catdog,_ = test_accuracy(model,testsetLoader,classes)"
   ]
  },
  {
   "cell_type": "code",
   "execution_count": 29,
   "metadata": {
    "scrolled": true
   },
   "outputs": [
    {
     "name": "stdout",
     "output_type": "stream",
     "text": [
      "Category   - Accuracy\n",
      "Cat        - 87.2\n",
      "Dog        - 81.7\n"
     ]
    }
   ],
   "source": [
    "accuracy_class(confusion_matrix_catdog)"
   ]
  },
  {
   "cell_type": "markdown",
   "metadata": {},
   "source": [
    "## SWAG"
   ]
  },
  {
   "cell_type": "markdown",
   "metadata": {},
   "source": [
    "We've achieved a 84.45% accuracy on the test set classification, next we will apply the SWAG algorithm based on the above model"
   ]
  },
  {
   "cell_type": "code",
   "execution_count": 30,
   "metadata": {},
   "outputs": [],
   "source": [
    "def train_swag(model, model_path):\n",
    "    model_swag = CNN()\n",
    "    swag = SWAG(CNN, 5, True, model)\n",
    "    torch.manual_seed(seed)\n",
    "    np.random.seed(seed)\n",
    "    # Compile swa\n",
    "    objective = 'classification'\n",
    "    lr = 1e-3\n",
    "    momentum=0.9\n",
    "    optimizer = optim.SGD\n",
    "    loss_fn = nn.CrossEntropyLoss()\n",
    "    swa_scheduler = LambdaLR\n",
    "    swag.compile(objective, lr,1, momentum, optimizer, loss_fn, swa_scheduler)\n",
    "    if not os.path.exists(model_directory_path):\n",
    "        os.makedirs(model_directory_path)\n",
    "    if os.path.isfile(model_path):\n",
    "        # load trained model parameters from disk\n",
    "        model_swag.load_state_dict(torch.load(model_path))\n",
    "        print('Loaded model parameters from disk.')\n",
    "    else:\n",
    "        # Fit swag\n",
    "        first_mom, second_mom, D = swag.fit(trainsetLoader,\n",
    "                                            train_epoch=0,\n",
    "                                            swag_epoch=5,\n",
    "                                            log_freq=500,\n",
    "                                            pretrained = True)\n",
    "        # Test prediction\n",
    "        testiter = iter(testsetLoader)\n",
    "        X_test, y_test = testiter.next()\n",
    "        params_1d, shape_lookup, len_lookup = model_param_to_1D(model)\n",
    "        model_params = params_1d_to_weights(first_mom, shape_lookup, len_lookup)\n",
    "        model_swag = create_NN_with_weights(CNN, model_params)\n",
    "        torch.save(model_swag.state_dict(), model_path)\n",
    "    return model_swag,swag"
   ]
  },
  {
   "cell_type": "code",
   "execution_count": 31,
   "metadata": {},
   "outputs": [
    {
     "name": "stdout",
     "output_type": "stream",
     "text": [
      "Loaded model parameters from disk.\n"
     ]
    }
   ],
   "source": [
    "model_directory_path = '/Users/zhaoliyang/Desktop/AM207/swag_uncertainty/model/Swag/'\n",
    "model_path = model_directory_path + 'model_swag0.pt'\n",
    "model_swag,swag = train_swag(model, model_path)"
   ]
  },
  {
   "cell_type": "code",
   "execution_count": 32,
   "metadata": {},
   "outputs": [
    {
     "name": "stdout",
     "output_type": "stream",
     "text": [
      "Model accuracy on 2000 test images: 85.80%\n"
     ]
    }
   ],
   "source": [
    "classes = ['Cat','Dog']\n",
    "confusion_matrix_catdog_swag,_ = test_accuracy(model_swag,testsetLoader,classes)"
   ]
  },
  {
   "cell_type": "code",
   "execution_count": 33,
   "metadata": {
    "scrolled": true
   },
   "outputs": [
    {
     "name": "stdout",
     "output_type": "stream",
     "text": [
      "Category   - Accuracy\n",
      "Cat        - 85.3\n",
      "Dog        - 86.3\n"
     ]
    }
   ],
   "source": [
    "accuracy_class(confusion_matrix_catdog_swag)"
   ]
  },
  {
   "cell_type": "markdown",
   "metadata": {},
   "source": [
    "## Average Accuracy"
   ]
  },
  {
   "cell_type": "markdown",
   "metadata": {},
   "source": [
    "Since SWAG algorithm involves randomess, I will perform SWAG algorithm on the original model 10 times and calculate the average test accuracy on those models."
   ]
  },
  {
   "cell_type": "code",
   "execution_count": 34,
   "metadata": {},
   "outputs": [
    {
     "name": "stdout",
     "output_type": "stream",
     "text": [
      "Loaded model parameters from disk.\n",
      "Loaded model parameters from disk.\n",
      "Loaded model parameters from disk.\n",
      "Loaded model parameters from disk.\n",
      "Loaded model parameters from disk.\n",
      "Loaded model parameters from disk.\n",
      "Loaded model parameters from disk.\n",
      "Loaded model parameters from disk.\n",
      "Loaded model parameters from disk.\n"
     ]
    }
   ],
   "source": [
    "Swag_models = []\n",
    "Swag_models.append(model_swag)\n",
    "for i in range(1,10):\n",
    "    model_directory_path = '/Users/zhaoliyang/Desktop/AM207/swag_uncertainty/model/Swag/'\n",
    "    model_path = model_directory_path + 'model_swag'+ str(i) + '.pt'\n",
    "    model_swag,swag = train_swag(model, model_path)\n",
    "    Swag_models.append(model_swag)"
   ]
  },
  {
   "cell_type": "code",
   "execution_count": 35,
   "metadata": {},
   "outputs": [
    {
     "data": {
      "text/plain": [
       "CNN(\n",
       "  (conv1): Conv2d(3, 64, kernel_size=(3, 3), stride=(1, 1))\n",
       "  (conv2): Conv2d(64, 128, kernel_size=(3, 3), stride=(1, 1))\n",
       "  (conv3): Conv2d(128, 256, kernel_size=(3, 3), stride=(1, 1))\n",
       "  (pool): MaxPool2d(kernel_size=2, stride=2, padding=0, dilation=1, ceil_mode=False)\n",
       "  (fc1): Linear(in_features=1024, out_features=128, bias=True)\n",
       "  (fc2): Linear(in_features=128, out_features=256, bias=True)\n",
       "  (fc3): Linear(in_features=256, out_features=2, bias=True)\n",
       ")"
      ]
     },
     "execution_count": 35,
     "metadata": {},
     "output_type": "execute_result"
    }
   ],
   "source": [
    "Swag_models[2]"
   ]
  },
  {
   "cell_type": "code",
   "execution_count": 36,
   "metadata": {},
   "outputs": [
    {
     "name": "stdout",
     "output_type": "stream",
     "text": [
      "Model accuracy on 2000 test images: 85.80%\n",
      "Model accuracy on 2000 test images: 85.60%\n",
      "Model accuracy on 2000 test images: 86.15%\n",
      "Model accuracy on 2000 test images: 85.35%\n",
      "Model accuracy on 2000 test images: 85.60%\n",
      "Model accuracy on 2000 test images: 85.25%\n",
      "Model accuracy on 2000 test images: 84.20%\n",
      "Model accuracy on 2000 test images: 85.00%\n",
      "Model accuracy on 2000 test images: 85.40%\n",
      "Model accuracy on 2000 test images: 84.95%\n"
     ]
    }
   ],
   "source": [
    "Acc_swag = []\n",
    "for i in range(10):\n",
    "    _,acc= test_accuracy(Swag_models[i],testsetLoader,classes)\n",
    "    Acc_swag.append(acc)"
   ]
  },
  {
   "cell_type": "code",
   "execution_count": 37,
   "metadata": {},
   "outputs": [
    {
     "data": {
      "text/plain": [
       "85.33"
      ]
     },
     "execution_count": 37,
     "metadata": {},
     "output_type": "execute_result"
    }
   ],
   "source": [
    "np.mean(Acc_swag)"
   ]
  },
  {
   "cell_type": "markdown",
   "metadata": {},
   "source": [
    "## Ensemble of NN"
   ]
  },
  {
   "cell_type": "markdown",
   "metadata": {},
   "source": [
    "In order to make the above results comparable, we will also perform an ensemble of the CNN model (consisting of 10 CNN with different initializations but same architecture) and compute the average classificaiton accuracy on the test set."
   ]
  },
  {
   "cell_type": "code",
   "execution_count": 38,
   "metadata": {},
   "outputs": [],
   "source": [
    "model_sample = model"
   ]
  },
  {
   "cell_type": "code",
   "execution_count": 39,
   "metadata": {},
   "outputs": [
    {
     "name": "stdout",
     "output_type": "stream",
     "text": [
      "Loaded model parameters from disk.\n",
      "Loaded model parameters from disk.\n",
      "Loaded model parameters from disk.\n",
      "Loaded model parameters from disk.\n",
      "Loaded model parameters from disk.\n",
      "Loaded model parameters from disk.\n",
      "Loaded model parameters from disk.\n",
      "Loaded model parameters from disk.\n",
      "Loaded model parameters from disk.\n"
     ]
    }
   ],
   "source": [
    "CNN_models = []\n",
    "CNN_models.append(model)\n",
    "for i in range(1,10):\n",
    "    #params_1d, shape_lookup, len_lookup = model_param_to_1D(model_sample)\n",
    "    # Initialize parameters\n",
    "    #n = len(params_1d)\n",
    "    #init_p = np.random.normal(0, np.sqrt(1),n)\n",
    "    #model_params = params_1d_to_weights(init_p, shape_lookup, len_lookup)\n",
    "    #model_cnn = create_NN_with_weights(CNN, model_params)\n",
    "    model_cnn = CNN()\n",
    "    model_directory_path = '/Users/zhaoliyang/Desktop/AM207/swag_uncertainty/model/CNN/'\n",
    "    model_path = model_directory_path + 'model_CNN'+ str(i) + '.pt'\n",
    "    if not os.path.exists(model_directory_path):\n",
    "        os.makedirs(model_directory_path)\n",
    "    if os.path.isfile(model_path):\n",
    "        # load trained model parameters from disk\n",
    "        model_cnn.load_state_dict(torch.load(model_path))\n",
    "        print('Loaded model parameters from disk.')\n",
    "    else:\n",
    "        optimizer = optim.SGD(model_cnn.parameters(), lr=0.001, momentum=0.9)\n",
    "        device = torch.device(\"cpu\") \n",
    "        losses = []\n",
    "        accuracies = []\n",
    "        for epoch in range(0, 20):\n",
    "            losses.extend(train(model_cnn, device, trainsetLoader, optimizer, epoch))\n",
    "            accuracies.append(test(model_cnn, device, trainsetLoader))\n",
    "        torch.save(model_cnn.state_dict(), model_path)\n",
    "    CNN_models.append(model_cnn)"
   ]
  },
  {
   "cell_type": "code",
   "execution_count": 40,
   "metadata": {},
   "outputs": [
    {
     "name": "stdout",
     "output_type": "stream",
     "text": [
      "Model accuracy on 2000 test images: 84.45%\n",
      "Model accuracy on 2000 test images: 79.75%\n",
      "Model accuracy on 2000 test images: 82.80%\n",
      "Model accuracy on 2000 test images: 81.70%\n",
      "Model accuracy on 2000 test images: 83.80%\n",
      "Model accuracy on 2000 test images: 82.55%\n",
      "Model accuracy on 2000 test images: 82.35%\n",
      "Model accuracy on 2000 test images: 82.55%\n",
      "Model accuracy on 2000 test images: 83.40%\n",
      "Model accuracy on 2000 test images: 83.55%\n"
     ]
    }
   ],
   "source": [
    "Acc_CNN = []\n",
    "for i in range(10):\n",
    "    _,acc= test_accuracy(CNN_models[i],testsetLoader,classes)\n",
    "    Acc_CNN.append(acc)"
   ]
  },
  {
   "cell_type": "code",
   "execution_count": 41,
   "metadata": {},
   "outputs": [
    {
     "data": {
      "text/plain": [
       "82.69"
      ]
     },
     "execution_count": 41,
     "metadata": {},
     "output_type": "execute_result"
    }
   ],
   "source": [
    "np.mean(Acc_CNN)"
   ]
  },
  {
   "cell_type": "markdown",
   "metadata": {},
   "source": [
    "From the above resuls. By comparing the test accuracy of models calculated by the SWAG algorithm and the average of 10 ensemble models with different initialization weights. We see that:\n",
    "1. Average test accuracy of SWAG model is 85.33% \n",
    "2. Average test accuracy of Ensemble models is 82.69%\n",
    "\n",
    "As a result, We may believe that the SWAG algorithm is capable of outperforming the baseline model in terms of accuracy."
   ]
  },
  {
   "cell_type": "markdown",
   "metadata": {},
   "source": [
    "## SWAG Uncertainty "
   ]
  },
  {
   "cell_type": "markdown",
   "metadata": {},
   "source": [
    "What's more important is that we want to measure if the SWAG algorithm is able to help the model to detect the out-of-distribution samples. \n",
    "\n",
    "We will interpret the output of our Neural Network Model - the classification probability - as an indicator of the confidence of the model when it is classifying a specific data point. Specifically, we will only train the model on 2 categories of the image (e.g. when the probability is close to 0.5, we say that the model is not confident in classifying the data point as class 1 or 0).\n",
    "\n",
    "After training the model via SWAG algorithm, we are able to draw sets of parameters and form a posterior distribution of the model. As a result, we will apply those models on a predefined set of test images (some of them are OOD samples) and check the classification probability again."
   ]
  },
  {
   "cell_type": "markdown",
   "metadata": {},
   "source": [
    "We will first fixed a test that contains both in-distribution samples and out-of-distribution samples. We will select 5 images from all different classes."
   ]
  },
  {
   "cell_type": "code",
   "execution_count": 42,
   "metadata": {},
   "outputs": [],
   "source": [
    "def test_sample(i):\n",
    "    testset  = DatasetMaker([get_class_i(x_test , y_test , classDict[i])],\n",
    "                            transform_no_aug)\n",
    "    kwargs = {'num_workers': 2, 'pin_memory': False}\n",
    "\n",
    "    # Create datasetLoaders from testset\n",
    "    testsetLoader = DataLoader(testset, batch_size=5, shuffle=False, **kwargs)\n",
    "    dataiter = iter(testsetLoader)\n",
    "    images, labels = dataiter.next()\n",
    "    return images,labels"
   ]
  },
  {
   "cell_type": "code",
   "execution_count": 43,
   "metadata": {},
   "outputs": [],
   "source": [
    "# Fixed a test\n",
    "classes = ('plane', 'car', 'bird', 'cat','deer', 'dog', \n",
    "           'frog', 'horse', 'ship', 'truck')\n",
    "images_ls = {}\n",
    "label_ls = {}\n",
    "for i in classes:\n",
    "    images, labels = test_sample(i)\n",
    "    images_ls[i] = images\n",
    "    label_ls[i] = labels"
   ]
  },
  {
   "cell_type": "code",
   "execution_count": 44,
   "metadata": {},
   "outputs": [
    {
     "name": "stderr",
     "output_type": "stream",
     "text": [
      "Clipping input data to the valid range for imshow with RGB data ([0..1] for floats or [0..255] for integers).\n"
     ]
    },
    {
     "data": {
      "image/png": "[encoded data removed]",
      "text/plain": [
       "<Figure size 432x288 with 1 Axes>"
      ]
     },
     "metadata": {
      "needs_background": "light"
     },
     "output_type": "display_data"
    },
    {
     "name": "stderr",
     "output_type": "stream",
     "text": [
      "Clipping input data to the valid range for imshow with RGB data ([0..1] for floats or [0..255] for integers).\n"
     ]
    },
    {
     "data": {
      "image/png": "[encoded data removed]",
      "text/plain": [
       "<Figure size 432x288 with 1 Axes>"
      ]
     },
     "metadata": {
      "needs_background": "light"
     },
     "output_type": "display_data"
    },
    {
     "name": "stderr",
     "output_type": "stream",
     "text": [
      "Clipping input data to the valid range for imshow with RGB data ([0..1] for floats or [0..255] for integers).\n"
     ]
    },
    {
     "data": {
      "image/png": "[encoded data removed]",
      "text/plain": [
       "<Figure size 432x288 with 1 Axes>"
      ]
     },
     "metadata": {
      "needs_background": "light"
     },
     "output_type": "display_data"
    },
    {
     "name": "stderr",
     "output_type": "stream",
     "text": [
      "Clipping input data to the valid range for imshow with RGB data ([0..1] for floats or [0..255] for integers).\n"
     ]
    },
    {
     "data": {
      "image/png": "[encoded data removed]",
      "text/plain": [
       "<Figure size 432x288 with 1 Axes>"
      ]
     },
     "metadata": {
      "needs_background": "light"
     },
     "output_type": "display_data"
    },
    {
     "name": "stderr",
     "output_type": "stream",
     "text": [
      "Clipping input data to the valid range for imshow with RGB data ([0..1] for floats or [0..255] for integers).\n"
     ]
    },
    {
     "data": {
      "image/png": "[encoded data removed]",
      "text/plain": [
       "<Figure size 432x288 with 1 Axes>"
      ]
     },
     "metadata": {
      "needs_background": "light"
     },
     "output_type": "display_data"
    },
    {
     "name": "stderr",
     "output_type": "stream",
     "text": [
      "Clipping input data to the valid range for imshow with RGB data ([0..1] for floats or [0..255] for integers).\n"
     ]
    },
    {
     "data": {
      "image/png": "[encoded data removed]",
      "text/plain": [
       "<Figure size 432x288 with 1 Axes>"
      ]
     },
     "metadata": {
      "needs_background": "light"
     },
     "output_type": "display_data"
    },
    {
     "name": "stderr",
     "output_type": "stream",
     "text": [
      "Clipping input data to the valid range for imshow with RGB data ([0..1] for floats or [0..255] for integers).\n"
     ]
    },
    {
     "data": {
      "image/png": "[encoded data removed]",
      "text/plain": [
       "<Figure size 432x288 with 1 Axes>"
      ]
     },
     "metadata": {
      "needs_background": "light"
     },
     "output_type": "display_data"
    },
    {
     "name": "stderr",
     "output_type": "stream",
     "text": [
      "Clipping input data to the valid range for imshow with RGB data ([0..1] for floats or [0..255] for integers).\n"
     ]
    },
    {
     "data": {
      "image/png": "[encoded data removed]",
      "text/plain": [
       "<Figure size 432x288 with 1 Axes>"
      ]
     },
     "metadata": {
      "needs_background": "light"
     },
     "output_type": "display_data"
    },
    {
     "name": "stderr",
     "output_type": "stream",
     "text": [
      "Clipping input data to the valid range for imshow with RGB data ([0..1] for floats or [0..255] for integers).\n"
     ]
    },
    {
     "data": {
      "image/png": "[encoded data removed]",
      "text/plain": [
       "<Figure size 432x288 with 1 Axes>"
      ]
     },
     "metadata": {
      "needs_background": "light"
     },
     "output_type": "display_data"
    },
    {
     "name": "stderr",
     "output_type": "stream",
     "text": [
      "Clipping input data to the valid range for imshow with RGB data ([0..1] for floats or [0..255] for integers).\n"
     ]
    },
    {
     "data": {
      "image/png": "[encoded data removed]",
      "text/plain": [
       "<Figure size 432x288 with 1 Axes>"
      ]
     },
     "metadata": {
      "needs_background": "light"
     },
     "output_type": "display_data"
    }
   ],
   "source": [
    "for i in classes:\n",
    "    imshow(torchvision.utils.make_grid(images_ls[i]))"
   ]
  },
  {
   "cell_type": "markdown",
   "metadata": {},
   "source": [
    "### Sample from SWAG Posterior Distribution"
   ]
  },
  {
   "cell_type": "code",
   "execution_count": 46,
   "metadata": {},
   "outputs": [
    {
     "name": "stdout",
     "output_type": "stream",
     "text": [
      "Loaded first_mom from disk.\n",
      "Begin NN model training...\n",
      "\n",
      "Begin SWAG training...\n",
      "[Epoch: 1, \tIteration:   500] \tTraining Loss: 0.3370\n",
      "[Epoch: 1, \tIteration:  1000] \tTraining Loss: 0.3506\n",
      "[Epoch: 1, \tIteration:  1500] \tTraining Loss: 0.3372\n",
      "[Epoch: 1, \tIteration:  2000] \tTraining Loss: 0.3434\n",
      "[Epoch: 1, \tIteration:  2500] \tTraining Loss: 0.3550\n",
      "[Epoch: 2, \tIteration:   500] \tTraining Loss: 0.3293\n",
      "[Epoch: 2, \tIteration:  1000] \tTraining Loss: 0.3401\n",
      "[Epoch: 2, \tIteration:  1500] \tTraining Loss: 0.3230\n",
      "[Epoch: 2, \tIteration:  2000] \tTraining Loss: 0.3526\n",
      "[Epoch: 2, \tIteration:  2500] \tTraining Loss: 0.3378\n",
      "[Epoch: 3, \tIteration:   500] \tTraining Loss: 0.3259\n",
      "[Epoch: 3, \tIteration:  1000] \tTraining Loss: 0.3296\n",
      "[Epoch: 3, \tIteration:  1500] \tTraining Loss: 0.3334\n",
      "[Epoch: 3, \tIteration:  2000] \tTraining Loss: 0.3352\n",
      "[Epoch: 3, \tIteration:  2500] \tTraining Loss: 0.3340\n",
      "[Epoch: 4, \tIteration:   500] \tTraining Loss: 0.3061\n",
      "[Epoch: 4, \tIteration:  1000] \tTraining Loss: 0.3198\n",
      "[Epoch: 4, \tIteration:  1500] \tTraining Loss: 0.3303\n",
      "[Epoch: 4, \tIteration:  2000] \tTraining Loss: 0.3105\n",
      "[Epoch: 4, \tIteration:  2500] \tTraining Loss: 0.3463\n",
      "[Epoch: 5, \tIteration:   500] \tTraining Loss: 0.3164\n",
      "[Epoch: 5, \tIteration:  1000] \tTraining Loss: 0.3001\n",
      "[Epoch: 5, \tIteration:  1500] \tTraining Loss: 0.3070\n",
      "[Epoch: 5, \tIteration:  2000] \tTraining Loss: 0.3213\n",
      "[Epoch: 5, \tIteration:  2500] \tTraining Loss: 0.3372\n"
     ]
    }
   ],
   "source": [
    "model_directory_path = '/Users/zhaoliyang/Desktop/AM207/swag_uncertainty/model/Moments/'\n",
    "model_path1 = model_directory_path + 'first_mom.npy'\n",
    "model_path2 = model_directory_path + 'second_mom.npy'\n",
    "model_path3 = model_directory_path + 'D.npy'\n",
    "\n",
    "# Initalize the swag\n",
    "model_swag = CNN()\n",
    "swag = SWAG(CNN, 5, True, model)\n",
    "\n",
    "if not os.path.exists(model_directory_path):\n",
    "        os.makedirs(model_directory_path)\n",
    "if os.path.isfile(model_path1):\n",
    "    # load trained model parameters from disk\n",
    "    first_mom = np.load(model_path1)\n",
    "    swag.first_mom = first_mom\n",
    "    print('Loaded first_mom from disk.')\n",
    "if os.path.isfile(model_path2):\n",
    "    # load trained model parameters from disk\n",
    "    second_mom = np.load(model_path2)\n",
    "    swag.second_mom = second_mom\n",
    "if os.path.isfile(model_path3):\n",
    "    # load trained model parameters from disk\n",
    "    D = np.load(model_path3)\n",
    "    swag.D = D\n",
    "    print('Loaded model parameters from disk.')\n",
    "else:\n",
    "    torch.manual_seed(seed)\n",
    "    np.random.seed(seed)\n",
    "    # Compile swa\n",
    "    objective = 'classification'\n",
    "    lr = 1e-3\n",
    "    momentum=0.9\n",
    "    optimizer = optim.SGD\n",
    "    loss_fn = nn.CrossEntropyLoss()\n",
    "    swa_scheduler = LambdaLR\n",
    "    swag.compile(objective, lr,1, momentum, optimizer, loss_fn, swa_scheduler)\n",
    "    # Fit swag\n",
    "    first_mom, second_mom, D = swag.fit(trainsetLoader,\n",
    "                                        train_epoch=0,\n",
    "                                        swag_epoch=5,\n",
    "                                        log_freq=500,\n",
    "                                        pretrained = True)\n",
    "    np.save(model_path1, first_mom)\n",
    "    np.save(model_path2, second_mom)\n",
    "    np.save(model_path3, D)\n"
   ]
  },
  {
   "cell_type": "code",
   "execution_count": 47,
   "metadata": {},
   "outputs": [
    {
     "name": "stderr",
     "output_type": "stream",
     "text": [
      "/Users/zhaoliyang/Desktop/AM207/swag_uncertainty/code/util.py:36: UserWarning: To copy construct from a tensor, it is recommended to use sourceTensor.clone().detach() or sourceTensor.clone().detach().requires_grad_(True), rather than torch.tensor(sourceTensor).\n",
      "  curr_params = torch.tensor(params_1d[pointer:pointer+length]).reshape(shape)\n"
     ]
    }
   ],
   "source": [
    "seed = 0\n",
    "torch.manual_seed(seed)\n",
    "np.random.seed(seed)\n",
    "# Generate weight samples\n",
    "S = 1000\n",
    "weight_samples = []\n",
    "for i in range(S):\n",
    "    samples = swag.weight_sampler()\n",
    "    weight_samples.append(samples)\n",
    "\n",
    "# Recreate Models:\n",
    "swag_models = []\n",
    "for s, weight_param in enumerate(weight_samples):\n",
    "    model_params = params_1d_to_weights(weight_param, swag.shape_lookup, swag.len_lookup)\n",
    "    new_net = create_NN_with_weights(swag.NN_class, model_params)\n",
    "    swag_models.append(new_net)"
   ]
  },
  {
   "cell_type": "code",
   "execution_count": 48,
   "metadata": {},
   "outputs": [
    {
     "name": "stderr",
     "output_type": "stream",
     "text": [
      "/anaconda3/lib/python3.6/site-packages/ipykernel_launcher.py:11: UserWarning: Implicit dimension choice for softmax has been deprecated. Change the call to include dim=X as an argument.\n",
      "  # This is added back by InteractiveShellApp.init_path()\n"
     ]
    }
   ],
   "source": [
    "seed = 0\n",
    "torch.manual_seed(seed)\n",
    "np.random.seed(seed)\n",
    "Prediction_var = {}\n",
    "sm = torch.nn.Softmax()\n",
    "for i in classes:\n",
    "    data = images_ls[i]\n",
    "    prediction_ls = []\n",
    "    for j in swag_models:\n",
    "        outputs=j(data)\n",
    "        prob = sm(outputs) \n",
    "        Prediction = np.argmax(prob.detach().numpy(),axis = 1)\n",
    "        prediction_ls.append(Prediction)\n",
    "    Prediction_var[i] = np.var(prediction_ls,axis = 0)\n",
    "        "
   ]
  },
  {
   "cell_type": "code",
   "execution_count": 49,
   "metadata": {},
   "outputs": [],
   "source": [
    "Epistemic_df = pd.DataFrame.from_dict(Prediction_var)"
   ]
  },
  {
   "cell_type": "code",
   "execution_count": 50,
   "metadata": {},
   "outputs": [
    {
     "data": {
      "text/plain": [
       "plane    0.163743\n",
       "car      0.192357\n",
       "bird     0.127111\n",
       "cat      0.134103\n",
       "deer     0.168089\n",
       "dog      0.144256\n",
       "frog     0.150841\n",
       "horse    0.162835\n",
       "ship     0.133798\n",
       "truck    0.186610\n",
       "dtype: float64"
      ]
     },
     "execution_count": 50,
     "metadata": {},
     "output_type": "execute_result"
    }
   ],
   "source": [
    "np.mean(Epistemic_df)"
   ]
  },
  {
   "cell_type": "code",
   "execution_count": 51,
   "metadata": {},
   "outputs": [],
   "source": [
    "sort_df = Epistemic_df[Epistemic_df.sum(0).sort_values(ascending=True).index]"
   ]
  },
  {
   "cell_type": "code",
   "execution_count": 52,
   "metadata": {},
   "outputs": [
    {
     "data": {
      "text/plain": [
       "<matplotlib.axes._subplots.AxesSubplot at 0x1bd52ec550>"
      ]
     },
     "execution_count": 52,
     "metadata": {},
     "output_type": "execute_result"
    },
    {
     "data": {
      "image/png": "[encoded data removed]",
      "text/plain": [
       "<Figure size 432x288 with 2 Axes>"
      ]
     },
     "metadata": {
      "needs_background": "light"
     },
     "output_type": "display_data"
    }
   ],
   "source": [
    "sns.heatmap(sort_df)"
   ]
  },
  {
   "cell_type": "markdown",
   "metadata": {},
   "source": [
    "### More Images"
   ]
  },
  {
   "cell_type": "code",
   "execution_count": 53,
   "metadata": {},
   "outputs": [],
   "source": [
    "# seed = 1\n",
    "# torch.manual_seed(seed)\n",
    "# np.random.seed(seed)\n",
    "# # Fixed a test\n",
    "# classes = ('plane', 'car', 'bird', 'cat',\n",
    "#            'deer', 'dog', 'frog', 'horse', 'ship', 'truck')\n",
    "# images_ls = {}\n",
    "# label_ls = {}\n",
    "# for i in classes:\n",
    "#     testset  = \\\n",
    "#         DatasetMaker(\n",
    "#             [get_class_i(x_test , y_test , classDict[i])],\n",
    "#             transform_no_aug\n",
    "#         )\n",
    "\n",
    "#     kwargs = {'num_workers': 2, 'pin_memory': False}\n",
    "\n",
    "#     # Create datasetLoaders from trainset and testset\n",
    "#     testsetLoader    = DataLoader(testset , batch_size=40, shuffle=True, **kwargs)\n",
    "#     dataiter = iter(testsetLoader)\n",
    "#     images, labels = dataiter.next()\n",
    "#     images_ls[i] = images\n",
    "#     label_ls[i] = labels\n",
    "# Prediction_var = {}\n",
    "# sm = torch.nn.Softmax()\n",
    "# for i in classes:\n",
    "#     data = images_ls[i]\n",
    "#     prediction_ls = []\n",
    "#     for j in swag_models:\n",
    "#         outputs=j(data)\n",
    "#         prob = sm(outputs) \n",
    "#         Prediction = np.argmax(prob.detach().numpy(),axis = 1)\n",
    "#         prediction_ls.append(Prediction)\n",
    "#     Prediction_var[i] = np.var(prediction_ls,axis = 0)"
   ]
  },
  {
   "cell_type": "code",
   "execution_count": 54,
   "metadata": {},
   "outputs": [],
   "source": [
    "# Epistemic_df30 = pd.DataFrame.from_dict(Prediction_var)\n",
    "# sort_df30 = Epistemic_df30[Epistemic_df30.sum(0).sort_values(ascending=True).index]"
   ]
  },
  {
   "cell_type": "code",
   "execution_count": 55,
   "metadata": {},
   "outputs": [],
   "source": [
    "# sns.heatmap(sort_df30,cmap=\"YlGnBu\")"
   ]
  },
  {
   "cell_type": "markdown",
   "metadata": {},
   "source": [
    "### More advanced uncertainty estimation method"
   ]
  },
  {
   "cell_type": "markdown",
   "metadata": {},
   "source": [
    "The above uncertainty measurement seems to only work when data have low dimension, in which we can eye ball the results. In this section, I will use a more advanced uncertainty estimation method from the paper \"BaCOUn: Bayesian Classifers with Out-of-Distribution Uncertainty\" (https://arxiv.org/pdf/2007.06096.pdf)\n",
    "\n",
    "Ideally, we should expect to see higher epistemic uncertaintity for instances for held-out classes (classes other than cat and dog) compared to the uncertainty for in-distribution points. (class cat and dog). On the other hand, points from those held-out classes should also have comparable aleatoric uncertainty to in-distribution samples."
   ]
  },
  {
   "cell_type": "markdown",
   "metadata": {},
   "source": [
    "The paper states the following point: Given an ensemble of models (such as the models obtained by sampling from the posterior distribution over the parameters of a BNN), the entropy of the posterior predicted Categorical distribution is a measure of the total predictive uncertainty.\n",
    "The total uncertainty can be further decomposed into: aleatoric uncertainty, arising due to noise, and epistemic uncertainty, arising due to lack of knowledge when no data are observed on a given region of the feature space. We can calculate the expected entropy at a given point by averaging the entropies of the Categorical distributions predicted by each member of the ensemble. This is a measure of aleatoric uncertainty in predicting a single point. Finally, the Mutual Information (MI) between the categorical label y and the pa- rameters of the model W (i.e. in deep learning models these are the weights of the network), calculated by subtracting the expected entropy from total entropy, is a measure of the spread of the ensemble, and in turn a measure of epistemic uncertainty.\n",
    "\n",
    "Mathematcially, it can be expressed as following:\n",
    "\n",
    "$$\n",
    "\\begin{aligned}\n",
    "I(y,W\\mid x^{*},D) &= \\mathbb{H}[\\mathbb{E}_{p(W\\mid D)}[p(y\\mid x^{*},W)]\\\\\n",
    "&- \\mathbb{E}_{p(W\\mid D}[\\mathbb{H}[p(y\\mid x^{*},W]]\\\\\n",
    "\\end{aligned}\n",
    "$$"
   ]
  },
  {
   "cell_type": "code",
   "execution_count": 56,
   "metadata": {},
   "outputs": [],
   "source": [
    "def entropy(p):\n",
    "    return -sum([p[i] * np.log(p[i]) for i in range(len(p))])"
   ]
  },
  {
   "cell_type": "markdown",
   "metadata": {},
   "source": [
    "#### Total Uncertainty (Entropy of the predicted Categorical distribution)"
   ]
  },
  {
   "cell_type": "code",
   "execution_count": 57,
   "metadata": {},
   "outputs": [
    {
     "name": "stderr",
     "output_type": "stream",
     "text": [
      "/anaconda3/lib/python3.6/site-packages/ipykernel_launcher.py:13: UserWarning: Implicit dimension choice for softmax has been deprecated. Change the call to include dim=X as an argument.\n",
      "  del sys.path[0]\n"
     ]
    }
   ],
   "source": [
    "seed = 0\n",
    "torch.manual_seed(seed)\n",
    "np.random.seed(seed)\n",
    "Total_uncetainty = {i:None for i in classes}\n",
    "sm = torch.nn.Softmax()\n",
    "for i in classes:\n",
    "    data = images_ls[i]\n",
    "    for k in data:\n",
    "        prob_sample = []\n",
    "        avg_prob = []\n",
    "        for j in swag_models:\n",
    "            outputs=j(k.reshape(-1,3,32,32))\n",
    "            prob = sm(outputs).detach().numpy()\n",
    "            prob_sample.append(prob)\n",
    "        avg_prob.append(np.mean(prob_sample,axis = 0))\n",
    "    Total_uncetainty[i]=entropy(np.array(avg_prob))"
   ]
  },
  {
   "cell_type": "code",
   "execution_count": 58,
   "metadata": {},
   "outputs": [
    {
     "data": {
      "text/plain": [
       "{'plane': 0.67351097,\n",
       " 'car': 0.67746246,\n",
       " 'bird': 0.5495795,\n",
       " 'cat': 0.61822236,\n",
       " 'deer': 0.66428834,\n",
       " 'dog': 0.6898838,\n",
       " 'frog': 0.6156498,\n",
       " 'horse': 0.691476,\n",
       " 'ship': 0.5045874,\n",
       " 'truck': 0.6908481}"
      ]
     },
     "execution_count": 58,
     "metadata": {},
     "output_type": "execute_result"
    }
   ],
   "source": [
    "Total_uncetainty"
   ]
  },
  {
   "cell_type": "markdown",
   "metadata": {},
   "source": [
    "#### Aleatoric uncertainty"
   ]
  },
  {
   "cell_type": "code",
   "execution_count": 59,
   "metadata": {},
   "outputs": [
    {
     "name": "stderr",
     "output_type": "stream",
     "text": [
      "/anaconda3/lib/python3.6/site-packages/ipykernel_launcher.py:13: UserWarning: Implicit dimension choice for softmax has been deprecated. Change the call to include dim=X as an argument.\n",
      "  del sys.path[0]\n"
     ]
    }
   ],
   "source": [
    "seed = 0\n",
    "torch.manual_seed(seed)\n",
    "np.random.seed(seed)\n",
    "Entropy_ind = {i:[] for i in classes}\n",
    "Aleatoric_uncetainty = {i:None for i in classes}\n",
    "sm = torch.nn.Softmax()\n",
    "for i in classes:\n",
    "    data = images_ls[i]\n",
    "    for k in data:\n",
    "        entro_sample = []\n",
    "        for j in swag_models:\n",
    "            outputs=j(k.reshape(-1,3,32,32))\n",
    "            prob = sm(outputs).detach().numpy()\n",
    "            entro = entropy(prob)\n",
    "            entro_sample.append(entro)\n",
    "        Entropy_ind[i].append(np.array(entro_sample))"
   ]
  },
  {
   "cell_type": "code",
   "execution_count": 60,
   "metadata": {},
   "outputs": [],
   "source": [
    "Aleatoric_uncetainty = {i:np.mean(Entropy_ind[i]) for i in classes}"
   ]
  },
  {
   "cell_type": "code",
   "execution_count": 61,
   "metadata": {},
   "outputs": [
    {
     "data": {
      "text/plain": [
       "{'plane': 0.396947,\n",
       " 'car': 0.4617724,\n",
       " 'bird': 0.3567254,\n",
       " 'cat': 0.38524932,\n",
       " 'deer': 0.4708209,\n",
       " 'dog': 0.35279906,\n",
       " 'frog': 0.41072968,\n",
       " 'horse': 0.4616059,\n",
       " 'ship': 0.40194973,\n",
       " 'truck': 0.46503505}"
      ]
     },
     "execution_count": 61,
     "metadata": {},
     "output_type": "execute_result"
    }
   ],
   "source": [
    "Aleatoric_uncetainty"
   ]
  },
  {
   "cell_type": "markdown",
   "metadata": {},
   "source": [
    "### Epistemic Uncertainty"
   ]
  },
  {
   "cell_type": "code",
   "execution_count": 62,
   "metadata": {},
   "outputs": [],
   "source": [
    "Ep_uncertainty = {i:(Total_uncetainty[i] - Aleatoric_uncetainty[i]) for i in classes}"
   ]
  },
  {
   "cell_type": "code",
   "execution_count": 63,
   "metadata": {},
   "outputs": [
    {
     "data": {
      "text/plain": [
       "{'plane': 0.27656397,\n",
       " 'car': 0.21569005,\n",
       " 'bird': 0.1928541,\n",
       " 'cat': 0.23297304,\n",
       " 'deer': 0.19346744,\n",
       " 'dog': 0.33708477,\n",
       " 'frog': 0.20492014,\n",
       " 'horse': 0.22987008,\n",
       " 'ship': 0.10263768,\n",
       " 'truck': 0.22581306}"
      ]
     },
     "execution_count": 63,
     "metadata": {},
     "output_type": "execute_result"
    }
   ],
   "source": [
    "Ep_uncertainty"
   ]
  },
  {
   "cell_type": "markdown",
   "metadata": {},
   "source": [
    "From above, the results for epistemic uncertainty is definitely not ideal. (i.e. The epistemic uncertainteis for dog and cat are actually higher than that of other categories). There are seveal possible reasons that might result in the above observations:\n",
    "1. The model is not complex enough to classify dogs and cats, since it only achieves around 85% test accuracy. A more complex and power might be more desirable.\n",
    "2. We only apply the model on 5 samples for each category due to the computational limitation, more samples might generate different results.\n",
    "3. The SWAG algorithm simply is not good enough to train a model to detect the OOD samples. It could also be the case that the model is highly sensitive to hyperparameters and fine tuning would be necessary to make the algorithm works."
   ]
  }
 ],
 "metadata": {
  "kernelspec": {
   "display_name": "Python 3",
   "language": "python",
   "name": "python3"
  },
  "language_info": {
   "codemirror_mode": {
    "name": "ipython",
    "version": 3
   },
   "file_extension": ".py",
   "mimetype": "text/x-python",
   "name": "python",
   "nbconvert_exporter": "python",
   "pygments_lexer": "ipython3",
   "version": "3.6.10"
  }
 },
 "nbformat": 4,
 "nbformat_minor": 4
}
