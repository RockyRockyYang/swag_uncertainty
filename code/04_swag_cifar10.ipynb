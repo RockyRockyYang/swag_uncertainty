{
 "cells": [
  {
   "cell_type": "code",
   "execution_count": 59,
   "metadata": {},
   "outputs": [
    {
     "name": "stdout",
     "output_type": "stream",
     "text": [
      "Populating the interactive namespace from numpy and matplotlib\n"
     ]
    }
   ],
   "source": [
    "import numpy as np\n",
    "import pandas as pd\n",
    "import torch\n",
    "import os\n",
    "import torch.nn as nn\n",
    "import torch.nn.functional as F\n",
    "import matplotlib.pyplot as plt\n",
    "import seaborn as sns\n",
    "import torch.optim as optim\n",
    "import torchvision\n",
    "import torchvision.transforms as transforms\n",
    "from torchvision.datasets import CIFAR10\n",
    "from torch.utils.data import Dataset, DataLoader\n",
    "import numpy as np\n",
    "import torchvision\n",
    "import torchvision.transforms as transforms\n",
    "from torch.optim.lr_scheduler import StepLR, LambdaLR, CosineAnnealingLR\n",
    "from torch.utils.data import DataLoader\n",
    "from torchviz import make_dot\n",
    "\n",
    "from swag import SWAG\n",
    "from models import SimpleNet, ConvNN, Classification_relu, Classification_sigmoid, Classification_tanh\n",
    "from util import model_param_to_1D, params_1d_to_weights, create_NN_with_weights, plot_decision_boundary\n",
    "from data_gen import ClassificationDataSet\n",
    "\n",
    "seed = 0\n",
    "torch.manual_seed(seed)\n",
    "np.random.seed(seed)\n",
    "\n",
    "# functions to show an image\n",
    "def imshow(img):\n",
    "    img = img / 2 + 0.5     # unnormalize\n",
    "    npimg = img.numpy()\n",
    "    plt.imshow(np.transpose(npimg, (1, 2, 0)))\n",
    "    plt.show()\n",
    "\n",
    "%pylab inline"
   ]
  },
  {
   "cell_type": "markdown",
   "metadata": {},
   "source": [
    "# Classification on CIFAR10"
   ]
  },
  {
   "cell_type": "markdown",
   "metadata": {},
   "source": [
    "The paper claims that the test accuracies of SWAG on the several image datasets typically outperforms all the baseline models in terms of accuracy.\n",
    "\n",
    "In the below section, we will train a model on the dataset CIFAR-10. The CIFAR-10 dataset is a collection of images that are commonly used to train machine learning and computer vision algorithms:\n",
    "1. It contains 60,000 32x32 color images in 10 different classes. \n",
    "2. The 10 different classes represent airplanes, cars, birds, cats, deer, dogs, frogs, horses, ships, and trucks. \n",
    "3. There are 6000 images of each class.\n",
    "\n",
    "We split the dataset into training and testing set, where the training set contrains 50000 images and the test set contains 10000 images.\n",
    "\n",
    "Due to the computational power limit, we are going to train a Simple Convolutional Neural network with the following architecture."
   ]
  },
  {
   "cell_type": "markdown",
   "metadata": {},
   "source": [
    "## Model Architechture"
   ]
  },
  {
   "cell_type": "code",
   "execution_count": 60,
   "metadata": {},
   "outputs": [],
   "source": [
    "class Net(nn.Module):\n",
    "    def __init__(self):\n",
    "        super(Net, self).__init__()\n",
    "        self.conv1 = nn.Conv2d(3, 6, 5)\n",
    "        self.pool = nn.MaxPool2d(2, 2)\n",
    "        self.conv2 = nn.Conv2d(6, 16, 5)\n",
    "        self.fc1 = nn.Linear(16 * 5 * 5, 120)\n",
    "        self.fc2 = nn.Linear(120, 84)\n",
    "        self.fc3 = nn.Linear(84, 10)\n",
    "\n",
    "    def forward(self, x):\n",
    "        x = self.pool(F.relu(self.conv1(x)))\n",
    "        x = self.pool(F.relu(self.conv2(x)))\n",
    "        x = x.view(-1, 16 * 5 * 5)\n",
    "        x = F.relu(self.fc1(x))\n",
    "        x = F.relu(self.fc2(x))\n",
    "        x = self.fc3(x)\n",
    "        return x"
   ]
  },
  {
   "cell_type": "code",
   "execution_count": 61,
   "metadata": {
    "scrolled": true
   },
   "outputs": [
    {
     "name": "stdout",
     "output_type": "stream",
     "text": [
      "Net(\n",
      "  (conv1): Conv2d(3, 6, kernel_size=(5, 5), stride=(1, 1))\n",
      "  (pool): MaxPool2d(kernel_size=2, stride=2, padding=0, dilation=1, ceil_mode=False)\n",
      "  (conv2): Conv2d(6, 16, kernel_size=(5, 5), stride=(1, 1))\n",
      "  (fc1): Linear(in_features=400, out_features=120, bias=True)\n",
      "  (fc2): Linear(in_features=120, out_features=84, bias=True)\n",
      "  (fc3): Linear(in_features=84, out_features=10, bias=True)\n",
      ")\n"
     ]
    }
   ],
   "source": [
    "net = Net()\n",
    "print(net)"
   ]
  },
  {
   "cell_type": "markdown",
   "metadata": {},
   "source": [
    "### Load train-test data"
   ]
  },
  {
   "cell_type": "code",
   "execution_count": 62,
   "metadata": {},
   "outputs": [
    {
     "name": "stdout",
     "output_type": "stream",
     "text": [
      "Files already downloaded and verified\n",
      "Files already downloaded and verified\n"
     ]
    }
   ],
   "source": [
    "transform_train = transforms.Compose([\n",
    "    transforms.Resize((40, 40)),       \n",
    "    transforms.RandomCrop((32, 32)),\n",
    "    transforms.RandomHorizontalFlip(),\n",
    "    transforms.RandomRotation(15),\n",
    "    transforms.ToTensor(),\n",
    "    transforms.Normalize((0.4914, 0.4822, 0.4465), (0.2023, 0.1994, 0.2010)),\n",
    "])\n",
    "\n",
    "# Normalize the test set same as training set without augmentation\n",
    "transform_test = transforms.Compose([\n",
    "    transforms.ToTensor(),\n",
    "    transforms.Normalize((0.4914, 0.4822, 0.4465), (0.2023, 0.1994, 0.2010)),\n",
    "])\n",
    "\n",
    "trainset = torchvision.datasets.CIFAR10(root='./data', train=True,\n",
    "                                        download=True, transform=transform_train)\n",
    "trainloader = torch.utils.data.DataLoader(trainset, batch_size=3,\n",
    "                                          shuffle=True, num_workers=2)\n",
    "\n",
    "testset = torchvision.datasets.CIFAR10(root='./data', train=False,\n",
    "                                       download=True, transform=transform_test)\n",
    "testloader = torch.utils.data.DataLoader(testset, batch_size=3,\n",
    "                                         shuffle=False, num_workers=2)\n",
    "\n",
    "classes = ('plane', 'car', 'bird', 'cat',\n",
    "           'deer', 'dog', 'frog', 'horse', 'ship', 'truck')"
   ]
  },
  {
   "cell_type": "code",
   "execution_count": 63,
   "metadata": {
    "scrolled": true
   },
   "outputs": [
    {
     "data": {
      "image/svg+xml": [
       "<?xml version=\"1.0\" encoding=\"UTF-8\" standalone=\"no\"?>\n",
       "<!DOCTYPE svg PUBLIC \"-//W3C//DTD SVG 1.1//EN\"\n",
       " \"http://www.w3.org/Graphics/SVG/1.1/DTD/svg11.dtd\">\n",
       "<!-- Generated by graphviz version 2.44.1 (20200629.0846)\n",
       " -->\n",
       "<!-- Pages: 1 -->\n",
       "<svg width=\"420pt\" height=\"864pt\"\n",
       " viewBox=\"0.00 0.00 420.14 864.00\" xmlns=\"http://www.w3.org/2000/svg\" xmlns:xlink=\"http://www.w3.org/1999/xlink\">\n",
       "<g id=\"graph0\" class=\"graph\" transform=\"scale(0.99 0.99) rotate(0) translate(4 870)\">\n",
       "<polygon fill=\"white\" stroke=\"transparent\" points=\"-4,4 -4,-870 421,-870 421,4 -4,4\"/>\n",
       "<!-- 112657946328 -->\n",
       "<g id=\"node1\" class=\"node\">\n",
       "<title>112657946328</title>\n",
       "<polygon fill=\"#caff70\" stroke=\"black\" points=\"300.5,-21 202.5,-21 202.5,0 300.5,0 300.5,-21\"/>\n",
       "<text text-anchor=\"middle\" x=\"251.5\" y=\"-7.4\" font-family=\"Times,serif\" font-size=\"12.00\">MeanBackward0</text>\n",
       "</g>\n",
       "<!-- 4829476232 -->\n",
       "<g id=\"node2\" class=\"node\">\n",
       "<title>4829476232</title>\n",
       "<polygon fill=\"lightgrey\" stroke=\"black\" points=\"303.5,-78 199.5,-78 199.5,-57 303.5,-57 303.5,-78\"/>\n",
       "<text text-anchor=\"middle\" x=\"251.5\" y=\"-64.4\" font-family=\"Times,serif\" font-size=\"12.00\">AddmmBackward</text>\n",
       "</g>\n",
       "<!-- 4829476232&#45;&gt;112657946328 -->\n",
       "<g id=\"edge1\" class=\"edge\">\n",
       "<title>4829476232&#45;&gt;112657946328</title>\n",
       "<path fill=\"none\" stroke=\"black\" d=\"M251.5,-56.92C251.5,-49.91 251.5,-40.14 251.5,-31.47\"/>\n",
       "<polygon fill=\"black\" stroke=\"black\" points=\"255,-31.34 251.5,-21.34 248,-31.34 255,-31.34\"/>\n",
       "</g>\n",
       "<!-- 112601099008 -->\n",
       "<g id=\"node3\" class=\"node\">\n",
       "<title>112601099008</title>\n",
       "<polygon fill=\"lightblue\" stroke=\"black\" points=\"186.5,-148 132.5,-148 132.5,-114 186.5,-114 186.5,-148\"/>\n",
       "<text text-anchor=\"middle\" x=\"159.5\" y=\"-134.4\" font-family=\"Times,serif\" font-size=\"12.00\">fc3.bias</text>\n",
       "<text text-anchor=\"middle\" x=\"159.5\" y=\"-121.4\" font-family=\"Times,serif\" font-size=\"12.00\"> (10)</text>\n",
       "</g>\n",
       "<!-- 112601099008&#45;&gt;4829476232 -->\n",
       "<g id=\"edge2\" class=\"edge\">\n",
       "<title>112601099008&#45;&gt;4829476232</title>\n",
       "<path fill=\"none\" stroke=\"black\" d=\"M183.67,-113.84C197.65,-104.5 215.12,-92.82 228.83,-83.65\"/>\n",
       "<polygon fill=\"black\" stroke=\"black\" points=\"230.86,-86.51 237.23,-78.04 226.97,-80.69 230.86,-86.51\"/>\n",
       "</g>\n",
       "<!-- 112601099512 -->\n",
       "<g id=\"node4\" class=\"node\">\n",
       "<title>112601099512</title>\n",
       "<polygon fill=\"lightgrey\" stroke=\"black\" points=\"298.5,-141.5 204.5,-141.5 204.5,-120.5 298.5,-120.5 298.5,-141.5\"/>\n",
       "<text text-anchor=\"middle\" x=\"251.5\" y=\"-127.9\" font-family=\"Times,serif\" font-size=\"12.00\">ReluBackward0</text>\n",
       "</g>\n",
       "<!-- 112601099512&#45;&gt;4829476232 -->\n",
       "<g id=\"edge3\" class=\"edge\">\n",
       "<title>112601099512&#45;&gt;4829476232</title>\n",
       "<path fill=\"none\" stroke=\"black\" d=\"M251.5,-120.39C251.5,-111.87 251.5,-99.14 251.5,-88.42\"/>\n",
       "<polygon fill=\"black\" stroke=\"black\" points=\"255,-88.24 251.5,-78.24 248,-88.24 255,-88.24\"/>\n",
       "</g>\n",
       "<!-- 112598162008 -->\n",
       "<g id=\"node5\" class=\"node\">\n",
       "<title>112598162008</title>\n",
       "<polygon fill=\"lightgrey\" stroke=\"black\" points=\"302.5,-211.5 198.5,-211.5 198.5,-190.5 302.5,-190.5 302.5,-211.5\"/>\n",
       "<text text-anchor=\"middle\" x=\"250.5\" y=\"-197.9\" font-family=\"Times,serif\" font-size=\"12.00\">AddmmBackward</text>\n",
       "</g>\n",
       "<!-- 112598162008&#45;&gt;112601099512 -->\n",
       "<g id=\"edge4\" class=\"edge\">\n",
       "<title>112598162008&#45;&gt;112601099512</title>\n",
       "<path fill=\"none\" stroke=\"black\" d=\"M250.64,-190.26C250.79,-180.26 251.02,-164.42 251.21,-151.78\"/>\n",
       "<polygon fill=\"black\" stroke=\"black\" points=\"254.71,-151.78 251.36,-141.72 247.71,-151.67 254.71,-151.78\"/>\n",
       "</g>\n",
       "<!-- 112598160720 -->\n",
       "<g id=\"node6\" class=\"node\">\n",
       "<title>112598160720</title>\n",
       "<polygon fill=\"lightblue\" stroke=\"black\" points=\"185.5,-288 131.5,-288 131.5,-254 185.5,-254 185.5,-288\"/>\n",
       "<text text-anchor=\"middle\" x=\"158.5\" y=\"-274.4\" font-family=\"Times,serif\" font-size=\"12.00\">fc2.bias</text>\n",
       "<text text-anchor=\"middle\" x=\"158.5\" y=\"-261.4\" font-family=\"Times,serif\" font-size=\"12.00\"> (84)</text>\n",
       "</g>\n",
       "<!-- 112598160720&#45;&gt;112598162008 -->\n",
       "<g id=\"edge5\" class=\"edge\">\n",
       "<title>112598160720&#45;&gt;112598162008</title>\n",
       "<path fill=\"none\" stroke=\"black\" d=\"M180.3,-253.88C195,-243.02 214.3,-228.75 228.95,-217.93\"/>\n",
       "<polygon fill=\"black\" stroke=\"black\" points=\"231.42,-220.46 237.38,-211.7 227.26,-214.83 231.42,-220.46\"/>\n",
       "</g>\n",
       "<!-- 112565285496 -->\n",
       "<g id=\"node7\" class=\"node\">\n",
       "<title>112565285496</title>\n",
       "<polygon fill=\"lightgrey\" stroke=\"black\" points=\"297.5,-281.5 203.5,-281.5 203.5,-260.5 297.5,-260.5 297.5,-281.5\"/>\n",
       "<text text-anchor=\"middle\" x=\"250.5\" y=\"-267.9\" font-family=\"Times,serif\" font-size=\"12.00\">ReluBackward0</text>\n",
       "</g>\n",
       "<!-- 112565285496&#45;&gt;112598162008 -->\n",
       "<g id=\"edge6\" class=\"edge\">\n",
       "<title>112565285496&#45;&gt;112598162008</title>\n",
       "<path fill=\"none\" stroke=\"black\" d=\"M250.5,-260.26C250.5,-250.26 250.5,-234.42 250.5,-221.78\"/>\n",
       "<polygon fill=\"black\" stroke=\"black\" points=\"254,-221.72 250.5,-211.72 247,-221.72 254,-221.72\"/>\n",
       "</g>\n",
       "<!-- 112563726600 -->\n",
       "<g id=\"node8\" class=\"node\">\n",
       "<title>112563726600</title>\n",
       "<polygon fill=\"lightgrey\" stroke=\"black\" points=\"302.5,-351.5 198.5,-351.5 198.5,-330.5 302.5,-330.5 302.5,-351.5\"/>\n",
       "<text text-anchor=\"middle\" x=\"250.5\" y=\"-337.9\" font-family=\"Times,serif\" font-size=\"12.00\">AddmmBackward</text>\n",
       "</g>\n",
       "<!-- 112563726600&#45;&gt;112565285496 -->\n",
       "<g id=\"edge7\" class=\"edge\">\n",
       "<title>112563726600&#45;&gt;112565285496</title>\n",
       "<path fill=\"none\" stroke=\"black\" d=\"M250.5,-330.26C250.5,-320.26 250.5,-304.42 250.5,-291.78\"/>\n",
       "<polygon fill=\"black\" stroke=\"black\" points=\"254,-291.72 250.5,-281.72 247,-291.72 254,-291.72\"/>\n",
       "</g>\n",
       "<!-- 112563724976 -->\n",
       "<g id=\"node9\" class=\"node\">\n",
       "<title>112563724976</title>\n",
       "<polygon fill=\"lightblue\" stroke=\"black\" points=\"186.5,-428 132.5,-428 132.5,-394 186.5,-394 186.5,-428\"/>\n",
       "<text text-anchor=\"middle\" x=\"159.5\" y=\"-414.4\" font-family=\"Times,serif\" font-size=\"12.00\">fc1.bias</text>\n",
       "<text text-anchor=\"middle\" x=\"159.5\" y=\"-401.4\" font-family=\"Times,serif\" font-size=\"12.00\"> (120)</text>\n",
       "</g>\n",
       "<!-- 112563724976&#45;&gt;112563726600 -->\n",
       "<g id=\"edge8\" class=\"edge\">\n",
       "<title>112563724976&#45;&gt;112563726600</title>\n",
       "<path fill=\"none\" stroke=\"black\" d=\"M181.07,-393.88C195.6,-383.02 214.7,-368.75 229.18,-357.93\"/>\n",
       "<polygon fill=\"black\" stroke=\"black\" points=\"231.61,-360.49 237.52,-351.7 227.42,-354.88 231.61,-360.49\"/>\n",
       "</g>\n",
       "<!-- 112563725256 -->\n",
       "<g id=\"node10\" class=\"node\">\n",
       "<title>112563725256</title>\n",
       "<polygon fill=\"lightgrey\" stroke=\"black\" points=\"296,-421.5 205,-421.5 205,-400.5 296,-400.5 296,-421.5\"/>\n",
       "<text text-anchor=\"middle\" x=\"250.5\" y=\"-407.9\" font-family=\"Times,serif\" font-size=\"12.00\">ViewBackward</text>\n",
       "</g>\n",
       "<!-- 112563725256&#45;&gt;112563726600 -->\n",
       "<g id=\"edge9\" class=\"edge\">\n",
       "<title>112563725256&#45;&gt;112563726600</title>\n",
       "<path fill=\"none\" stroke=\"black\" d=\"M250.5,-400.26C250.5,-390.26 250.5,-374.42 250.5,-361.78\"/>\n",
       "<polygon fill=\"black\" stroke=\"black\" points=\"254,-361.72 250.5,-351.72 247,-361.72 254,-361.72\"/>\n",
       "</g>\n",
       "<!-- 112563727160 -->\n",
       "<g id=\"node11\" class=\"node\">\n",
       "<title>112563727160</title>\n",
       "<polygon fill=\"lightgrey\" stroke=\"black\" points=\"330,-491.5 149,-491.5 149,-470.5 330,-470.5 330,-491.5\"/>\n",
       "<text text-anchor=\"middle\" x=\"239.5\" y=\"-477.9\" font-family=\"Times,serif\" font-size=\"12.00\">MaxPool2DWithIndicesBackward</text>\n",
       "</g>\n",
       "<!-- 112563727160&#45;&gt;112563725256 -->\n",
       "<g id=\"edge10\" class=\"edge\">\n",
       "<title>112563727160&#45;&gt;112563725256</title>\n",
       "<path fill=\"none\" stroke=\"black\" d=\"M241.08,-470.26C242.69,-460.26 245.26,-444.42 247.3,-431.78\"/>\n",
       "<polygon fill=\"black\" stroke=\"black\" points=\"250.79,-432.16 248.93,-421.72 243.87,-431.04 250.79,-432.16\"/>\n",
       "</g>\n",
       "<!-- 112563726656 -->\n",
       "<g id=\"node12\" class=\"node\">\n",
       "<title>112563726656</title>\n",
       "<polygon fill=\"lightgrey\" stroke=\"black\" points=\"286.5,-555 192.5,-555 192.5,-534 286.5,-534 286.5,-555\"/>\n",
       "<text text-anchor=\"middle\" x=\"239.5\" y=\"-541.4\" font-family=\"Times,serif\" font-size=\"12.00\">ReluBackward0</text>\n",
       "</g>\n",
       "<!-- 112563726656&#45;&gt;112563727160 -->\n",
       "<g id=\"edge11\" class=\"edge\">\n",
       "<title>112563726656&#45;&gt;112563727160</title>\n",
       "<path fill=\"none\" stroke=\"black\" d=\"M239.5,-533.89C239.5,-525.37 239.5,-512.64 239.5,-501.92\"/>\n",
       "<polygon fill=\"black\" stroke=\"black\" points=\"243,-501.74 239.5,-491.74 236,-501.74 243,-501.74\"/>\n",
       "</g>\n",
       "<!-- 112563726880 -->\n",
       "<g id=\"node13\" class=\"node\">\n",
       "<title>112563726880</title>\n",
       "<polygon fill=\"lightgrey\" stroke=\"black\" points=\"320.5,-612 158.5,-612 158.5,-591 320.5,-591 320.5,-612\"/>\n",
       "<text text-anchor=\"middle\" x=\"239.5\" y=\"-598.4\" font-family=\"Times,serif\" font-size=\"12.00\">MkldnnConvolutionBackward</text>\n",
       "</g>\n",
       "<!-- 112563726880&#45;&gt;112563726656 -->\n",
       "<g id=\"edge12\" class=\"edge\">\n",
       "<title>112563726880&#45;&gt;112563726656</title>\n",
       "<path fill=\"none\" stroke=\"black\" d=\"M239.5,-590.92C239.5,-583.91 239.5,-574.14 239.5,-565.47\"/>\n",
       "<polygon fill=\"black\" stroke=\"black\" points=\"243,-565.34 239.5,-555.34 236,-565.34 243,-565.34\"/>\n",
       "</g>\n",
       "<!-- 112563724584 -->\n",
       "<g id=\"node14\" class=\"node\">\n",
       "<title>112563724584</title>\n",
       "<polygon fill=\"lightgrey\" stroke=\"black\" points=\"181,-675.5 0,-675.5 0,-654.5 181,-654.5 181,-675.5\"/>\n",
       "<text text-anchor=\"middle\" x=\"90.5\" y=\"-661.9\" font-family=\"Times,serif\" font-size=\"12.00\">MaxPool2DWithIndicesBackward</text>\n",
       "</g>\n",
       "<!-- 112563724584&#45;&gt;112563726880 -->\n",
       "<g id=\"edge13\" class=\"edge\">\n",
       "<title>112563724584&#45;&gt;112563726880</title>\n",
       "<path fill=\"none\" stroke=\"black\" d=\"M113.78,-654.39C138.82,-644.06 178.82,-627.54 206.97,-615.93\"/>\n",
       "<polygon fill=\"black\" stroke=\"black\" points=\"208.47,-619.09 216.38,-612.04 205.8,-612.62 208.47,-619.09\"/>\n",
       "</g>\n",
       "<!-- 112563728224 -->\n",
       "<g id=\"node15\" class=\"node\">\n",
       "<title>112563728224</title>\n",
       "<polygon fill=\"lightgrey\" stroke=\"black\" points=\"137.5,-739 43.5,-739 43.5,-718 137.5,-718 137.5,-739\"/>\n",
       "<text text-anchor=\"middle\" x=\"90.5\" y=\"-725.4\" font-family=\"Times,serif\" font-size=\"12.00\">ReluBackward0</text>\n",
       "</g>\n",
       "<!-- 112563728224&#45;&gt;112563724584 -->\n",
       "<g id=\"edge14\" class=\"edge\">\n",
       "<title>112563728224&#45;&gt;112563724584</title>\n",
       "<path fill=\"none\" stroke=\"black\" d=\"M90.5,-717.89C90.5,-709.37 90.5,-696.64 90.5,-685.92\"/>\n",
       "<polygon fill=\"black\" stroke=\"black\" points=\"94,-685.74 90.5,-675.74 87,-685.74 94,-685.74\"/>\n",
       "</g>\n",
       "<!-- 112563728056 -->\n",
       "<g id=\"node16\" class=\"node\">\n",
       "<title>112563728056</title>\n",
       "<polygon fill=\"lightgrey\" stroke=\"black\" points=\"171.5,-796 9.5,-796 9.5,-775 171.5,-775 171.5,-796\"/>\n",
       "<text text-anchor=\"middle\" x=\"90.5\" y=\"-782.4\" font-family=\"Times,serif\" font-size=\"12.00\">MkldnnConvolutionBackward</text>\n",
       "</g>\n",
       "<!-- 112563728056&#45;&gt;112563728224 -->\n",
       "<g id=\"edge15\" class=\"edge\">\n",
       "<title>112563728056&#45;&gt;112563728224</title>\n",
       "<path fill=\"none\" stroke=\"black\" d=\"M90.5,-774.92C90.5,-767.91 90.5,-758.14 90.5,-749.47\"/>\n",
       "<polygon fill=\"black\" stroke=\"black\" points=\"94,-749.34 90.5,-739.34 87,-749.34 94,-749.34\"/>\n",
       "</g>\n",
       "<!-- 112563728168 -->\n",
       "<g id=\"node17\" class=\"node\">\n",
       "<title>112563728168</title>\n",
       "<polygon fill=\"lightblue\" stroke=\"black\" points=\"85,-866 4,-866 4,-832 85,-832 85,-866\"/>\n",
       "<text text-anchor=\"middle\" x=\"44.5\" y=\"-852.4\" font-family=\"Times,serif\" font-size=\"12.00\">conv1.weight</text>\n",
       "<text text-anchor=\"middle\" x=\"44.5\" y=\"-839.4\" font-family=\"Times,serif\" font-size=\"12.00\"> (6, 3, 5, 5)</text>\n",
       "</g>\n",
       "<!-- 112563728168&#45;&gt;112563728056 -->\n",
       "<g id=\"edge16\" class=\"edge\">\n",
       "<title>112563728168&#45;&gt;112563728056</title>\n",
       "<path fill=\"none\" stroke=\"black\" d=\"M56.59,-831.84C62.97,-823.3 70.83,-812.8 77.36,-804.06\"/>\n",
       "<polygon fill=\"black\" stroke=\"black\" points=\"80.18,-806.15 83.36,-796.04 74.57,-801.95 80.18,-806.15\"/>\n",
       "</g>\n",
       "<!-- 112563727216 -->\n",
       "<g id=\"node18\" class=\"node\">\n",
       "<title>112563727216</title>\n",
       "<polygon fill=\"lightblue\" stroke=\"black\" points=\"171.5,-866 103.5,-866 103.5,-832 171.5,-832 171.5,-866\"/>\n",
       "<text text-anchor=\"middle\" x=\"137.5\" y=\"-852.4\" font-family=\"Times,serif\" font-size=\"12.00\">conv1.bias</text>\n",
       "<text text-anchor=\"middle\" x=\"137.5\" y=\"-839.4\" font-family=\"Times,serif\" font-size=\"12.00\"> (6)</text>\n",
       "</g>\n",
       "<!-- 112563727216&#45;&gt;112563728056 -->\n",
       "<g id=\"edge17\" class=\"edge\">\n",
       "<title>112563727216&#45;&gt;112563728056</title>\n",
       "<path fill=\"none\" stroke=\"black\" d=\"M125.15,-831.84C118.62,-823.3 110.6,-812.8 103.92,-804.06\"/>\n",
       "<polygon fill=\"black\" stroke=\"black\" points=\"106.65,-801.86 97.79,-796.04 101.08,-806.11 106.65,-801.86\"/>\n",
       "</g>\n",
       "<!-- 112563727552 -->\n",
       "<g id=\"node19\" class=\"node\">\n",
       "<title>112563727552</title>\n",
       "<polygon fill=\"lightblue\" stroke=\"black\" points=\"280,-682 199,-682 199,-648 280,-648 280,-682\"/>\n",
       "<text text-anchor=\"middle\" x=\"239.5\" y=\"-668.4\" font-family=\"Times,serif\" font-size=\"12.00\">conv2.weight</text>\n",
       "<text text-anchor=\"middle\" x=\"239.5\" y=\"-655.4\" font-family=\"Times,serif\" font-size=\"12.00\"> (16, 6, 5, 5)</text>\n",
       "</g>\n",
       "<!-- 112563727552&#45;&gt;112563726880 -->\n",
       "<g id=\"edge18\" class=\"edge\">\n",
       "<title>112563727552&#45;&gt;112563726880</title>\n",
       "<path fill=\"none\" stroke=\"black\" d=\"M239.5,-647.84C239.5,-640.01 239.5,-630.54 239.5,-622.28\"/>\n",
       "<polygon fill=\"black\" stroke=\"black\" points=\"243,-622.04 239.5,-612.04 236,-622.04 243,-622.04\"/>\n",
       "</g>\n",
       "<!-- 112563724808 -->\n",
       "<g id=\"node20\" class=\"node\">\n",
       "<title>112563724808</title>\n",
       "<polygon fill=\"lightblue\" stroke=\"black\" points=\"366.5,-682 298.5,-682 298.5,-648 366.5,-648 366.5,-682\"/>\n",
       "<text text-anchor=\"middle\" x=\"332.5\" y=\"-668.4\" font-family=\"Times,serif\" font-size=\"12.00\">conv2.bias</text>\n",
       "<text text-anchor=\"middle\" x=\"332.5\" y=\"-655.4\" font-family=\"Times,serif\" font-size=\"12.00\"> (16)</text>\n",
       "</g>\n",
       "<!-- 112563724808&#45;&gt;112563726880 -->\n",
       "<g id=\"edge19\" class=\"edge\">\n",
       "<title>112563724808&#45;&gt;112563726880</title>\n",
       "<path fill=\"none\" stroke=\"black\" d=\"M308.07,-647.84C293.94,-638.5 276.27,-626.82 262.41,-617.65\"/>\n",
       "<polygon fill=\"black\" stroke=\"black\" points=\"264.2,-614.64 253.93,-612.04 260.34,-620.48 264.2,-614.64\"/>\n",
       "</g>\n",
       "<!-- 112563728000 -->\n",
       "<g id=\"node21\" class=\"node\">\n",
       "<title>112563728000</title>\n",
       "<polygon fill=\"lightgrey\" stroke=\"black\" points=\"408,-421.5 335,-421.5 335,-400.5 408,-400.5 408,-421.5\"/>\n",
       "<text text-anchor=\"middle\" x=\"371.5\" y=\"-407.9\" font-family=\"Times,serif\" font-size=\"12.00\">TBackward</text>\n",
       "</g>\n",
       "<!-- 112563728000&#45;&gt;112563726600 -->\n",
       "<g id=\"edge20\" class=\"edge\">\n",
       "<title>112563728000&#45;&gt;112563726600</title>\n",
       "<path fill=\"none\" stroke=\"black\" d=\"M354.42,-400.4C334.06,-388.96 299.84,-369.73 276.26,-356.48\"/>\n",
       "<polygon fill=\"black\" stroke=\"black\" points=\"277.93,-353.4 267.49,-351.55 274.5,-359.5 277.93,-353.4\"/>\n",
       "</g>\n",
       "<!-- 112563727496 -->\n",
       "<g id=\"node22\" class=\"node\">\n",
       "<title>112563727496</title>\n",
       "<polygon fill=\"lightblue\" stroke=\"black\" points=\"417,-498 348,-498 348,-464 417,-464 417,-498\"/>\n",
       "<text text-anchor=\"middle\" x=\"382.5\" y=\"-484.4\" font-family=\"Times,serif\" font-size=\"12.00\">fc1.weight</text>\n",
       "<text text-anchor=\"middle\" x=\"382.5\" y=\"-471.4\" font-family=\"Times,serif\" font-size=\"12.00\"> (120, 400)</text>\n",
       "</g>\n",
       "<!-- 112563727496&#45;&gt;112563728000 -->\n",
       "<g id=\"edge21\" class=\"edge\">\n",
       "<title>112563727496&#45;&gt;112563728000</title>\n",
       "<path fill=\"none\" stroke=\"black\" d=\"M379.89,-463.88C378.34,-454.31 376.37,-442.09 374.72,-431.91\"/>\n",
       "<polygon fill=\"black\" stroke=\"black\" points=\"378.15,-431.21 373.1,-421.89 371.24,-432.33 378.15,-431.21\"/>\n",
       "</g>\n",
       "<!-- 112565288912 -->\n",
       "<g id=\"node23\" class=\"node\">\n",
       "<title>112565288912</title>\n",
       "<polygon fill=\"lightgrey\" stroke=\"black\" points=\"390,-281.5 317,-281.5 317,-260.5 390,-260.5 390,-281.5\"/>\n",
       "<text text-anchor=\"middle\" x=\"353.5\" y=\"-267.9\" font-family=\"Times,serif\" font-size=\"12.00\">TBackward</text>\n",
       "</g>\n",
       "<!-- 112565288912&#45;&gt;112598162008 -->\n",
       "<g id=\"edge22\" class=\"edge\">\n",
       "<title>112565288912&#45;&gt;112598162008</title>\n",
       "<path fill=\"none\" stroke=\"black\" d=\"M338.74,-260.26C321.67,-248.98 293.34,-230.29 273.4,-217.12\"/>\n",
       "<polygon fill=\"black\" stroke=\"black\" points=\"275.17,-214.09 264.9,-211.51 271.31,-219.94 275.17,-214.09\"/>\n",
       "</g>\n",
       "<!-- 112563726376 -->\n",
       "<g id=\"node24\" class=\"node\">\n",
       "<title>112563726376</title>\n",
       "<polygon fill=\"lightblue\" stroke=\"black\" points=\"388,-358 321,-358 321,-324 388,-324 388,-358\"/>\n",
       "<text text-anchor=\"middle\" x=\"354.5\" y=\"-344.4\" font-family=\"Times,serif\" font-size=\"12.00\">fc2.weight</text>\n",
       "<text text-anchor=\"middle\" x=\"354.5\" y=\"-331.4\" font-family=\"Times,serif\" font-size=\"12.00\"> (84, 120)</text>\n",
       "</g>\n",
       "<!-- 112563726376&#45;&gt;112565288912 -->\n",
       "<g id=\"edge23\" class=\"edge\">\n",
       "<title>112563726376&#45;&gt;112565288912</title>\n",
       "<path fill=\"none\" stroke=\"black\" d=\"M354.26,-323.88C354.12,-314.31 353.94,-302.09 353.79,-291.91\"/>\n",
       "<polygon fill=\"black\" stroke=\"black\" points=\"357.29,-291.84 353.65,-281.89 350.29,-291.95 357.29,-291.84\"/>\n",
       "</g>\n",
       "<!-- 112601099624 -->\n",
       "<g id=\"node25\" class=\"node\">\n",
       "<title>112601099624</title>\n",
       "<polygon fill=\"lightgrey\" stroke=\"black\" points=\"391,-141.5 318,-141.5 318,-120.5 391,-120.5 391,-141.5\"/>\n",
       "<text text-anchor=\"middle\" x=\"354.5\" y=\"-127.9\" font-family=\"Times,serif\" font-size=\"12.00\">TBackward</text>\n",
       "</g>\n",
       "<!-- 112601099624&#45;&gt;4829476232 -->\n",
       "<g id=\"edge24\" class=\"edge\">\n",
       "<title>112601099624&#45;&gt;4829476232</title>\n",
       "<path fill=\"none\" stroke=\"black\" d=\"M338.41,-120.39C321.78,-110.46 295.6,-94.83 276.32,-83.32\"/>\n",
       "<polygon fill=\"black\" stroke=\"black\" points=\"277.86,-80.16 267.48,-78.04 274.27,-86.17 277.86,-80.16\"/>\n",
       "</g>\n",
       "<!-- 112598161952 -->\n",
       "<g id=\"node26\" class=\"node\">\n",
       "<title>112598161952</title>\n",
       "<polygon fill=\"lightblue\" stroke=\"black\" points=\"388,-218 321,-218 321,-184 388,-184 388,-218\"/>\n",
       "<text text-anchor=\"middle\" x=\"354.5\" y=\"-204.4\" font-family=\"Times,serif\" font-size=\"12.00\">fc3.weight</text>\n",
       "<text text-anchor=\"middle\" x=\"354.5\" y=\"-191.4\" font-family=\"Times,serif\" font-size=\"12.00\"> (10, 84)</text>\n",
       "</g>\n",
       "<!-- 112598161952&#45;&gt;112601099624 -->\n",
       "<g id=\"edge25\" class=\"edge\">\n",
       "<title>112598161952&#45;&gt;112601099624</title>\n",
       "<path fill=\"none\" stroke=\"black\" d=\"M354.5,-183.88C354.5,-174.31 354.5,-162.09 354.5,-151.91\"/>\n",
       "<polygon fill=\"black\" stroke=\"black\" points=\"358,-151.89 354.5,-141.89 351,-151.89 358,-151.89\"/>\n",
       "</g>\n",
       "</g>\n",
       "</svg>\n"
      ],
      "text/plain": [
       "<graphviz.dot.Digraph at 0x1a4a4ac4e0>"
      ]
     },
     "execution_count": 63,
     "metadata": {},
     "output_type": "execute_result"
    }
   ],
   "source": [
    "dataiter = iter(trainloader)\n",
    "images, labels = dataiter.next()\n",
    "y = net(images)\n",
    "make_dot(y.mean(),params = dict(net.named_parameters()))"
   ]
  },
  {
   "cell_type": "markdown",
   "metadata": {},
   "source": [
    "### Loss function and optmizer"
   ]
  },
  {
   "cell_type": "code",
   "execution_count": 64,
   "metadata": {},
   "outputs": [],
   "source": [
    "# Use the Classification Cross-Entropy loss and Adam optimizer.\n",
    "criterion = nn.CrossEntropyLoss()\n",
    "optimizer = optim.SGD(net.parameters(), lr=0.001, momentum=0.9)"
   ]
  },
  {
   "cell_type": "code",
   "execution_count": 65,
   "metadata": {},
   "outputs": [
    {
     "data": {
      "text/plain": [
       "Dataset CIFAR10\n",
       "    Number of datapoints: 50000\n",
       "    Root location: ./data\n",
       "    Split: Train\n",
       "    StandardTransform\n",
       "Transform: Compose(\n",
       "               Resize(size=(40, 40), interpolation=PIL.Image.BILINEAR)\n",
       "               RandomCrop(size=(32, 32), padding=None)\n",
       "               RandomHorizontalFlip(p=0.5)\n",
       "               RandomRotation(degrees=[-15.0, 15.0], resample=False, expand=False)\n",
       "               ToTensor()\n",
       "               Normalize(mean=(0.4914, 0.4822, 0.4465), std=(0.2023, 0.1994, 0.201))\n",
       "           )"
      ]
     },
     "execution_count": 65,
     "metadata": {},
     "output_type": "execute_result"
    }
   ],
   "source": [
    "trainset"
   ]
  },
  {
   "cell_type": "code",
   "execution_count": 66,
   "metadata": {},
   "outputs": [
    {
     "name": "stderr",
     "output_type": "stream",
     "text": [
      "Clipping input data to the valid range for imshow with RGB data ([0..1] for floats or [0..255] for integers).\n"
     ]
    },
    {
     "name": "stdout",
     "output_type": "stream",
     "text": [
      "tensor([7, 8, 2])\n",
      "horse  ship  bird\n"
     ]
    },
    {
     "data": {
      "image/png": "[encoded data removed]",
      "text/plain": [
       "<Figure size 432x288 with 1 Axes>"
      ]
     },
     "metadata": {
      "needs_background": "light"
     },
     "output_type": "display_data"
    }
   ],
   "source": [
    "# functions to show an image\n",
    "def imshow(img):\n",
    "    img = img / 2 + 0.5     # unnormalize\n",
    "    npimg = img.numpy()\n",
    "    plt.imshow(np.transpose(npimg, (1, 2, 0)))\n",
    "    plt.show()\n",
    "\n",
    "# get some random training images\n",
    "dataiter = iter(trainloader)\n",
    "images, labels = dataiter.next()\n",
    "\n",
    "# print labels\n",
    "print(labels)\n",
    "print(' '.join('%5s' % classes[labels[j]] for j in range(3)))\n",
    "# show images\n",
    "imshow(torchvision.utils.make_grid(images))"
   ]
  },
  {
   "cell_type": "markdown",
   "metadata": {},
   "source": [
    "## Training without SWAG"
   ]
  },
  {
   "cell_type": "markdown",
   "metadata": {},
   "source": [
    "### Training the model"
   ]
  },
  {
   "cell_type": "code",
   "execution_count": 9,
   "metadata": {},
   "outputs": [],
   "source": [
    "def data_train(model= net, epoch = 2, model_path = '', optimizer = optimizer, criterion = criterion,trainloader = trainloader,batch = 2000):\n",
    "    for epoch in range(epoch):  # loop over the dataset multiple times\n",
    "\n",
    "        running_loss = 0.0\n",
    "        for i, data in enumerate(trainloader, 0):\n",
    "            # get the inputs\n",
    "            inputs, labels = data\n",
    "\n",
    "            # zero the parameter gradients\n",
    "            optimizer.zero_grad()\n",
    "\n",
    "            # forward + backward + optimize\n",
    "            outputs = model(inputs)\n",
    "            loss = criterion(outputs, labels)\n",
    "            loss.backward()\n",
    "            optimizer.step()\n",
    "\n",
    "            # print statistics\n",
    "            running_loss += loss.item()\n",
    "            if i % batch == (batch-1):    # print every 2000 mini-batches\n",
    "                print('[%d, %5d] loss: %.3f' %\n",
    "                      (epoch + 1, i + 1, running_loss / batch))\n",
    "                running_loss = 0.0\n",
    "    print('Finished Training.')\n",
    "    torch.save(model.state_dict(), model_path)\n",
    "    print('Saved model parameters to disk.')\n",
    "    "
   ]
  },
  {
   "cell_type": "code",
   "execution_count": 10,
   "metadata": {},
   "outputs": [
    {
     "name": "stdout",
     "output_type": "stream",
     "text": [
      "Loaded model parameters from disk.\n"
     ]
    }
   ],
   "source": [
    "import os\n",
    "\n",
    "model_directory_path = '/Users/zhaoliyang/Desktop/AM207/swag_uncertainty/model/'\n",
    "model_path = model_directory_path + 'cifar-10-cnn-model.pt'\n",
    "\n",
    "if not os.path.exists(model_directory_path):\n",
    "    os.makedirs(model_directory_path)\n",
    "\n",
    "if os.path.isfile(model_path):\n",
    "    # load trained model parameters from disk\n",
    "    net.load_state_dict(torch.load(model_path))\n",
    "    print('Loaded model parameters from disk.')\n",
    "else:\n",
    "    data_train(net,3,model_path)"
   ]
  },
  {
   "cell_type": "code",
   "execution_count": 11,
   "metadata": {},
   "outputs": [
    {
     "name": "stderr",
     "output_type": "stream",
     "text": [
      "Clipping input data to the valid range for imshow with RGB data ([0..1] for floats or [0..255] for integers).\n",
      "Clipping input data to the valid range for imshow with RGB data ([0..1] for floats or [0..255] for integers).\n",
      "Clipping input data to the valid range for imshow with RGB data ([0..1] for floats or [0..255] for integers).\n"
     ]
    },
    {
     "data": {
      "image/png": "[encoded data removed]",
      "text/plain": [
       "<Figure size 864x180 with 3 Axes>"
      ]
     },
     "metadata": {},
     "output_type": "display_data"
    }
   ],
   "source": [
    "def convert_to_imshow_format(image):\n",
    "    # first convert back to [0,1] range from [-1,1] range\n",
    "    image = image / 2 + 0.5\n",
    "    image = image.numpy()\n",
    "    # convert from CHW to HWC\n",
    "    # from 3x32x32 to 32x32x3\n",
    "    return image.transpose(1,2,0)\n",
    "dataiter = iter(testloader)\n",
    "images, labels = dataiter.next()\n",
    "\n",
    "fig, axes = plt.subplots(1, len(images), figsize=(12,2.5))\n",
    "for idx, image in enumerate(images):\n",
    "    axes[idx].imshow(convert_to_imshow_format(image))\n",
    "    axes[idx].set_title(classes[labels[idx]])\n",
    "    axes[idx].set_xticks([])\n",
    "    axes[idx].set_yticks([])"
   ]
  },
  {
   "cell_type": "markdown",
   "metadata": {},
   "source": [
    "### Test Accuracy"
   ]
  },
  {
   "cell_type": "code",
   "execution_count": 46,
   "metadata": {},
   "outputs": [],
   "source": [
    "def test_accuracy(model, testloader = testloader, classes = classes):\n",
    "    # Overall accuracy on\n",
    "    total_correct = 0\n",
    "    total_images = 0\n",
    "    confusion_matrix = np.zeros([len(classes),len(classes)], int)\n",
    "    with torch.no_grad():\n",
    "        for data in testloader:\n",
    "            images, labels = data\n",
    "            outputs = model(images)\n",
    "            _, predicted = torch.max(outputs.data, 1)\n",
    "            total_images += labels.size(0)\n",
    "            total_correct += (predicted == labels).sum().item()\n",
    "            for i, l in enumerate(labels):\n",
    "                confusion_matrix[l.item(), predicted[i].item()] += 1 \n",
    "\n",
    "    model_accuracy = total_correct / total_images * 100\n",
    "    print('Model accuracy on {0} test images: {1:.2f}%'.format(total_images, model_accuracy))\n",
    "    return confusion_matrix"
   ]
  },
  {
   "cell_type": "code",
   "execution_count": 13,
   "metadata": {},
   "outputs": [
    {
     "name": "stdout",
     "output_type": "stream",
     "text": [
      "Model accuracy on 10000 test images: 53.07%\n"
     ]
    }
   ],
   "source": [
    "confusion_matrix = test_accuracy(net)"
   ]
  },
  {
   "cell_type": "code",
   "execution_count": 47,
   "metadata": {},
   "outputs": [],
   "source": [
    "def accuracy_class(cm):\n",
    "    # On different categories\n",
    "    print('{0:10s} - {1}'.format('Category','Accuracy'))\n",
    "    for i, r in enumerate(cm):\n",
    "        print('{0:10s} - {1:.1f}'.format(classes[i], r[i]/np.sum(r)*100))"
   ]
  },
  {
   "cell_type": "code",
   "execution_count": 15,
   "metadata": {},
   "outputs": [
    {
     "name": "stdout",
     "output_type": "stream",
     "text": [
      "Category   - Accuracy\n",
      "plane      - 51.1\n",
      "car        - 76.4\n",
      "bird       - 27.1\n",
      "cat        - 37.5\n",
      "deer       - 41.9\n",
      "dog        - 27.6\n",
      "frog       - 75.3\n",
      "horse      - 63.8\n",
      "ship       - 70.2\n",
      "truck      - 59.8\n"
     ]
    }
   ],
   "source": [
    "accuracy_class(confusion_matrix)"
   ]
  },
  {
   "cell_type": "markdown",
   "metadata": {},
   "source": [
    "## Swag"
   ]
  },
  {
   "cell_type": "code",
   "execution_count": 16,
   "metadata": {},
   "outputs": [
    {
     "name": "stderr",
     "output_type": "stream",
     "text": [
      "/anaconda3/lib/python3.6/site-packages/torch/nn/modules/container.py:434: UserWarning: Setting attributes on ParameterList is not supported.\n",
      "  warnings.warn(\"Setting attributes on ParameterList is not supported.\")\n"
     ]
    }
   ],
   "source": [
    "swag = SWAG(Net, 3, True, net)"
   ]
  },
  {
   "cell_type": "code",
   "execution_count": 17,
   "metadata": {},
   "outputs": [],
   "source": [
    "# Compile swa\n",
    "objective = 'classification'\n",
    "lr = 1e-3\n",
    "momentum=0.9\n",
    "optimizer = optim.SGD\n",
    "loss_fn = nn.CrossEntropyLoss()\n",
    "swa_scheduler = LambdaLR\n",
    "\n",
    "swag.compile(objective, lr,1, momentum, optimizer, loss_fn, swa_scheduler)"
   ]
  },
  {
   "cell_type": "code",
   "execution_count": 28,
   "metadata": {},
   "outputs": [
    {
     "name": "stdout",
     "output_type": "stream",
     "text": [
      "Begin NN model training...\n",
      "\n",
      "Begin SWAG training...\n",
      "[Epoch: 1, \tIteration:  4000] \tTraining Loss: 1.4128\n",
      "[Epoch: 1, \tIteration:  8000] \tTraining Loss: 1.4037\n",
      "[Epoch: 1, \tIteration: 12000] \tTraining Loss: 1.4100\n",
      "[Epoch: 1, \tIteration: 16000] \tTraining Loss: 1.4190\n",
      "[Epoch: 2, \tIteration:  4000] \tTraining Loss: 1.3848\n",
      "[Epoch: 2, \tIteration:  8000] \tTraining Loss: 1.4046\n",
      "[Epoch: 2, \tIteration: 12000] \tTraining Loss: 1.3964\n",
      "[Epoch: 2, \tIteration: 16000] \tTraining Loss: 1.4118\n",
      "[Epoch: 3, \tIteration:  4000] \tTraining Loss: 1.3951\n",
      "[Epoch: 3, \tIteration:  8000] \tTraining Loss: 1.3989\n",
      "[Epoch: 3, \tIteration: 12000] \tTraining Loss: 1.4122\n",
      "[Epoch: 3, \tIteration: 16000] \tTraining Loss: 1.4001\n"
     ]
    }
   ],
   "source": [
    "# Fit swag\n",
    "first_mom, second_mom, D = swag.fit(trainloader,\n",
    "                                    train_epoch=0,\n",
    "                                    swag_epoch=3,\n",
    "                                    log_freq=4000,\n",
    "                                   pretrained = True)"
   ]
  },
  {
   "cell_type": "code",
   "execution_count": 29,
   "metadata": {},
   "outputs": [],
   "source": [
    "# Test prediction\n",
    "testiter = iter(testloader)\n",
    "X_test, y_test = testiter.next()\n",
    "params_1d, shape_lookup, len_lookup = model_param_to_1D(net)\n",
    "model_params = params_1d_to_weights(first_mom, shape_lookup, len_lookup)"
   ]
  },
  {
   "cell_type": "code",
   "execution_count": 30,
   "metadata": {},
   "outputs": [],
   "source": [
    "new_net = create_NN_with_weights(Net, model_params)"
   ]
  },
  {
   "cell_type": "code",
   "execution_count": 32,
   "metadata": {},
   "outputs": [
    {
     "name": "stdout",
     "output_type": "stream",
     "text": [
      "Model accuracy on 10000 test images: 54.95%\n"
     ]
    }
   ],
   "source": [
    "# Overall accuracy\n",
    "confusion_matrix_swag = test_accuracy(new_net)"
   ]
  },
  {
   "cell_type": "code",
   "execution_count": 33,
   "metadata": {},
   "outputs": [
    {
     "name": "stdout",
     "output_type": "stream",
     "text": [
      "Category   - Accuracy\n",
      "plane      - 49.2\n",
      "car        - 72.9\n",
      "bird       - 31.3\n",
      "cat        - 23.4\n",
      "deer       - 36.4\n",
      "dog        - 34.7\n",
      "frog       - 82.5\n",
      "horse      - 68.6\n",
      "ship       - 74.2\n",
      "truck      - 76.3\n"
     ]
    }
   ],
   "source": [
    "accuracy_class(confusion_matrix_swag)"
   ]
  },
  {
   "cell_type": "markdown",
   "metadata": {},
   "source": [
    "From the above results, we trained 3 epochs on our simple CNN models and got overall accuracy of 53.07% on the test set classification task. After that, we used the weights of the trained network as initial value of the SWAG weights and performed swag algorithm for 3 epochs. We see that the accuracy has increased around 2% to 54.95%. Indeed, the SWAG algorithm is capable of outperforming the baseline model in terms of accuracy."
   ]
  },
  {
   "cell_type": "markdown",
   "metadata": {},
   "source": [
    "## Uncertainty Measurement\n",
    "\n",
    "From the above experiment, we verify that SWAG algorithm is capable of outperforming the baseline model in terms of accuracy on a simple neural network model. What's more important is that we want to measure if the SWAG algorithm is able to help the model to detect the out-of-distribution samples. \n",
    "\n",
    "We will interpret the output of our Neural Network Model - the classification probability - as an indicator of the confidence of the model when it is classifying a specific data point. Specifically, we will only train the model on 2 categories of the image (e.g. when the probability is close to 0.5, we say that the model is not confident in classifying the data point as class 1 or 0).\n",
    "\n",
    "After training the model via SWAG algorithm, we are able to draw sets of parameters and form a posterior distribution of the model. As a result, we will apply those models on a predefined set of test images (some of them are OOD samples) and check the classification probability again."
   ]
  },
  {
   "cell_type": "markdown",
   "metadata": {},
   "source": [
    "### Write functions to choose only specific classes of CIFAR-10"
   ]
  },
  {
   "cell_type": "code",
   "execution_count": 300,
   "metadata": {},
   "outputs": [
    {
     "name": "stdout",
     "output_type": "stream",
     "text": [
      "Files already downloaded and verified\n",
      "Files already downloaded and verified\n"
     ]
    }
   ],
   "source": [
    "# Transformations\n",
    "RC   = transforms.RandomCrop(32, padding=4)\n",
    "RHF  = transforms.RandomHorizontalFlip()\n",
    "RVF  = transforms.RandomVerticalFlip()\n",
    "NRM  = transforms.Normalize((0.4914, 0.4822, 0.4465), (0.2023, 0.1994, 0.2010))\n",
    "TT   = transforms.ToTensor()\n",
    "TPIL = transforms.ToPILImage()\n",
    "\n",
    "# Transforms object for trainset with augmentation\n",
    "transform_with_aug = transforms.Compose([TPIL, RC, RHF, TT, NRM])\n",
    "# Transforms object for testset with NO augmentation\n",
    "transform_no_aug   = transforms.Compose([TT, NRM])\n",
    "\n",
    "# Downloading/Louding CIFAR10 data\n",
    "trainset  = CIFAR10(root='./data', train=True , download=True)#, transform = transform_with_aug)\n",
    "testset   = CIFAR10(root='./data', train=False, download=True)#, transform = transform_no_aug)\n",
    "classDict = {'plane':0, 'car':1, 'bird':2, 'cat':3, 'deer':4, 'dog':5, 'frog':6, 'horse':7, 'ship':8, 'truck':9}\n",
    "\n",
    "# Separating trainset/testset data/label\n",
    "x_train  = trainset.data\n",
    "x_test   = testset.data\n",
    "y_train  = trainset.targets\n",
    "y_test   = testset.targets\n",
    "\n",
    "# Define a function to separate CIFAR classes by class index\n",
    "\n",
    "def get_class_i(x, y, i):\n",
    "    \"\"\"\n",
    "    x: trainset.train_data or testset.test_data\n",
    "    y: trainset.train_labels or testset.test_labels\n",
    "    i: class label, a number between 0 to 9\n",
    "    return: x_i\n",
    "    \"\"\"\n",
    "    # Convert to a numpy array\n",
    "    y = np.array(y)\n",
    "    # Locate position of labels that equal to i\n",
    "    pos_i = np.argwhere(y == i)\n",
    "    # Convert the result into a 1-D list\n",
    "    pos_i = list(pos_i[:,0])\n",
    "    # Collect all data that match the desired label\n",
    "    x_i = [x[j] for j in pos_i]\n",
    "    \n",
    "    return x_i\n",
    "\n",
    "class DatasetMaker(Dataset):\n",
    "    def __init__(self, datasets, transformFunc = transform_no_aug):\n",
    "        \"\"\"\n",
    "        datasets: a list of get_class_i outputs, i.e. a list of list of images for selected classes\n",
    "        \"\"\"\n",
    "        self.datasets = datasets\n",
    "        self.lengths  = [len(d) for d in self.datasets]\n",
    "        self.transformFunc = transformFunc\n",
    "    def __getitem__(self, i):\n",
    "        class_label, index_wrt_class = self.index_of_which_bin(self.lengths, i)\n",
    "        img = self.datasets[class_label][index_wrt_class]\n",
    "        img = self.transformFunc(img)\n",
    "        return img, class_label\n",
    "\n",
    "    def __len__(self):\n",
    "        return sum(self.lengths)\n",
    "    \n",
    "    def index_of_which_bin(self, bin_sizes, absolute_index, verbose=False):\n",
    "        \"\"\"\n",
    "        Given the absolute index, returns which bin it falls in and which element of that bin it corresponds to.\n",
    "        \"\"\"\n",
    "        # Which class/bin does i fall into?\n",
    "        accum = np.add.accumulate(bin_sizes)\n",
    "        if verbose:\n",
    "            print(\"accum =\", accum)\n",
    "        bin_index  = len(np.argwhere(accum <= absolute_index))\n",
    "        if verbose:\n",
    "            print(\"class_label =\", bin_index)\n",
    "        # Which element of the fallent class/bin does i correspond to?\n",
    "        index_wrt_class = absolute_index - np.insert(accum, 0, 0)[bin_index]\n",
    "        if verbose:\n",
    "            print(\"index_wrt_class =\", index_wrt_class)\n",
    "\n",
    "        return bin_index, index_wrt_class"
   ]
  },
  {
   "cell_type": "code",
   "execution_count": 301,
   "metadata": {},
   "outputs": [],
   "source": [
    "# Choose only cats (class 3 of CIFAR) and dogs (class 5 of CIFAR) as trainset/testset\n",
    "cat_dog_trainset = \\\n",
    "    DatasetMaker(\n",
    "        [get_class_i(x_train, y_train, classDict['cat']), get_class_i(x_train, y_train, classDict['dog'])],\n",
    "        transform_with_aug\n",
    "    )\n",
    "cat_dog_testset  = \\\n",
    "    DatasetMaker(\n",
    "        [get_class_i(x_test , y_test , classDict['cat']), get_class_i(x_test , y_test , classDict['dog'])],\n",
    "        transform_no_aug\n",
    "    )\n",
    "\n",
    "kwargs = {'num_workers': 2, 'pin_memory': False}\n",
    "\n",
    "# Create datasetLoaders from trainset and testset\n",
    "trainsetLoader   = DataLoader(cat_dog_trainset, batch_size=4, shuffle=True , **kwargs)\n",
    "testsetLoader    = DataLoader(cat_dog_testset , batch_size=4, shuffle=False, **kwargs)"
   ]
  },
  {
   "cell_type": "code",
   "execution_count": 125,
   "metadata": {},
   "outputs": [
    {
     "name": "stderr",
     "output_type": "stream",
     "text": [
      "Clipping input data to the valid range for imshow with RGB data ([0..1] for floats or [0..255] for integers).\n"
     ]
    },
    {
     "name": "stdout",
     "output_type": "stream",
     "text": [
      "tensor([1, 1, 1, 1])\n",
      "  Dog   Dog   Dog   Dog\n"
     ]
    },
    {
     "data": {
      "image/png": "[encoded data removed]",
      "text/plain": [
       "<Figure size 432x288 with 1 Axes>"
      ]
     },
     "metadata": {
      "needs_background": "light"
     },
     "output_type": "display_data"
    }
   ],
   "source": [
    "classes = ['Cat','Dog']\n",
    "# get some random training images\n",
    "dataiter = iter(trainsetLoader)\n",
    "images, labels = dataiter.next()\n",
    "\n",
    "# print labels\n",
    "print(labels)\n",
    "print(' '.join('%5s' % classes[labels[j]] for j in range(4)))\n",
    "# show images\n",
    "imshow(torchvision.utils.make_grid(images))"
   ]
  },
  {
   "cell_type": "markdown",
   "metadata": {},
   "source": [
    "### Train the Model"
   ]
  },
  {
   "cell_type": "markdown",
   "metadata": {},
   "source": [
    "### Model Architecture"
   ]
  },
  {
   "cell_type": "code",
   "execution_count": 141,
   "metadata": {},
   "outputs": [],
   "source": [
    "class CNN(nn.Module):\n",
    "    def __init__(self):\n",
    "        super(CNN, self).__init__()\n",
    "        self.conv1 = nn.Conv2d(3,   64,  3)\n",
    "        self.conv2 = nn.Conv2d(64,  128, 3)\n",
    "        self.conv3 = nn.Conv2d(128, 256, 3)\n",
    "        self.pool = nn.MaxPool2d(2, 2)\n",
    "        self.fc1 = nn.Linear(64 * 4 * 4, 128)\n",
    "        self.fc2 = nn.Linear(128, 256)\n",
    "        self.fc3 = nn.Linear(256, 2)\n",
    "\n",
    "    def forward(self, x):\n",
    "        x = self.pool(F.relu(self.conv1(x)))\n",
    "        x = self.pool(F.relu(self.conv2(x)))\n",
    "        x = self.pool(F.relu(self.conv3(x)))\n",
    "        x = x.view(-1, 64 * 4 * 4)\n",
    "        x = F.relu(self.fc1(x))\n",
    "        x = F.relu(self.fc2(x))\n",
    "        x = self.fc3(x)\n",
    "        return F.log_softmax(x, dim=1)"
   ]
  },
  {
   "cell_type": "code",
   "execution_count": 142,
   "metadata": {},
   "outputs": [
    {
     "data": {
      "image/svg+xml": [
       "<?xml version=\"1.0\" encoding=\"UTF-8\" standalone=\"no\"?>\n",
       "<!DOCTYPE svg PUBLIC \"-//W3C//DTD SVG 1.1//EN\"\n",
       " \"http://www.w3.org/Graphics/SVG/1.1/DTD/svg11.dtd\">\n",
       "<!-- Generated by graphviz version 2.44.1 (20200629.0846)\n",
       " -->\n",
       "<!-- Pages: 1 -->\n",
       "<svg width=\"456pt\" height=\"864pt\"\n",
       " viewBox=\"0.00 0.00 456.41 864.00\" xmlns=\"http://www.w3.org/2000/svg\" xmlns:xlink=\"http://www.w3.org/1999/xlink\">\n",
       "<g id=\"graph0\" class=\"graph\" transform=\"scale(0.77 0.77) rotate(0) translate(4 1111)\">\n",
       "<polygon fill=\"white\" stroke=\"transparent\" points=\"-4,4 -4,-1111 585,-1111 585,4 -4,4\"/>\n",
       "<!-- 112572175752 -->\n",
       "<g id=\"node1\" class=\"node\">\n",
       "<title>112572175752</title>\n",
       "<polygon fill=\"#caff70\" stroke=\"black\" points=\"459.5,-21 361.5,-21 361.5,0 459.5,0 459.5,-21\"/>\n",
       "<text text-anchor=\"middle\" x=\"410.5\" y=\"-7.4\" font-family=\"Times,serif\" font-size=\"12.00\">MeanBackward0</text>\n",
       "</g>\n",
       "<!-- 112572176816 -->\n",
       "<g id=\"node2\" class=\"node\">\n",
       "<title>112572176816</title>\n",
       "<polygon fill=\"lightgrey\" stroke=\"black\" points=\"473,-78 348,-78 348,-57 473,-57 473,-78\"/>\n",
       "<text text-anchor=\"middle\" x=\"410.5\" y=\"-64.4\" font-family=\"Times,serif\" font-size=\"12.00\">LogSoftmaxBackward</text>\n",
       "</g>\n",
       "<!-- 112572176816&#45;&gt;112572175752 -->\n",
       "<g id=\"edge1\" class=\"edge\">\n",
       "<title>112572176816&#45;&gt;112572175752</title>\n",
       "<path fill=\"none\" stroke=\"black\" d=\"M410.5,-56.92C410.5,-49.91 410.5,-40.14 410.5,-31.47\"/>\n",
       "<polygon fill=\"black\" stroke=\"black\" points=\"414,-31.34 410.5,-21.34 407,-31.34 414,-31.34\"/>\n",
       "</g>\n",
       "<!-- 112572174632 -->\n",
       "<g id=\"node3\" class=\"node\">\n",
       "<title>112572174632</title>\n",
       "<polygon fill=\"lightgrey\" stroke=\"black\" points=\"462.5,-135 358.5,-135 358.5,-114 462.5,-114 462.5,-135\"/>\n",
       "<text text-anchor=\"middle\" x=\"410.5\" y=\"-121.4\" font-family=\"Times,serif\" font-size=\"12.00\">AddmmBackward</text>\n",
       "</g>\n",
       "<!-- 112572174632&#45;&gt;112572176816 -->\n",
       "<g id=\"edge2\" class=\"edge\">\n",
       "<title>112572174632&#45;&gt;112572176816</title>\n",
       "<path fill=\"none\" stroke=\"black\" d=\"M410.5,-113.92C410.5,-106.91 410.5,-97.14 410.5,-88.47\"/>\n",
       "<polygon fill=\"black\" stroke=\"black\" points=\"414,-88.34 410.5,-78.34 407,-88.34 414,-88.34\"/>\n",
       "</g>\n",
       "<!-- 112572175248 -->\n",
       "<g id=\"node4\" class=\"node\">\n",
       "<title>112572175248</title>\n",
       "<polygon fill=\"lightblue\" stroke=\"black\" points=\"345.5,-205 291.5,-205 291.5,-171 345.5,-171 345.5,-205\"/>\n",
       "<text text-anchor=\"middle\" x=\"318.5\" y=\"-191.4\" font-family=\"Times,serif\" font-size=\"12.00\">fc3.bias</text>\n",
       "<text text-anchor=\"middle\" x=\"318.5\" y=\"-178.4\" font-family=\"Times,serif\" font-size=\"12.00\"> (2)</text>\n",
       "</g>\n",
       "<!-- 112572175248&#45;&gt;112572174632 -->\n",
       "<g id=\"edge3\" class=\"edge\">\n",
       "<title>112572175248&#45;&gt;112572174632</title>\n",
       "<path fill=\"none\" stroke=\"black\" d=\"M342.67,-170.84C356.65,-161.5 374.12,-149.82 387.83,-140.65\"/>\n",
       "<polygon fill=\"black\" stroke=\"black\" points=\"389.86,-143.51 396.23,-135.04 385.97,-137.69 389.86,-143.51\"/>\n",
       "</g>\n",
       "<!-- 112572176032 -->\n",
       "<g id=\"node5\" class=\"node\">\n",
       "<title>112572176032</title>\n",
       "<polygon fill=\"lightgrey\" stroke=\"black\" points=\"457.5,-198.5 363.5,-198.5 363.5,-177.5 457.5,-177.5 457.5,-198.5\"/>\n",
       "<text text-anchor=\"middle\" x=\"410.5\" y=\"-184.9\" font-family=\"Times,serif\" font-size=\"12.00\">ReluBackward0</text>\n",
       "</g>\n",
       "<!-- 112572176032&#45;&gt;112572174632 -->\n",
       "<g id=\"edge4\" class=\"edge\">\n",
       "<title>112572176032&#45;&gt;112572174632</title>\n",
       "<path fill=\"none\" stroke=\"black\" d=\"M410.5,-177.39C410.5,-168.87 410.5,-156.14 410.5,-145.42\"/>\n",
       "<polygon fill=\"black\" stroke=\"black\" points=\"414,-145.24 410.5,-135.24 407,-145.24 414,-145.24\"/>\n",
       "</g>\n",
       "<!-- 112572177320 -->\n",
       "<g id=\"node6\" class=\"node\">\n",
       "<title>112572177320</title>\n",
       "<polygon fill=\"lightgrey\" stroke=\"black\" points=\"461.5,-268.5 357.5,-268.5 357.5,-247.5 461.5,-247.5 461.5,-268.5\"/>\n",
       "<text text-anchor=\"middle\" x=\"409.5\" y=\"-254.9\" font-family=\"Times,serif\" font-size=\"12.00\">AddmmBackward</text>\n",
       "</g>\n",
       "<!-- 112572177320&#45;&gt;112572176032 -->\n",
       "<g id=\"edge5\" class=\"edge\">\n",
       "<title>112572177320&#45;&gt;112572176032</title>\n",
       "<path fill=\"none\" stroke=\"black\" d=\"M409.64,-247.26C409.79,-237.26 410.02,-221.42 410.21,-208.78\"/>\n",
       "<polygon fill=\"black\" stroke=\"black\" points=\"413.71,-208.78 410.36,-198.72 406.71,-208.67 413.71,-208.78\"/>\n",
       "</g>\n",
       "<!-- 112572174800 -->\n",
       "<g id=\"node7\" class=\"node\">\n",
       "<title>112572174800</title>\n",
       "<polygon fill=\"lightblue\" stroke=\"black\" points=\"344.5,-345 290.5,-345 290.5,-311 344.5,-311 344.5,-345\"/>\n",
       "<text text-anchor=\"middle\" x=\"317.5\" y=\"-331.4\" font-family=\"Times,serif\" font-size=\"12.00\">fc2.bias</text>\n",
       "<text text-anchor=\"middle\" x=\"317.5\" y=\"-318.4\" font-family=\"Times,serif\" font-size=\"12.00\"> (256)</text>\n",
       "</g>\n",
       "<!-- 112572174800&#45;&gt;112572177320 -->\n",
       "<g id=\"edge6\" class=\"edge\">\n",
       "<title>112572174800&#45;&gt;112572177320</title>\n",
       "<path fill=\"none\" stroke=\"black\" d=\"M339.3,-310.88C354,-300.02 373.3,-285.75 387.95,-274.93\"/>\n",
       "<polygon fill=\"black\" stroke=\"black\" points=\"390.42,-277.46 396.38,-268.7 386.26,-271.83 390.42,-277.46\"/>\n",
       "</g>\n",
       "<!-- 112572175024 -->\n",
       "<g id=\"node8\" class=\"node\">\n",
       "<title>112572175024</title>\n",
       "<polygon fill=\"lightgrey\" stroke=\"black\" points=\"456.5,-338.5 362.5,-338.5 362.5,-317.5 456.5,-317.5 456.5,-338.5\"/>\n",
       "<text text-anchor=\"middle\" x=\"409.5\" y=\"-324.9\" font-family=\"Times,serif\" font-size=\"12.00\">ReluBackward0</text>\n",
       "</g>\n",
       "<!-- 112572175024&#45;&gt;112572177320 -->\n",
       "<g id=\"edge7\" class=\"edge\">\n",
       "<title>112572175024&#45;&gt;112572177320</title>\n",
       "<path fill=\"none\" stroke=\"black\" d=\"M409.5,-317.26C409.5,-307.26 409.5,-291.42 409.5,-278.78\"/>\n",
       "<polygon fill=\"black\" stroke=\"black\" points=\"413,-278.72 409.5,-268.72 406,-278.72 413,-278.72\"/>\n",
       "</g>\n",
       "<!-- 112917397232 -->\n",
       "<g id=\"node9\" class=\"node\">\n",
       "<title>112917397232</title>\n",
       "<polygon fill=\"lightgrey\" stroke=\"black\" points=\"460.5,-408.5 356.5,-408.5 356.5,-387.5 460.5,-387.5 460.5,-408.5\"/>\n",
       "<text text-anchor=\"middle\" x=\"408.5\" y=\"-394.9\" font-family=\"Times,serif\" font-size=\"12.00\">AddmmBackward</text>\n",
       "</g>\n",
       "<!-- 112917397232&#45;&gt;112572175024 -->\n",
       "<g id=\"edge8\" class=\"edge\">\n",
       "<title>112917397232&#45;&gt;112572175024</title>\n",
       "<path fill=\"none\" stroke=\"black\" d=\"M408.64,-387.26C408.79,-377.26 409.02,-361.42 409.21,-348.78\"/>\n",
       "<polygon fill=\"black\" stroke=\"black\" points=\"412.71,-348.78 409.36,-338.72 405.71,-348.67 412.71,-348.78\"/>\n",
       "</g>\n",
       "<!-- 112917397008 -->\n",
       "<g id=\"node10\" class=\"node\">\n",
       "<title>112917397008</title>\n",
       "<polygon fill=\"lightblue\" stroke=\"black\" points=\"344.5,-485 290.5,-485 290.5,-451 344.5,-451 344.5,-485\"/>\n",
       "<text text-anchor=\"middle\" x=\"317.5\" y=\"-471.4\" font-family=\"Times,serif\" font-size=\"12.00\">fc1.bias</text>\n",
       "<text text-anchor=\"middle\" x=\"317.5\" y=\"-458.4\" font-family=\"Times,serif\" font-size=\"12.00\"> (128)</text>\n",
       "</g>\n",
       "<!-- 112917397008&#45;&gt;112917397232 -->\n",
       "<g id=\"edge9\" class=\"edge\">\n",
       "<title>112917397008&#45;&gt;112917397232</title>\n",
       "<path fill=\"none\" stroke=\"black\" d=\"M339.07,-450.88C353.6,-440.02 372.7,-425.75 387.18,-414.93\"/>\n",
       "<polygon fill=\"black\" stroke=\"black\" points=\"389.61,-417.49 395.52,-408.7 385.42,-411.88 389.61,-417.49\"/>\n",
       "</g>\n",
       "<!-- 112917396896 -->\n",
       "<g id=\"node11\" class=\"node\">\n",
       "<title>112917396896</title>\n",
       "<polygon fill=\"lightgrey\" stroke=\"black\" points=\"454,-478.5 363,-478.5 363,-457.5 454,-457.5 454,-478.5\"/>\n",
       "<text text-anchor=\"middle\" x=\"408.5\" y=\"-464.9\" font-family=\"Times,serif\" font-size=\"12.00\">ViewBackward</text>\n",
       "</g>\n",
       "<!-- 112917396896&#45;&gt;112917397232 -->\n",
       "<g id=\"edge10\" class=\"edge\">\n",
       "<title>112917396896&#45;&gt;112917397232</title>\n",
       "<path fill=\"none\" stroke=\"black\" d=\"M408.5,-457.26C408.5,-447.26 408.5,-431.42 408.5,-418.78\"/>\n",
       "<polygon fill=\"black\" stroke=\"black\" points=\"412,-418.72 408.5,-408.72 405,-418.72 412,-418.72\"/>\n",
       "</g>\n",
       "<!-- 112915505952 -->\n",
       "<g id=\"node12\" class=\"node\">\n",
       "<title>112915505952</title>\n",
       "<polygon fill=\"lightgrey\" stroke=\"black\" points=\"488,-548.5 307,-548.5 307,-527.5 488,-527.5 488,-548.5\"/>\n",
       "<text text-anchor=\"middle\" x=\"397.5\" y=\"-534.9\" font-family=\"Times,serif\" font-size=\"12.00\">MaxPool2DWithIndicesBackward</text>\n",
       "</g>\n",
       "<!-- 112915505952&#45;&gt;112917396896 -->\n",
       "<g id=\"edge11\" class=\"edge\">\n",
       "<title>112915505952&#45;&gt;112917396896</title>\n",
       "<path fill=\"none\" stroke=\"black\" d=\"M399.08,-527.26C400.69,-517.26 403.26,-501.42 405.3,-488.78\"/>\n",
       "<polygon fill=\"black\" stroke=\"black\" points=\"408.79,-489.16 406.93,-478.72 401.87,-488.04 408.79,-489.16\"/>\n",
       "</g>\n",
       "<!-- 112915507688 -->\n",
       "<g id=\"node13\" class=\"node\">\n",
       "<title>112915507688</title>\n",
       "<polygon fill=\"lightgrey\" stroke=\"black\" points=\"444.5,-612 350.5,-612 350.5,-591 444.5,-591 444.5,-612\"/>\n",
       "<text text-anchor=\"middle\" x=\"397.5\" y=\"-598.4\" font-family=\"Times,serif\" font-size=\"12.00\">ReluBackward0</text>\n",
       "</g>\n",
       "<!-- 112915507688&#45;&gt;112915505952 -->\n",
       "<g id=\"edge12\" class=\"edge\">\n",
       "<title>112915507688&#45;&gt;112915505952</title>\n",
       "<path fill=\"none\" stroke=\"black\" d=\"M397.5,-590.89C397.5,-582.37 397.5,-569.64 397.5,-558.92\"/>\n",
       "<polygon fill=\"black\" stroke=\"black\" points=\"401,-558.74 397.5,-548.74 394,-558.74 401,-558.74\"/>\n",
       "</g>\n",
       "<!-- 112915505504 -->\n",
       "<g id=\"node14\" class=\"node\">\n",
       "<title>112915505504</title>\n",
       "<polygon fill=\"lightgrey\" stroke=\"black\" points=\"478.5,-669 316.5,-669 316.5,-648 478.5,-648 478.5,-669\"/>\n",
       "<text text-anchor=\"middle\" x=\"397.5\" y=\"-655.4\" font-family=\"Times,serif\" font-size=\"12.00\">MkldnnConvolutionBackward</text>\n",
       "</g>\n",
       "<!-- 112915505504&#45;&gt;112915507688 -->\n",
       "<g id=\"edge13\" class=\"edge\">\n",
       "<title>112915505504&#45;&gt;112915507688</title>\n",
       "<path fill=\"none\" stroke=\"black\" d=\"M397.5,-647.92C397.5,-640.91 397.5,-631.14 397.5,-622.47\"/>\n",
       "<polygon fill=\"black\" stroke=\"black\" points=\"401,-622.34 397.5,-612.34 394,-622.34 401,-622.34\"/>\n",
       "</g>\n",
       "<!-- 112915507632 -->\n",
       "<g id=\"node15\" class=\"node\">\n",
       "<title>112915507632</title>\n",
       "<polygon fill=\"lightgrey\" stroke=\"black\" points=\"333,-732.5 152,-732.5 152,-711.5 333,-711.5 333,-732.5\"/>\n",
       "<text text-anchor=\"middle\" x=\"242.5\" y=\"-718.9\" font-family=\"Times,serif\" font-size=\"12.00\">MaxPool2DWithIndicesBackward</text>\n",
       "</g>\n",
       "<!-- 112915507632&#45;&gt;112915505504 -->\n",
       "<g id=\"edge14\" class=\"edge\">\n",
       "<title>112915507632&#45;&gt;112915505504</title>\n",
       "<path fill=\"none\" stroke=\"black\" d=\"M266.72,-711.39C292.88,-701.01 334.74,-684.4 364.04,-672.78\"/>\n",
       "<polygon fill=\"black\" stroke=\"black\" points=\"365.45,-675.98 373.45,-669.04 362.87,-669.48 365.45,-675.98\"/>\n",
       "</g>\n",
       "<!-- 112915509200 -->\n",
       "<g id=\"node16\" class=\"node\">\n",
       "<title>112915509200</title>\n",
       "<polygon fill=\"lightgrey\" stroke=\"black\" points=\"289.5,-796 195.5,-796 195.5,-775 289.5,-775 289.5,-796\"/>\n",
       "<text text-anchor=\"middle\" x=\"242.5\" y=\"-782.4\" font-family=\"Times,serif\" font-size=\"12.00\">ReluBackward0</text>\n",
       "</g>\n",
       "<!-- 112915509200&#45;&gt;112915507632 -->\n",
       "<g id=\"edge15\" class=\"edge\">\n",
       "<title>112915509200&#45;&gt;112915507632</title>\n",
       "<path fill=\"none\" stroke=\"black\" d=\"M242.5,-774.89C242.5,-766.37 242.5,-753.64 242.5,-742.92\"/>\n",
       "<polygon fill=\"black\" stroke=\"black\" points=\"246,-742.74 242.5,-732.74 239,-742.74 246,-742.74\"/>\n",
       "</g>\n",
       "<!-- 112915508864 -->\n",
       "<g id=\"node17\" class=\"node\">\n",
       "<title>112915508864</title>\n",
       "<polygon fill=\"lightgrey\" stroke=\"black\" points=\"323.5,-853 161.5,-853 161.5,-832 323.5,-832 323.5,-853\"/>\n",
       "<text text-anchor=\"middle\" x=\"242.5\" y=\"-839.4\" font-family=\"Times,serif\" font-size=\"12.00\">MkldnnConvolutionBackward</text>\n",
       "</g>\n",
       "<!-- 112915508864&#45;&gt;112915509200 -->\n",
       "<g id=\"edge16\" class=\"edge\">\n",
       "<title>112915508864&#45;&gt;112915509200</title>\n",
       "<path fill=\"none\" stroke=\"black\" d=\"M242.5,-831.92C242.5,-824.91 242.5,-815.14 242.5,-806.47\"/>\n",
       "<polygon fill=\"black\" stroke=\"black\" points=\"246,-806.34 242.5,-796.34 239,-806.34 246,-806.34\"/>\n",
       "</g>\n",
       "<!-- 112915508192 -->\n",
       "<g id=\"node18\" class=\"node\">\n",
       "<title>112915508192</title>\n",
       "<polygon fill=\"lightgrey\" stroke=\"black\" points=\"181,-916.5 0,-916.5 0,-895.5 181,-895.5 181,-916.5\"/>\n",
       "<text text-anchor=\"middle\" x=\"90.5\" y=\"-902.9\" font-family=\"Times,serif\" font-size=\"12.00\">MaxPool2DWithIndicesBackward</text>\n",
       "</g>\n",
       "<!-- 112915508192&#45;&gt;112915508864 -->\n",
       "<g id=\"edge17\" class=\"edge\">\n",
       "<title>112915508192&#45;&gt;112915508864</title>\n",
       "<path fill=\"none\" stroke=\"black\" d=\"M114.25,-895.39C139.79,-885.06 180.6,-868.54 209.31,-856.93\"/>\n",
       "<polygon fill=\"black\" stroke=\"black\" points=\"210.96,-860.04 218.92,-853.04 208.33,-853.55 210.96,-860.04\"/>\n",
       "</g>\n",
       "<!-- 112915507912 -->\n",
       "<g id=\"node19\" class=\"node\">\n",
       "<title>112915507912</title>\n",
       "<polygon fill=\"lightgrey\" stroke=\"black\" points=\"137.5,-980 43.5,-980 43.5,-959 137.5,-959 137.5,-980\"/>\n",
       "<text text-anchor=\"middle\" x=\"90.5\" y=\"-966.4\" font-family=\"Times,serif\" font-size=\"12.00\">ReluBackward0</text>\n",
       "</g>\n",
       "<!-- 112915507912&#45;&gt;112915508192 -->\n",
       "<g id=\"edge18\" class=\"edge\">\n",
       "<title>112915507912&#45;&gt;112915508192</title>\n",
       "<path fill=\"none\" stroke=\"black\" d=\"M90.5,-958.89C90.5,-950.37 90.5,-937.64 90.5,-926.92\"/>\n",
       "<polygon fill=\"black\" stroke=\"black\" points=\"94,-926.74 90.5,-916.74 87,-926.74 94,-926.74\"/>\n",
       "</g>\n",
       "<!-- 112915508640 -->\n",
       "<g id=\"node20\" class=\"node\">\n",
       "<title>112915508640</title>\n",
       "<polygon fill=\"lightgrey\" stroke=\"black\" points=\"171.5,-1037 9.5,-1037 9.5,-1016 171.5,-1016 171.5,-1037\"/>\n",
       "<text text-anchor=\"middle\" x=\"90.5\" y=\"-1023.4\" font-family=\"Times,serif\" font-size=\"12.00\">MkldnnConvolutionBackward</text>\n",
       "</g>\n",
       "<!-- 112915508640&#45;&gt;112915507912 -->\n",
       "<g id=\"edge19\" class=\"edge\">\n",
       "<title>112915508640&#45;&gt;112915507912</title>\n",
       "<path fill=\"none\" stroke=\"black\" d=\"M90.5,-1015.92C90.5,-1008.91 90.5,-999.14 90.5,-990.47\"/>\n",
       "<polygon fill=\"black\" stroke=\"black\" points=\"94,-990.34 90.5,-980.34 87,-990.34 94,-990.34\"/>\n",
       "</g>\n",
       "<!-- 112915506848 -->\n",
       "<g id=\"node21\" class=\"node\">\n",
       "<title>112915506848</title>\n",
       "<polygon fill=\"lightblue\" stroke=\"black\" points=\"85,-1107 4,-1107 4,-1073 85,-1073 85,-1107\"/>\n",
       "<text text-anchor=\"middle\" x=\"44.5\" y=\"-1093.4\" font-family=\"Times,serif\" font-size=\"12.00\">conv1.weight</text>\n",
       "<text text-anchor=\"middle\" x=\"44.5\" y=\"-1080.4\" font-family=\"Times,serif\" font-size=\"12.00\"> (64, 3, 3, 3)</text>\n",
       "</g>\n",
       "<!-- 112915506848&#45;&gt;112915508640 -->\n",
       "<g id=\"edge20\" class=\"edge\">\n",
       "<title>112915506848&#45;&gt;112915508640</title>\n",
       "<path fill=\"none\" stroke=\"black\" d=\"M56.59,-1072.84C62.97,-1064.3 70.83,-1053.8 77.36,-1045.06\"/>\n",
       "<polygon fill=\"black\" stroke=\"black\" points=\"80.18,-1047.15 83.36,-1037.04 74.57,-1042.95 80.18,-1047.15\"/>\n",
       "</g>\n",
       "<!-- 112915505280 -->\n",
       "<g id=\"node22\" class=\"node\">\n",
       "<title>112915505280</title>\n",
       "<polygon fill=\"lightblue\" stroke=\"black\" points=\"171.5,-1107 103.5,-1107 103.5,-1073 171.5,-1073 171.5,-1107\"/>\n",
       "<text text-anchor=\"middle\" x=\"137.5\" y=\"-1093.4\" font-family=\"Times,serif\" font-size=\"12.00\">conv1.bias</text>\n",
       "<text text-anchor=\"middle\" x=\"137.5\" y=\"-1080.4\" font-family=\"Times,serif\" font-size=\"12.00\"> (64)</text>\n",
       "</g>\n",
       "<!-- 112915505280&#45;&gt;112915508640 -->\n",
       "<g id=\"edge21\" class=\"edge\">\n",
       "<title>112915505280&#45;&gt;112915508640</title>\n",
       "<path fill=\"none\" stroke=\"black\" d=\"M125.15,-1072.84C118.62,-1064.3 110.6,-1053.8 103.92,-1045.06\"/>\n",
       "<polygon fill=\"black\" stroke=\"black\" points=\"106.65,-1042.86 97.79,-1037.04 101.08,-1047.11 106.65,-1042.86\"/>\n",
       "</g>\n",
       "<!-- 112915506400 -->\n",
       "<g id=\"node23\" class=\"node\">\n",
       "<title>112915506400</title>\n",
       "<polygon fill=\"lightblue\" stroke=\"black\" points=\"286,-923 199,-923 199,-889 286,-889 286,-923\"/>\n",
       "<text text-anchor=\"middle\" x=\"242.5\" y=\"-909.4\" font-family=\"Times,serif\" font-size=\"12.00\">conv2.weight</text>\n",
       "<text text-anchor=\"middle\" x=\"242.5\" y=\"-896.4\" font-family=\"Times,serif\" font-size=\"12.00\"> (128, 64, 3, 3)</text>\n",
       "</g>\n",
       "<!-- 112915506400&#45;&gt;112915508864 -->\n",
       "<g id=\"edge22\" class=\"edge\">\n",
       "<title>112915506400&#45;&gt;112915508864</title>\n",
       "<path fill=\"none\" stroke=\"black\" d=\"M242.5,-888.84C242.5,-881.01 242.5,-871.54 242.5,-863.28\"/>\n",
       "<polygon fill=\"black\" stroke=\"black\" points=\"246,-863.04 242.5,-853.04 239,-863.04 246,-863.04\"/>\n",
       "</g>\n",
       "<!-- 112915508024 -->\n",
       "<g id=\"node24\" class=\"node\">\n",
       "<title>112915508024</title>\n",
       "<polygon fill=\"lightblue\" stroke=\"black\" points=\"372.5,-923 304.5,-923 304.5,-889 372.5,-889 372.5,-923\"/>\n",
       "<text text-anchor=\"middle\" x=\"338.5\" y=\"-909.4\" font-family=\"Times,serif\" font-size=\"12.00\">conv2.bias</text>\n",
       "<text text-anchor=\"middle\" x=\"338.5\" y=\"-896.4\" font-family=\"Times,serif\" font-size=\"12.00\"> (128)</text>\n",
       "</g>\n",
       "<!-- 112915508024&#45;&gt;112915508864 -->\n",
       "<g id=\"edge23\" class=\"edge\">\n",
       "<title>112915508024&#45;&gt;112915508864</title>\n",
       "<path fill=\"none\" stroke=\"black\" d=\"M313.28,-888.84C298.69,-879.5 280.46,-867.82 266.15,-858.65\"/>\n",
       "<polygon fill=\"black\" stroke=\"black\" points=\"267.7,-855.49 257.39,-853.04 263.93,-861.38 267.7,-855.49\"/>\n",
       "</g>\n",
       "<!-- 112915506232 -->\n",
       "<g id=\"node25\" class=\"node\">\n",
       "<title>112915506232</title>\n",
       "<polygon fill=\"lightblue\" stroke=\"black\" points=\"444,-739 351,-739 351,-705 444,-705 444,-739\"/>\n",
       "<text text-anchor=\"middle\" x=\"397.5\" y=\"-725.4\" font-family=\"Times,serif\" font-size=\"12.00\">conv3.weight</text>\n",
       "<text text-anchor=\"middle\" x=\"397.5\" y=\"-712.4\" font-family=\"Times,serif\" font-size=\"12.00\"> (256, 128, 3, 3)</text>\n",
       "</g>\n",
       "<!-- 112915506232&#45;&gt;112915505504 -->\n",
       "<g id=\"edge24\" class=\"edge\">\n",
       "<title>112915506232&#45;&gt;112915505504</title>\n",
       "<path fill=\"none\" stroke=\"black\" d=\"M397.5,-704.84C397.5,-697.01 397.5,-687.54 397.5,-679.28\"/>\n",
       "<polygon fill=\"black\" stroke=\"black\" points=\"401,-679.04 397.5,-669.04 394,-679.04 401,-679.04\"/>\n",
       "</g>\n",
       "<!-- 112915508696 -->\n",
       "<g id=\"node26\" class=\"node\">\n",
       "<title>112915508696</title>\n",
       "<polygon fill=\"lightblue\" stroke=\"black\" points=\"530.5,-739 462.5,-739 462.5,-705 530.5,-705 530.5,-739\"/>\n",
       "<text text-anchor=\"middle\" x=\"496.5\" y=\"-725.4\" font-family=\"Times,serif\" font-size=\"12.00\">conv3.bias</text>\n",
       "<text text-anchor=\"middle\" x=\"496.5\" y=\"-712.4\" font-family=\"Times,serif\" font-size=\"12.00\"> (256)</text>\n",
       "</g>\n",
       "<!-- 112915508696&#45;&gt;112915505504 -->\n",
       "<g id=\"edge25\" class=\"edge\">\n",
       "<title>112915508696&#45;&gt;112915505504</title>\n",
       "<path fill=\"none\" stroke=\"black\" d=\"M470.49,-704.84C455.31,-695.41 436.29,-683.6 421.47,-674.39\"/>\n",
       "<polygon fill=\"black\" stroke=\"black\" points=\"423.2,-671.35 412.86,-669.04 419.51,-677.29 423.2,-671.35\"/>\n",
       "</g>\n",
       "<!-- 112917396616 -->\n",
       "<g id=\"node27\" class=\"node\">\n",
       "<title>112917396616</title>\n",
       "<polygon fill=\"lightgrey\" stroke=\"black\" points=\"568,-478.5 495,-478.5 495,-457.5 568,-457.5 568,-478.5\"/>\n",
       "<text text-anchor=\"middle\" x=\"531.5\" y=\"-464.9\" font-family=\"Times,serif\" font-size=\"12.00\">TBackward</text>\n",
       "</g>\n",
       "<!-- 112917396616&#45;&gt;112917397232 -->\n",
       "<g id=\"edge26\" class=\"edge\">\n",
       "<title>112917396616&#45;&gt;112917397232</title>\n",
       "<path fill=\"none\" stroke=\"black\" d=\"M514.14,-457.4C493.44,-445.96 458.65,-426.73 434.69,-413.48\"/>\n",
       "<polygon fill=\"black\" stroke=\"black\" points=\"436.22,-410.32 425.77,-408.55 432.83,-416.45 436.22,-410.32\"/>\n",
       "</g>\n",
       "<!-- 112915508808 -->\n",
       "<g id=\"node28\" class=\"node\">\n",
       "<title>112915508808</title>\n",
       "<polygon fill=\"lightblue\" stroke=\"black\" points=\"581,-555 506,-555 506,-521 581,-521 581,-555\"/>\n",
       "<text text-anchor=\"middle\" x=\"543.5\" y=\"-541.4\" font-family=\"Times,serif\" font-size=\"12.00\">fc1.weight</text>\n",
       "<text text-anchor=\"middle\" x=\"543.5\" y=\"-528.4\" font-family=\"Times,serif\" font-size=\"12.00\"> (128, 1024)</text>\n",
       "</g>\n",
       "<!-- 112915508808&#45;&gt;112917396616 -->\n",
       "<g id=\"edge27\" class=\"edge\">\n",
       "<title>112915508808&#45;&gt;112917396616</title>\n",
       "<path fill=\"none\" stroke=\"black\" d=\"M540.66,-520.88C538.97,-511.31 536.81,-499.09 535.01,-488.91\"/>\n",
       "<polygon fill=\"black\" stroke=\"black\" points=\"538.43,-488.13 533.25,-478.89 531.54,-489.35 538.43,-488.13\"/>\n",
       "</g>\n",
       "<!-- 112572175304 -->\n",
       "<g id=\"node29\" class=\"node\">\n",
       "<title>112572175304</title>\n",
       "<polygon fill=\"lightgrey\" stroke=\"black\" points=\"549,-338.5 476,-338.5 476,-317.5 549,-317.5 549,-338.5\"/>\n",
       "<text text-anchor=\"middle\" x=\"512.5\" y=\"-324.9\" font-family=\"Times,serif\" font-size=\"12.00\">TBackward</text>\n",
       "</g>\n",
       "<!-- 112572175304&#45;&gt;112572177320 -->\n",
       "<g id=\"edge28\" class=\"edge\">\n",
       "<title>112572175304&#45;&gt;112572177320</title>\n",
       "<path fill=\"none\" stroke=\"black\" d=\"M497.74,-317.26C480.67,-305.98 452.34,-287.29 432.4,-274.12\"/>\n",
       "<polygon fill=\"black\" stroke=\"black\" points=\"434.17,-271.09 423.9,-268.51 430.31,-276.94 434.17,-271.09\"/>\n",
       "</g>\n",
       "<!-- 112917396392 -->\n",
       "<g id=\"node30\" class=\"node\">\n",
       "<title>112917396392</title>\n",
       "<polygon fill=\"lightblue\" stroke=\"black\" points=\"548,-415 479,-415 479,-381 548,-381 548,-415\"/>\n",
       "<text text-anchor=\"middle\" x=\"513.5\" y=\"-401.4\" font-family=\"Times,serif\" font-size=\"12.00\">fc2.weight</text>\n",
       "<text text-anchor=\"middle\" x=\"513.5\" y=\"-388.4\" font-family=\"Times,serif\" font-size=\"12.00\"> (256, 128)</text>\n",
       "</g>\n",
       "<!-- 112917396392&#45;&gt;112572175304 -->\n",
       "<g id=\"edge29\" class=\"edge\">\n",
       "<title>112917396392&#45;&gt;112572175304</title>\n",
       "<path fill=\"none\" stroke=\"black\" d=\"M513.26,-380.88C513.12,-371.31 512.94,-359.09 512.79,-348.91\"/>\n",
       "<polygon fill=\"black\" stroke=\"black\" points=\"516.29,-348.84 512.65,-338.89 509.29,-348.95 516.29,-348.84\"/>\n",
       "</g>\n",
       "<!-- 112572174688 -->\n",
       "<g id=\"node31\" class=\"node\">\n",
       "<title>112572174688</title>\n",
       "<polygon fill=\"lightgrey\" stroke=\"black\" points=\"550,-198.5 477,-198.5 477,-177.5 550,-177.5 550,-198.5\"/>\n",
       "<text text-anchor=\"middle\" x=\"513.5\" y=\"-184.9\" font-family=\"Times,serif\" font-size=\"12.00\">TBackward</text>\n",
       "</g>\n",
       "<!-- 112572174688&#45;&gt;112572174632 -->\n",
       "<g id=\"edge30\" class=\"edge\">\n",
       "<title>112572174688&#45;&gt;112572174632</title>\n",
       "<path fill=\"none\" stroke=\"black\" d=\"M497.41,-177.39C480.78,-167.46 454.6,-151.83 435.32,-140.32\"/>\n",
       "<polygon fill=\"black\" stroke=\"black\" points=\"436.86,-137.16 426.48,-135.04 433.27,-143.17 436.86,-137.16\"/>\n",
       "</g>\n",
       "<!-- 112572178104 -->\n",
       "<g id=\"node32\" class=\"node\">\n",
       "<title>112572178104</title>\n",
       "<polygon fill=\"lightblue\" stroke=\"black\" points=\"547,-275 480,-275 480,-241 547,-241 547,-275\"/>\n",
       "<text text-anchor=\"middle\" x=\"513.5\" y=\"-261.4\" font-family=\"Times,serif\" font-size=\"12.00\">fc3.weight</text>\n",
       "<text text-anchor=\"middle\" x=\"513.5\" y=\"-248.4\" font-family=\"Times,serif\" font-size=\"12.00\"> (2, 256)</text>\n",
       "</g>\n",
       "<!-- 112572178104&#45;&gt;112572174688 -->\n",
       "<g id=\"edge31\" class=\"edge\">\n",
       "<title>112572178104&#45;&gt;112572174688</title>\n",
       "<path fill=\"none\" stroke=\"black\" d=\"M513.5,-240.88C513.5,-231.31 513.5,-219.09 513.5,-208.91\"/>\n",
       "<polygon fill=\"black\" stroke=\"black\" points=\"517,-208.89 513.5,-198.89 510,-208.89 517,-208.89\"/>\n",
       "</g>\n",
       "</g>\n",
       "</svg>\n"
      ],
      "text/plain": [
       "<graphviz.dot.Digraph at 0x1a3be9be10>"
      ]
     },
     "execution_count": 142,
     "metadata": {},
     "output_type": "execute_result"
    }
   ],
   "source": [
    "dataiter = iter(trainsetLoader)\n",
    "images, labels = dataiter.next()\n",
    "y = nnt(images)\n",
    "make_dot(y.mean(),params = dict(nnt.named_parameters()))"
   ]
  },
  {
   "cell_type": "markdown",
   "metadata": {},
   "source": [
    "### Define Training Procedure"
   ]
  },
  {
   "cell_type": "code",
   "execution_count": 131,
   "metadata": {},
   "outputs": [],
   "source": [
    "def train(model, device, train_loader, optimizer, epoch):\n",
    "    losses = []\n",
    "    model.train()\n",
    "    for batch_idx, (data, target) in enumerate(train_loader):\n",
    "        data, target = data.to(device), target.to(device)\n",
    "        optimizer.zero_grad()\n",
    "        output = model(data)\n",
    "        loss = F.nll_loss(output, target)\n",
    "        loss.backward()\n",
    "        optimizer.step()\n",
    "        losses.append(loss.item())\n",
    "        if batch_idx > 0 and batch_idx % 1000 == 0:\n",
    "            print('Train Epoch: {} [{}/{}\\t({:.0f}%)]\\tLoss: {:.6f}'.format(\n",
    "                epoch, batch_idx * len(data), len(train_loader.dataset),\n",
    "                100. * batch_idx / len(train_loader), loss.item()))\n",
    "    return losses"
   ]
  },
  {
   "cell_type": "code",
   "execution_count": 132,
   "metadata": {},
   "outputs": [],
   "source": [
    "def test(model, device, test_loader):\n",
    "    model.eval()\n",
    "    test_loss = 0\n",
    "    correct = 0\n",
    "    with torch.no_grad():\n",
    "        for data, target in test_loader:\n",
    "            data, target = data.to(device), target.to(device)\n",
    "            output = model(data)\n",
    "            test_loss += F.nll_loss(output, target, reduction='sum').item() # sum up batch loss\n",
    "            pred = output.argmax(dim=1, keepdim=True) # get the index of the max log-probability\n",
    "            correct += pred.eq(target.view_as(pred)).sum().item()\n",
    "    test_loss /= len(test_loader.dataset)\n",
    "    print('\\nAverage loss: {:.4f}, Accuracy: {}/{} ({:.0f}%)\\n'.format(\n",
    "        test_loss, correct, len(test_loader.dataset),\n",
    "        100. * correct / len(test_loader.dataset)))\n",
    "    return (float(correct) / len(test_loader.dataset))"
   ]
  },
  {
   "cell_type": "markdown",
   "metadata": {},
   "source": [
    "### Train the model"
   ]
  },
  {
   "cell_type": "code",
   "execution_count": 133,
   "metadata": {},
   "outputs": [
    {
     "name": "stdout",
     "output_type": "stream",
     "text": [
      "Train Epoch: 0 [4000/10000\t(40%)]\tLoss: 0.712870\n",
      "Train Epoch: 0 [8000/10000\t(80%)]\tLoss: 0.748642\n",
      "\n",
      "Average loss: 0.6741, Accuracy: 5792/10000 (58%)\n",
      "\n",
      "Train Epoch: 1 [4000/10000\t(40%)]\tLoss: 0.669302\n",
      "Train Epoch: 1 [8000/10000\t(80%)]\tLoss: 0.559815\n",
      "\n",
      "Average loss: 0.6522, Accuracy: 6158/10000 (62%)\n",
      "\n",
      "Train Epoch: 2 [4000/10000\t(40%)]\tLoss: 0.390478\n",
      "Train Epoch: 2 [8000/10000\t(80%)]\tLoss: 1.092763\n",
      "\n",
      "Average loss: 0.6156, Accuracy: 6541/10000 (65%)\n",
      "\n",
      "Train Epoch: 3 [4000/10000\t(40%)]\tLoss: 0.544521\n",
      "Train Epoch: 3 [8000/10000\t(80%)]\tLoss: 0.431222\n",
      "\n",
      "Average loss: 0.5757, Accuracy: 6903/10000 (69%)\n",
      "\n",
      "Train Epoch: 4 [4000/10000\t(40%)]\tLoss: 1.083134\n",
      "Train Epoch: 4 [8000/10000\t(80%)]\tLoss: 0.713752\n",
      "\n",
      "Average loss: 0.5332, Accuracy: 7321/10000 (73%)\n",
      "\n",
      "Train Epoch: 5 [4000/10000\t(40%)]\tLoss: 0.389645\n",
      "Train Epoch: 5 [8000/10000\t(80%)]\tLoss: 0.960606\n",
      "\n",
      "Average loss: 0.5279, Accuracy: 7321/10000 (73%)\n",
      "\n",
      "Train Epoch: 6 [4000/10000\t(40%)]\tLoss: 0.421296\n",
      "Train Epoch: 6 [8000/10000\t(80%)]\tLoss: 0.280745\n",
      "\n",
      "Average loss: 0.4899, Accuracy: 7609/10000 (76%)\n",
      "\n",
      "Train Epoch: 7 [4000/10000\t(40%)]\tLoss: 0.537820\n",
      "Train Epoch: 7 [8000/10000\t(80%)]\tLoss: 0.612983\n",
      "\n",
      "Average loss: 0.4738, Accuracy: 7712/10000 (77%)\n",
      "\n",
      "Train Epoch: 8 [4000/10000\t(40%)]\tLoss: 0.166205\n",
      "Train Epoch: 8 [8000/10000\t(80%)]\tLoss: 0.392879\n",
      "\n",
      "Average loss: 0.4995, Accuracy: 7426/10000 (74%)\n",
      "\n",
      "Train Epoch: 9 [4000/10000\t(40%)]\tLoss: 1.195525\n",
      "Train Epoch: 9 [8000/10000\t(80%)]\tLoss: 0.490670\n",
      "\n",
      "Average loss: 0.4283, Accuracy: 7993/10000 (80%)\n",
      "\n",
      "Train Epoch: 10 [4000/10000\t(40%)]\tLoss: 0.714365\n",
      "Train Epoch: 10 [8000/10000\t(80%)]\tLoss: 0.401291\n",
      "\n",
      "Average loss: 0.4322, Accuracy: 7958/10000 (80%)\n",
      "\n",
      "Train Epoch: 11 [4000/10000\t(40%)]\tLoss: 0.636781\n",
      "Train Epoch: 11 [8000/10000\t(80%)]\tLoss: 0.104185\n",
      "\n",
      "Average loss: 0.4119, Accuracy: 8076/10000 (81%)\n",
      "\n",
      "Train Epoch: 12 [4000/10000\t(40%)]\tLoss: 0.171170\n",
      "Train Epoch: 12 [8000/10000\t(80%)]\tLoss: 0.720520\n",
      "\n",
      "Average loss: 0.4099, Accuracy: 8105/10000 (81%)\n",
      "\n",
      "Train Epoch: 13 [4000/10000\t(40%)]\tLoss: 0.348493\n",
      "Train Epoch: 13 [8000/10000\t(80%)]\tLoss: 0.164483\n",
      "\n",
      "Average loss: 0.4246, Accuracy: 7945/10000 (79%)\n",
      "\n",
      "Train Epoch: 14 [4000/10000\t(40%)]\tLoss: 0.300136\n",
      "Train Epoch: 14 [8000/10000\t(80%)]\tLoss: 0.487475\n",
      "\n",
      "Average loss: 0.3802, Accuracy: 8245/10000 (82%)\n",
      "\n",
      "Train Epoch: 15 [4000/10000\t(40%)]\tLoss: 0.707831\n",
      "Train Epoch: 15 [8000/10000\t(80%)]\tLoss: 0.357912\n",
      "\n",
      "Average loss: 0.3649, Accuracy: 8322/10000 (83%)\n",
      "\n",
      "Train Epoch: 16 [4000/10000\t(40%)]\tLoss: 0.016666\n",
      "Train Epoch: 16 [8000/10000\t(80%)]\tLoss: 1.129580\n",
      "\n",
      "Average loss: 0.3682, Accuracy: 8322/10000 (83%)\n",
      "\n",
      "Train Epoch: 17 [4000/10000\t(40%)]\tLoss: 0.332916\n",
      "Train Epoch: 17 [8000/10000\t(80%)]\tLoss: 0.187865\n",
      "\n",
      "Average loss: 0.3371, Accuracy: 8502/10000 (85%)\n",
      "\n",
      "Train Epoch: 18 [4000/10000\t(40%)]\tLoss: 0.179721\n",
      "Train Epoch: 18 [8000/10000\t(80%)]\tLoss: 0.173268\n",
      "\n",
      "Average loss: 0.3310, Accuracy: 8544/10000 (85%)\n",
      "\n",
      "Train Epoch: 19 [4000/10000\t(40%)]\tLoss: 0.386677\n",
      "Train Epoch: 19 [8000/10000\t(80%)]\tLoss: 0.613459\n",
      "\n",
      "Average loss: 0.3316, Accuracy: 8517/10000 (85%)\n",
      "\n"
     ]
    }
   ],
   "source": [
    "model = CNN()\n",
    "optimizer = optim.SGD(model.parameters(), lr=0.001, momentum=0.9)\n",
    "device = torch.device(\"cpu\") \n",
    "losses = []\n",
    "accuracies = []\n",
    "for epoch in range(0, 20):\n",
    "    losses.extend(train(model, device, trainsetLoader, optimizer, epoch))\n",
    "    accuracies.append(test(model, device, trainsetLoader))"
   ]
  },
  {
   "cell_type": "markdown",
   "metadata": {},
   "source": [
    "### Save weights"
   ]
  },
  {
   "cell_type": "code",
   "execution_count": 138,
   "metadata": {},
   "outputs": [],
   "source": [
    "model_directory_path = '/Users/zhaoliyang/Desktop/AM207/swag_uncertainty/model/'\n",
    "model_path = model_directory_path + 'cifar-10-cnn-catdog2-model.pt'\n",
    "if not os.path.exists(model_directory_path):\n",
    "    os.makedirs(model_directory_path)\n",
    "torch.save(model.state_dict(), model_path)"
   ]
  },
  {
   "cell_type": "markdown",
   "metadata": {},
   "source": [
    "### Check accuracy on test set"
   ]
  },
  {
   "cell_type": "code",
   "execution_count": 139,
   "metadata": {},
   "outputs": [
    {
     "name": "stdout",
     "output_type": "stream",
     "text": [
      "Model accuracy on 2000 test images: 84.45%\n"
     ]
    }
   ],
   "source": [
    "confusion_matrix_catdog = test_accuracy(model,testsetLoader,classes)"
   ]
  },
  {
   "cell_type": "code",
   "execution_count": 140,
   "metadata": {
    "scrolled": true
   },
   "outputs": [
    {
     "name": "stdout",
     "output_type": "stream",
     "text": [
      "Category   - Accuracy\n",
      "Cat        - 87.2\n",
      "Dog        - 81.7\n"
     ]
    }
   ],
   "source": [
    "accuracy_class(confusion_matrix_catdog)"
   ]
  },
  {
   "cell_type": "markdown",
   "metadata": {},
   "source": [
    "## SWAG"
   ]
  },
  {
   "cell_type": "markdown",
   "metadata": {},
   "source": [
    "We've achieved a 84.45% accuracy on the test set classification, next we will apply the SWAG algorithm based on the above model"
   ]
  },
  {
   "cell_type": "code",
   "execution_count": 252,
   "metadata": {},
   "outputs": [],
   "source": [
    "swag = SWAG(CNN, 5, True, model)"
   ]
  },
  {
   "cell_type": "code",
   "execution_count": 253,
   "metadata": {},
   "outputs": [],
   "source": [
    "# Compile swa\n",
    "objective = 'classification'\n",
    "lr = 1e-3\n",
    "momentum=0.9\n",
    "optimizer = optim.SGD\n",
    "loss_fn = nn.CrossEntropyLoss()\n",
    "swa_scheduler = LambdaLR\n",
    "\n",
    "swag.compile(objective, lr,1, momentum, optimizer, loss_fn, swa_scheduler)"
   ]
  },
  {
   "cell_type": "code",
   "execution_count": 254,
   "metadata": {},
   "outputs": [
    {
     "name": "stdout",
     "output_type": "stream",
     "text": [
      "Begin NN model training...\n",
      "\n",
      "Begin SWAG training...\n",
      "[Epoch: 1, \tIteration:   500] \tTraining Loss: 0.3028\n",
      "[Epoch: 1, \tIteration:  1000] \tTraining Loss: 0.3087\n",
      "[Epoch: 1, \tIteration:  1500] \tTraining Loss: 0.3073\n",
      "[Epoch: 1, \tIteration:  2000] \tTraining Loss: 0.3061\n",
      "[Epoch: 1, \tIteration:  2500] \tTraining Loss: 0.3303\n",
      "[Epoch: 2, \tIteration:   500] \tTraining Loss: 0.2698\n",
      "[Epoch: 2, \tIteration:  1000] \tTraining Loss: 0.2901\n",
      "[Epoch: 2, \tIteration:  1500] \tTraining Loss: 0.3100\n",
      "[Epoch: 2, \tIteration:  2000] \tTraining Loss: 0.3114\n",
      "[Epoch: 2, \tIteration:  2500] \tTraining Loss: 0.3095\n",
      "[Epoch: 3, \tIteration:   500] \tTraining Loss: 0.3038\n",
      "[Epoch: 3, \tIteration:  1000] \tTraining Loss: 0.2938\n",
      "[Epoch: 3, \tIteration:  1500] \tTraining Loss: 0.3082\n",
      "[Epoch: 3, \tIteration:  2000] \tTraining Loss: 0.2998\n",
      "[Epoch: 3, \tIteration:  2500] \tTraining Loss: 0.3221\n",
      "[Epoch: 4, \tIteration:   500] \tTraining Loss: 0.2772\n",
      "[Epoch: 4, \tIteration:  1000] \tTraining Loss: 0.3003\n",
      "[Epoch: 4, \tIteration:  1500] \tTraining Loss: 0.3100\n",
      "[Epoch: 4, \tIteration:  2000] \tTraining Loss: 0.2707\n",
      "[Epoch: 4, \tIteration:  2500] \tTraining Loss: 0.3024\n",
      "[Epoch: 5, \tIteration:   500] \tTraining Loss: 0.2778\n",
      "[Epoch: 5, \tIteration:  1000] \tTraining Loss: 0.2674\n",
      "[Epoch: 5, \tIteration:  1500] \tTraining Loss: 0.2981\n",
      "[Epoch: 5, \tIteration:  2000] \tTraining Loss: 0.2920\n",
      "[Epoch: 5, \tIteration:  2500] \tTraining Loss: 0.2861\n"
     ]
    }
   ],
   "source": [
    "# Fit swag\n",
    "first_mom, second_mom, D = swag.fit(trainsetLoader,\n",
    "                                    train_epoch=0,\n",
    "                                    swag_epoch=5,\n",
    "                                    log_freq=500,\n",
    "                                   pretrained = True)"
   ]
  },
  {
   "cell_type": "code",
   "execution_count": 262,
   "metadata": {},
   "outputs": [],
   "source": [
    "# Test prediction\n",
    "testiter = iter(testsetLoader)\n",
    "X_test, y_test = testiter.next()\n",
    "params_1d, shape_lookup, len_lookup = model_param_to_1D(model)\n",
    "model_params = params_1d_to_weights(first_mom, shape_lookup, len_lookup)"
   ]
  },
  {
   "cell_type": "code",
   "execution_count": 263,
   "metadata": {},
   "outputs": [],
   "source": [
    "model_swag = create_NN_with_weights(CNN, model_params)"
   ]
  },
  {
   "cell_type": "code",
   "execution_count": 302,
   "metadata": {},
   "outputs": [
    {
     "name": "stdout",
     "output_type": "stream",
     "text": [
      "Model accuracy on 2000 test images: 86.85%\n"
     ]
    }
   ],
   "source": [
    "classes = ['Cat','Dog']\n",
    "confusion_matrix_catdog_swag = test_accuracy(model_swag,testsetLoader,classes)"
   ]
  },
  {
   "cell_type": "code",
   "execution_count": 303,
   "metadata": {},
   "outputs": [
    {
     "name": "stdout",
     "output_type": "stream",
     "text": [
      "Category   - Accuracy\n",
      "Cat        - 86.7\n",
      "Dog        - 87.0\n"
     ]
    }
   ],
   "source": [
    "accuracy_class(confusion_matrix_catdog_swag)"
   ]
  },
  {
   "cell_type": "markdown",
   "metadata": {},
   "source": [
    "### Choose samples to predict"
   ]
  },
  {
   "cell_type": "code",
   "execution_count": 290,
   "metadata": {},
   "outputs": [],
   "source": [
    "# Choose only cats (class 3 of CIFAR) and dogs (class 5 of CIFAR) as trainset/testset\n",
    "cat_dog_horse_trainset = \\\n",
    "    DatasetMaker(\n",
    "        [get_class_i(x_train, y_train, classDict['cat']), get_class_i(x_train, y_train, classDict['dog']),\n",
    "        get_class_i(x_train, y_train, classDict['horse'])],\n",
    "        transform_with_aug\n",
    "    )\n",
    "cat_dog_horse_testset  = \\\n",
    "    DatasetMaker(\n",
    "        [get_class_i(x_test , y_test , classDict['cat']), get_class_i(x_test , y_test , classDict['dog']),\n",
    "        get_class_i(x_train, y_train, classDict['horse'])],\n",
    "        transform_no_aug\n",
    "    )\n",
    "\n",
    "kwargs = {'num_workers': 2, 'pin_memory': False}\n",
    "\n",
    "# Create datasetLoaders from trainset and testset\n",
    "trainsetLoader   = DataLoader(cat_dog_horse_trainset, batch_size=10, shuffle=True , **kwargs)\n",
    "testsetLoader    = DataLoader(cat_dog_horse_testset , batch_size=10, shuffle=False, **kwargs)"
   ]
  },
  {
   "cell_type": "code",
   "execution_count": 291,
   "metadata": {},
   "outputs": [],
   "source": [
    "classes = ['Cat','Dog','Horse']\n",
    "# get some random images\n",
    "dataiter = iter(testsetLoader)"
   ]
  },
  {
   "cell_type": "code",
   "execution_count": 292,
   "metadata": {},
   "outputs": [
    {
     "name": "stderr",
     "output_type": "stream",
     "text": [
      "Clipping input data to the valid range for imshow with RGB data ([0..1] for floats or [0..255] for integers).\n"
     ]
    },
    {
     "name": "stdout",
     "output_type": "stream",
     "text": [
      "tensor([2, 2, 2, 2, 2, 2, 2, 2, 2, 2])\n",
      "Horse Horse Horse Horse\n"
     ]
    },
    {
     "data": {
      "image/png": "[encoded data removed]",
      "text/plain": [
       "<Figure size 432x288 with 1 Axes>"
      ]
     },
     "metadata": {
      "needs_background": "light"
     },
     "output_type": "display_data"
    }
   ],
   "source": [
    "images, labels = dataiter.next()\n",
    "\n",
    "# print labels\n",
    "print(labels)\n",
    "print(' '.join('%5s' % classes[labels[j]] for j in range(4)))\n",
    "# show images\n",
    "imshow(torchvision.utils.make_grid(images))"
   ]
  },
  {
   "cell_type": "code",
   "execution_count": 296,
   "metadata": {},
   "outputs": [
    {
     "name": "stderr",
     "output_type": "stream",
     "text": [
      "/anaconda3/lib/python3.6/site-packages/ipykernel_launcher.py:3: UserWarning: Implicit dimension choice for softmax has been deprecated. Change the call to include dim=X as an argument.\n",
      "  This is separate from the ipykernel package so we can avoid doing imports until\n"
     ]
    }
   ],
   "source": [
    "outputs = model_swag(images)\n",
    "sm = torch.nn.Softmax()\n",
    "probabilities = sm(outputs) "
   ]
  },
  {
   "cell_type": "code",
   "execution_count": 297,
   "metadata": {},
   "outputs": [
    {
     "data": {
      "text/plain": [
       "tensor([[0.0181, 0.9819],\n",
       "        [0.8741, 0.1259],\n",
       "        [0.4754, 0.5246],\n",
       "        [0.0311, 0.9689],\n",
       "        [0.4021, 0.5979],\n",
       "        [0.5093, 0.4907],\n",
       "        [0.4328, 0.5672],\n",
       "        [0.8588, 0.1412],\n",
       "        [0.4360, 0.5640],\n",
       "        [0.4563, 0.5437]], grad_fn=<SoftmaxBackward>)"
      ]
     },
     "execution_count": 297,
     "metadata": {},
     "output_type": "execute_result"
    }
   ],
   "source": [
    "probabilities"
   ]
  },
  {
   "cell_type": "markdown",
   "metadata": {},
   "source": [
    "## SWAG Uncertainty "
   ]
  },
  {
   "cell_type": "markdown",
   "metadata": {},
   "source": [
    "We will first fixed a test that contains both in-distribution samples and out-of-distribution samples. We will select 5 images from all different classes."
   ]
  },
  {
   "cell_type": "code",
   "execution_count": 374,
   "metadata": {},
   "outputs": [],
   "source": [
    "# Fixed a test\n",
    "classes = ('plane', 'car', 'bird', 'cat',\n",
    "           'deer', 'dog', 'frog', 'horse', 'ship', 'truck')\n",
    "images_ls = {}\n",
    "label_ls = {}\n",
    "for i in classes:\n",
    "    testset  = \\\n",
    "        DatasetMaker(\n",
    "            [get_class_i(x_test , y_test , classDict[i])],\n",
    "            transform_no_aug\n",
    "        )\n",
    "\n",
    "    kwargs = {'num_workers': 2, 'pin_memory': False}\n",
    "\n",
    "    # Create datasetLoaders from trainset and testset\n",
    "    testsetLoader    = DataLoader(testset , batch_size=5, shuffle=True, **kwargs)\n",
    "    dataiter = iter(testsetLoader)\n",
    "    images, labels = dataiter.next()\n",
    "    images_ls[i] = images\n",
    "    label_ls[i] = labels"
   ]
  },
  {
   "cell_type": "code",
   "execution_count": 379,
   "metadata": {},
   "outputs": [
    {
     "name": "stderr",
     "output_type": "stream",
     "text": [
      "Clipping input data to the valid range for imshow with RGB data ([0..1] for floats or [0..255] for integers).\n"
     ]
    },
    {
     "data": {
      "image/png": "[encoded data removed]",
      "text/plain": [
       "<Figure size 432x288 with 1 Axes>"
      ]
     },
     "metadata": {
      "needs_background": "light"
     },
     "output_type": "display_data"
    },
    {
     "name": "stderr",
     "output_type": "stream",
     "text": [
      "Clipping input data to the valid range for imshow with RGB data ([0..1] for floats or [0..255] for integers).\n"
     ]
    },
    {
     "data": {
      "image/png": "[encoded data removed]",
      "text/plain": [
       "<Figure size 432x288 with 1 Axes>"
      ]
     },
     "metadata": {
      "needs_background": "light"
     },
     "output_type": "display_data"
    },
    {
     "name": "stderr",
     "output_type": "stream",
     "text": [
      "Clipping input data to the valid range for imshow with RGB data ([0..1] for floats or [0..255] for integers).\n"
     ]
    },
    {
     "data": {
      "image/png": "[encoded data removed]",
      "text/plain": [
       "<Figure size 432x288 with 1 Axes>"
      ]
     },
     "metadata": {
      "needs_background": "light"
     },
     "output_type": "display_data"
    },
    {
     "name": "stderr",
     "output_type": "stream",
     "text": [
      "Clipping input data to the valid range for imshow with RGB data ([0..1] for floats or [0..255] for integers).\n"
     ]
    },
    {
     "data": {
      "image/png": "[encoded data removed]",
      "text/plain": [
       "<Figure size 432x288 with 1 Axes>"
      ]
     },
     "metadata": {
      "needs_background": "light"
     },
     "output_type": "display_data"
    },
    {
     "name": "stderr",
     "output_type": "stream",
     "text": [
      "Clipping input data to the valid range for imshow with RGB data ([0..1] for floats or [0..255] for integers).\n"
     ]
    },
    {
     "data": {
      "image/png": "[encoded data removed]",
      "text/plain": [
       "<Figure size 432x288 with 1 Axes>"
      ]
     },
     "metadata": {
      "needs_background": "light"
     },
     "output_type": "display_data"
    },
    {
     "name": "stderr",
     "output_type": "stream",
     "text": [
      "Clipping input data to the valid range for imshow with RGB data ([0..1] for floats or [0..255] for integers).\n"
     ]
    },
    {
     "data": {
      "image/png": "[encoded data removed]",
      "text/plain": [
       "<Figure size 432x288 with 1 Axes>"
      ]
     },
     "metadata": {
      "needs_background": "light"
     },
     "output_type": "display_data"
    },
    {
     "name": "stderr",
     "output_type": "stream",
     "text": [
      "Clipping input data to the valid range for imshow with RGB data ([0..1] for floats or [0..255] for integers).\n"
     ]
    },
    {
     "data": {
      "image/png": "[encoded data removed]",
      "text/plain": [
       "<Figure size 432x288 with 1 Axes>"
      ]
     },
     "metadata": {
      "needs_background": "light"
     },
     "output_type": "display_data"
    },
    {
     "name": "stderr",
     "output_type": "stream",
     "text": [
      "Clipping input data to the valid range for imshow with RGB data ([0..1] for floats or [0..255] for integers).\n"
     ]
    },
    {
     "data": {
      "image/png": "[encoded data removed]",
      "text/plain": [
       "<Figure size 432x288 with 1 Axes>"
      ]
     },
     "metadata": {
      "needs_background": "light"
     },
     "output_type": "display_data"
    },
    {
     "name": "stderr",
     "output_type": "stream",
     "text": [
      "Clipping input data to the valid range for imshow with RGB data ([0..1] for floats or [0..255] for integers).\n"
     ]
    },
    {
     "data": {
      "image/png": "[encoded data removed]",
      "text/plain": [
       "<Figure size 432x288 with 1 Axes>"
      ]
     },
     "metadata": {
      "needs_background": "light"
     },
     "output_type": "display_data"
    },
    {
     "name": "stderr",
     "output_type": "stream",
     "text": [
      "Clipping input data to the valid range for imshow with RGB data ([0..1] for floats or [0..255] for integers).\n"
     ]
    },
    {
     "data": {
      "image/png": "[encoded data removed]",
      "text/plain": [
       "<Figure size 432x288 with 1 Axes>"
      ]
     },
     "metadata": {
      "needs_background": "light"
     },
     "output_type": "display_data"
    }
   ],
   "source": [
    "for i in classes:\n",
    "    imshow(torchvision.utils.make_grid(images_ls[i]))"
   ]
  },
  {
   "cell_type": "markdown",
   "metadata": {},
   "source": [
    "### Sample from SWAG Posterior Distribution"
   ]
  },
  {
   "cell_type": "code",
   "execution_count": 375,
   "metadata": {},
   "outputs": [],
   "source": [
    "# Generate weight samples\n",
    "S = 1000\n",
    "weight_samples = []\n",
    "for i in range(S):\n",
    "    samples = swag.weight_sampler()\n",
    "    weight_samples.append(samples)\n",
    "\n",
    "# Recreate Models:\n",
    "swag_models = []\n",
    "for s, weight_param in enumerate(weight_samples):\n",
    "    model_params = params_1d_to_weights(weight_param, swag.shape_lookup, swag.len_lookup)\n",
    "    new_net = create_NN_with_weights(swag.NN_class, model_params)\n",
    "    swag_models.append(new_net)"
   ]
  },
  {
   "cell_type": "code",
   "execution_count": 376,
   "metadata": {},
   "outputs": [
    {
     "name": "stderr",
     "output_type": "stream",
     "text": [
      "/anaconda3/lib/python3.6/site-packages/ipykernel_launcher.py:9: UserWarning: Implicit dimension choice for softmax has been deprecated. Change the call to include dim=X as an argument.\n",
      "  if __name__ == '__main__':\n"
     ]
    }
   ],
   "source": [
    "Prediction_var = {}\n",
    "sm = torch.nn.Softmax()\n",
    "for i in classes:\n",
    "    data = images_ls[i]\n",
    "    prediction_ls = []\n",
    "    for j in swag_models:\n",
    "        outputs=j(data)\n",
    "        prob = sm(outputs) \n",
    "        Prediction = np.argmax(prob.detach().numpy(),axis = 1)\n",
    "        prediction_ls.append(Prediction)\n",
    "    Prediction_var[i] = np.var(prediction_ls,axis = 0)\n",
    "        "
   ]
  },
  {
   "cell_type": "code",
   "execution_count": 377,
   "metadata": {},
   "outputs": [],
   "source": [
    "Epistemic_df = pd.DataFrame.from_dict(Prediction_var)"
   ]
  },
  {
   "cell_type": "code",
   "execution_count": 378,
   "metadata": {},
   "outputs": [
    {
     "data": {
      "text/plain": [
       "plane    0.127743\n",
       "car      0.133941\n",
       "bird     0.174468\n",
       "cat      0.134591\n",
       "deer     0.159312\n",
       "dog      0.091142\n",
       "frog     0.159871\n",
       "horse    0.150899\n",
       "ship     0.092147\n",
       "truck    0.159165\n",
       "dtype: float64"
      ]
     },
     "execution_count": 378,
     "metadata": {},
     "output_type": "execute_result"
    }
   ],
   "source": [
    "np.mean(Epistemic_df)"
   ]
  }
 ],
 "metadata": {
  "kernelspec": {
   "display_name": "Python 3",
   "language": "python",
   "name": "python3"
  },
  "language_info": {
   "codemirror_mode": {
    "name": "ipython",
    "version": 3
   },
   "file_extension": ".py",
   "mimetype": "text/x-python",
   "name": "python",
   "nbconvert_exporter": "python",
   "pygments_lexer": "ipython3",
   "version": "3.6.10"
  }
 },
 "nbformat": 4,
 "nbformat_minor": 4
}
