{
 "cells": [
  {
   "cell_type": "code",
   "execution_count": 31,
   "metadata": {},
   "outputs": [],
   "source": [
    "import numpy as np\n",
    "import torch\n",
    "import torch.nn as nn\n",
    "import torch.nn.functional as F\n",
    "\n",
    "from swag import SWAG\n",
    "from models import SimpleNet, ConvNN\n",
    "from util import model_param_to_1D, params_1d_to_weights, create_NN_with_weights"
   ]
  },
  {
   "cell_type": "markdown",
   "metadata": {},
   "source": [
    "# Check functions validity"
   ]
  },
  {
   "cell_type": "code",
   "execution_count": 32,
   "metadata": {},
   "outputs": [
    {
     "name": "stdout",
     "output_type": "stream",
     "text": [
      "SimpleNet(\n",
      "  (conv1): Conv2d(1, 6, kernel_size=(3, 3), stride=(1, 1))\n",
      "  (conv2): Conv2d(6, 16, kernel_size=(3, 3), stride=(1, 1))\n",
      "  (fc1): Linear(in_features=576, out_features=120, bias=True)\n",
      "  (fc2): Linear(in_features=120, out_features=84, bias=True)\n",
      "  (fc3): Linear(in_features=84, out_features=10, bias=True)\n",
      ")\n"
     ]
    }
   ],
   "source": [
    "net = SimpleNet()\n",
    "print(net)"
   ]
  },
  {
   "cell_type": "code",
   "execution_count": 33,
   "metadata": {},
   "outputs": [],
   "source": [
    "# Get params in 1D and the lookups\n",
    "params_1d, shape_lookup, len_lookup = model_param_to_1D(net)\n",
    "\n",
    "# Recover model_params\n",
    "model_params = params_1d_to_weights(params_1d, shape_lookup, len_lookup)\n",
    "train_weights = model_params[2].detach().numpy()"
   ]
  },
  {
   "cell_type": "code",
   "execution_count": 34,
   "metadata": {},
   "outputs": [],
   "source": [
    "# Create new net with weights\n",
    "new_net = create_NN_with_weights(SimpleNet, model_params)\n",
    "\n",
    "# Test if the params are still the same\n",
    "new_params = nn.ParameterList(new_net.parameters())\n",
    "test_weights = new_params[2].detach().numpy()\n",
    "\n",
    "assert np.all(test_weights == train_weights)"
   ]
  },
  {
   "cell_type": "code",
   "execution_count": 35,
   "metadata": {},
   "outputs": [
    {
     "name": "stdout",
     "output_type": "stream",
     "text": [
      "SimpleNet(\n",
      "  (conv1): Conv2d(1, 6, kernel_size=(3, 3), stride=(1, 1))\n",
      "  (conv2): Conv2d(6, 16, kernel_size=(3, 3), stride=(1, 1))\n",
      "  (fc1): Linear(in_features=576, out_features=120, bias=True)\n",
      "  (fc2): Linear(in_features=120, out_features=84, bias=True)\n",
      "  (fc3): Linear(in_features=84, out_features=10, bias=True)\n",
      ")\n"
     ]
    }
   ],
   "source": [
    "print(new_net)"
   ]
  },
  {
   "cell_type": "markdown",
   "metadata": {},
   "source": [
    "# SWAG Training"
   ]
  },
  {
   "cell_type": "code",
   "execution_count": 36,
   "metadata": {},
   "outputs": [],
   "source": [
    "import matplotlib.pyplot as plt\n",
    "import torch.optim as optim\n",
    "import torchvision\n",
    "import torchvision.transforms as transforms\n",
    "from torch.optim.lr_scheduler import CosineAnnealingLR, LambdaLR\n"
   ]
  },
  {
   "cell_type": "code",
   "execution_count": 37,
   "metadata": {},
   "outputs": [],
   "source": [
    "swag = SWAG(ConvNN, K = 2)"
   ]
  },
  {
   "cell_type": "code",
   "execution_count": 38,
   "metadata": {},
   "outputs": [
    {
     "name": "stdout",
     "output_type": "stream",
     "text": [
      "Files already downloaded and verified\n",
      "Files already downloaded and verified\n"
     ]
    }
   ],
   "source": [
    "transform = transforms.Compose(\n",
    "    [transforms.ToTensor(),\n",
    "     transforms.Normalize((0.5, 0.5, 0.5), (0.5, 0.5, 0.5))])\n",
    "\n",
    "trainset = torchvision.datasets.CIFAR10(root='./data', train=True,\n",
    "                                        download=True, transform=transform)\n",
    "trainloader = torch.utils.data.DataLoader(trainset, batch_size=4,\n",
    "                                          shuffle=True, num_workers=2)\n",
    "\n",
    "testset = torchvision.datasets.CIFAR10(root='./data', train=False,\n",
    "                                       download=True, transform=transform)\n",
    "testloader = torch.utils.data.DataLoader(testset, batch_size=4,\n",
    "                                         shuffle=False, num_workers=2)\n",
    "\n",
    "classes = ('plane', 'car', 'bird', 'cat',\n",
    "           'deer', 'dog', 'frog', 'horse', 'ship', 'truck')"
   ]
  },
  {
   "cell_type": "code",
   "execution_count": 39,
   "metadata": {},
   "outputs": [
    {
     "name": "stdout",
     "output_type": "stream",
     "text": [
      "truck   car  frog   car\n"
     ]
    },
    {
     "data": {
      "image/png": "[encoded data removed]",
      "text/plain": [
       "<Figure size 432x288 with 1 Axes>"
      ]
     },
     "metadata": {
      "needs_background": "light"
     },
     "output_type": "display_data"
    }
   ],
   "source": [
    "# functions to show an image\n",
    "def imshow(img):\n",
    "    img = img / 2 + 0.5     # unnormalize\n",
    "    npimg = img.numpy()\n",
    "    plt.imshow(np.transpose(npimg, (1, 2, 0)))\n",
    "    plt.show()\n",
    "\n",
    "\n",
    "# get some random training images\n",
    "dataiter = iter(trainloader)\n",
    "images, labels = dataiter.next()\n",
    "\n",
    "# print labels\n",
    "print(' '.join('%5s' % classes[labels[j]] for j in range(4)))\n",
    "# show images\n",
    "imshow(torchvision.utils.make_grid(images))"
   ]
  },
  {
   "cell_type": "code",
   "execution_count": 40,
   "metadata": {},
   "outputs": [],
   "source": [
    "# Compile swa\n",
    "\n",
    "lr = 1e-3\n",
    "momentum=0.9\n",
    "optimizer = optim.SGD\n",
    "loss_fn = nn.CrossEntropyLoss()\n",
    "train_scheduler = CosineAnnealingLR\n",
    "swa_scheduler = LambdaLR\n",
    "\n",
    "swag.compile(lr, momentum, optimizer, loss_fn, train_scheduler, swa_scheduler)"
   ]
  },
  {
   "cell_type": "code",
   "execution_count": 41,
   "metadata": {},
   "outputs": [
    {
     "name": "stdout",
     "output_type": "stream",
     "text": [
      "Begin NN model training:\n",
      "[1,  2000] loss: 2.190\n",
      "[1,  4000] loss: 1.864\n",
      "[1,  6000] loss: 1.705\n",
      "[1,  8000] loss: 1.617\n",
      "[1, 10000] loss: 1.527\n",
      "[1, 12000] loss: 1.444\n",
      "[2,  2000] loss: 1.387\n",
      "[2,  4000] loss: 1.337\n",
      "[2,  6000] loss: 1.320\n",
      "[2,  8000] loss: 1.333\n",
      "[2, 10000] loss: 1.308\n",
      "[2, 12000] loss: 1.251\n",
      "\n",
      "Begin SWAG training:\n",
      "[1,  2000] loss: 1.177\n",
      "[1,  4000] loss: 1.201\n",
      "[1,  6000] loss: 1.175\n",
      "[1,  8000] loss: 1.166\n",
      "[1, 10000] loss: 1.159\n",
      "[1, 12000] loss: 1.170\n",
      "[2,  2000] loss: 1.068\n",
      "[2,  4000] loss: 1.070\n",
      "[2,  6000] loss: 1.077\n",
      "[2,  8000] loss: 1.048\n",
      "[2, 10000] loss: 1.056\n",
      "[2, 12000] loss: 1.065\n"
     ]
    }
   ],
   "source": [
    "# Fit swag\n",
    "first_mom, second_mom, D = swag.fit(trainloader,\n",
    "                                    train_epoch=2,\n",
    "                                    swag_epoch=2)"
   ]
  },
  {
   "cell_type": "code",
   "execution_count": 42,
   "metadata": {},
   "outputs": [
    {
     "data": {
      "text/plain": [
       "((62006,), (62006,), (62006, 2))"
      ]
     },
     "execution_count": 42,
     "metadata": {},
     "output_type": "execute_result"
    }
   ],
   "source": [
    "first_mom.shape, second_mom.shape, D.shape\n"
   ]
  },
  {
   "cell_type": "code",
   "execution_count": 43,
   "metadata": {},
   "outputs": [
    {
     "data": {
      "text/plain": [
       "-58.50238164231121"
      ]
     },
     "execution_count": 43,
     "metadata": {},
     "output_type": "execute_result"
    }
   ],
   "source": [
    "D.sum()"
   ]
  },
  {
   "cell_type": "code",
   "execution_count": 46,
   "metadata": {},
   "outputs": [
    {
     "data": {
      "text/plain": [
       "(62006, 2)"
      ]
     },
     "execution_count": 46,
     "metadata": {},
     "output_type": "execute_result"
    }
   ],
   "source": [
    "D.shape"
   ]
  },
  {
   "cell_type": "code",
   "execution_count": 44,
   "metadata": {},
   "outputs": [
    {
     "data": {
      "text/plain": [
       "7.231106847321823"
      ]
     },
     "execution_count": 44,
     "metadata": {},
     "output_type": "execute_result"
    }
   ],
   "source": [
    "(second_mom-first_mom**2).sum()"
   ]
  },
  {
   "cell_type": "code",
   "execution_count": 45,
   "metadata": {},
   "outputs": [
    {
     "name": "stdout",
     "output_type": "stream",
     "text": [
      "[2.06526587e-03 2.02428407e-03 1.42268307e-03 4.71645777e-07\n",
      " 8.20975579e-05 1.76136830e-03 3.89748363e-06 5.82148916e-03\n",
      " 2.80720470e-03 9.66507445e-04 9.99467725e-04 4.66008459e-03\n",
      " 2.03705850e-03 2.52608510e-04 2.88220024e-03 6.88619251e-04\n",
      " 1.53876056e-03 6.10920298e-04 1.01657138e-03 1.29370601e-05\n",
      " 1.00571039e-04 5.96218173e-04 2.66447876e-04 6.22490115e-04\n",
      " 9.56419109e-04 5.83598210e-04 2.75394367e-03 1.94509287e-03\n",
      " 5.68454578e-05 5.40620671e-05 3.30967699e-03 3.15758396e-04\n",
      " 2.09915267e-03 8.37204923e-04 1.17826182e-03 2.19343810e-03\n",
      " 1.75519620e-03 1.66208861e-04 1.65486138e-03 3.12521005e-03\n",
      " 7.57174559e-05 2.49928236e-04 2.04840598e-03 2.59524640e-03\n",
      " 6.36728379e-06 1.28495367e-04 8.35147842e-04 2.80771963e-04\n",
      " 5.25253801e-04 6.55857593e-04 6.17038923e-03 7.04030100e-05\n",
      " 3.34793359e-06 4.58322204e-04 1.12967210e-04 5.51166171e-04\n",
      " 1.77514382e-04 4.08473762e-03 2.03595542e-03 1.76560020e-04\n",
      " 1.04235374e-03 3.03955732e-03 5.97823832e-04 4.47295413e-04\n",
      " 6.95851858e-04 2.24176887e-04 8.90701748e-04 5.61711135e-04\n",
      " 4.89049151e-04 1.14555775e-03 2.28129165e-05 1.34272242e-04\n",
      " 9.46810930e-05 2.88307404e-03 3.47324768e-03 2.08894847e-04\n",
      " 6.76398016e-05 1.57395049e-06 1.09522196e-03 5.47239661e-04\n",
      " 1.28383098e-07 6.64624296e-04 1.34196521e-03 5.03584425e-04\n",
      " 2.43684427e-03 2.49920815e-04 2.10617246e-04 1.81615985e-05\n",
      " 1.28018371e-03 3.72327125e-04 8.18310769e-06 1.16166469e-05\n",
      " 2.56218875e-03 1.03050038e-04 3.90283466e-05 2.17657133e-04\n",
      " 8.28562370e-04 5.99908213e-04 5.46427606e-04 3.45307387e-04]\n",
      "[[ 0.         -0.0454452 ]\n",
      " [ 0.          0.04499204]\n",
      " [ 0.          0.03771847]\n",
      " [ 0.          0.00068676]\n",
      " [ 0.          0.00906077]\n",
      " [ 0.          0.04196866]\n",
      " [ 0.         -0.0019742 ]\n",
      " [ 0.         -0.07629868]\n",
      " [ 0.         -0.05298306]\n",
      " [ 0.          0.0310887 ]\n",
      " [ 0.          0.03161436]\n",
      " [ 0.         -0.06826481]\n",
      " [ 0.         -0.04513378]\n",
      " [ 0.          0.01589366]\n",
      " [ 0.          0.05368613]\n",
      " [ 0.         -0.02624156]\n",
      " [ 0.         -0.03922704]\n",
      " [ 0.          0.0247168 ]\n",
      " [ 0.          0.03188372]\n",
      " [ 0.         -0.00359681]\n",
      " [ 0.          0.01002851]\n",
      " [ 0.          0.02441758]\n",
      " [ 0.          0.01632323]\n",
      " [ 0.         -0.02494975]\n",
      " [ 0.         -0.03092603]\n",
      " [ 0.         -0.02415778]\n",
      " [ 0.          0.05247803]\n",
      " [ 0.          0.04410321]\n",
      " [ 0.          0.00753959]\n",
      " [ 0.          0.00735269]\n",
      " [ 0.          0.05752979]\n",
      " [ 0.          0.01776959]\n",
      " [ 0.         -0.04581651]\n",
      " [ 0.         -0.02893449]\n",
      " [ 0.          0.03432582]\n",
      " [ 0.          0.04683416]\n",
      " [ 0.         -0.04189506]\n",
      " [ 0.         -0.0128922 ]\n",
      " [ 0.          0.04067999]\n",
      " [ 0.          0.05590358]\n",
      " [ 0.         -0.00870158]\n",
      " [ 0.         -0.01580912]\n",
      " [ 0.          0.04525932]\n",
      " [ 0.          0.05094356]\n",
      " [ 0.          0.00252335]\n",
      " [ 0.          0.01133558]\n",
      " [ 0.          0.02889892]\n",
      " [ 0.          0.01675625]\n",
      " [ 0.         -0.02291842]\n",
      " [ 0.         -0.02560972]\n",
      " [ 0.         -0.07855183]\n",
      " [ 0.         -0.00839065]\n",
      " [ 0.         -0.00182974]\n",
      " [ 0.         -0.02140846]\n",
      " [ 0.         -0.0106286 ]\n",
      " [ 0.          0.02347693]\n",
      " [ 0.         -0.01332345]\n",
      " [ 0.         -0.06391195]\n",
      " [ 0.         -0.04512156]\n",
      " [ 0.          0.01328759]\n",
      " [ 0.          0.0322855 ]\n",
      " [ 0.         -0.05513218]\n",
      " [ 0.         -0.02445044]\n",
      " [ 0.          0.02114936]\n",
      " [ 0.          0.026379  ]\n",
      " [ 0.         -0.01497254]\n",
      " [ 0.         -0.02984463]\n",
      " [ 0.          0.02370045]\n",
      " [ 0.          0.02211446]\n",
      " [ 0.         -0.03384609]\n",
      " [ 0.          0.00477629]\n",
      " [ 0.          0.01158759]\n",
      " [ 0.         -0.00973042]\n",
      " [ 0.         -0.05369426]\n",
      " [ 0.         -0.05893427]\n",
      " [ 0.          0.0144532 ]\n",
      " [ 0.         -0.00822434]\n",
      " [ 0.          0.00125457]\n",
      " [ 0.          0.03309414]\n",
      " [ 0.          0.02339315]\n",
      " [ 0.          0.00035831]\n",
      " [ 0.         -0.02578031]\n",
      " [ 0.         -0.03663284]\n",
      " [ 0.         -0.02244069]\n",
      " [ 0.          0.0493644 ]\n",
      " [ 0.         -0.01580888]\n",
      " [ 0.         -0.01451266]\n",
      " [ 0.          0.00426164]\n",
      " [ 0.         -0.03577965]\n",
      " [ 0.          0.01929578]\n",
      " [ 0.         -0.00286061]\n",
      " [ 0.         -0.00340832]\n",
      " [ 0.          0.05061807]\n",
      " [ 0.          0.01015136]\n",
      " [ 0.         -0.00624727]\n",
      " [ 0.         -0.01475321]\n",
      " [ 0.         -0.02878476]\n",
      " [ 0.          0.02449302]\n",
      " [ 0.          0.02337579]\n",
      " [ 0.          0.01858245]] [[ 0.00068842 -0.00068156 -0.00057137 ... -0.00037103 -0.00035411\n",
      "  -0.00028149]\n",
      " [-0.00068156  0.00067476  0.00056568 ...  0.00036733  0.00035057\n",
      "   0.00027869]\n",
      " [-0.00057137  0.00056568  0.00047423 ...  0.00030795  0.0002939\n",
      "   0.00023363]\n",
      " ...\n",
      " [-0.00037103  0.00036733  0.00030795 ...  0.00019997  0.00019085\n",
      "   0.00015171]\n",
      " [-0.00035411  0.00035057  0.0002939  ...  0.00019085  0.00018214\n",
      "   0.00014479]\n",
      " [-0.00028149  0.00027869  0.00023363 ...  0.00015171  0.00014479\n",
      "   0.0001151 ]] 3\n",
      "tensor([ 0.7251, -0.1763, -0.9321, -0.2493, -0.8106, -0.1470, -0.7054, -1.1195,\n",
      "        -0.2302,  0.3553,  1.9865,  0.3253,  0.5241, -1.2785, -0.9930,  0.8850,\n",
      "        -0.5588, -0.6247,  0.7687, -0.6276, -0.3668,  0.0503, -1.0538, -0.8440,\n",
      "         1.6582,  0.3168, -0.9206,  0.0743,  0.6471,  0.7700,  0.8436, -0.4915,\n",
      "        -0.2013,  0.7018,  0.5467,  0.2237,  0.5555, -0.8171, -0.6645,  0.0398,\n",
      "        -1.4127, -1.3679,  0.1514, -1.9345, -1.2362, -0.3440,  1.7930, -1.3303,\n",
      "        -0.5218, -0.9647, -0.7575,  1.0199, -2.1708,  0.3016,  1.7562,  2.4418,\n",
      "         1.3167, -0.1954, -0.6842,  0.4472, -0.0075,  1.1060,  0.4398,  1.2642,\n",
      "        -0.6052, -0.0460,  0.2008,  0.8360, -1.2168, -0.4326,  2.0566,  0.4756,\n",
      "         0.5022,  0.4424, -1.0787, -0.0086, -2.7600, -0.2604, -0.6033,  0.6540,\n",
      "         1.9473,  0.4642, -0.2482, -2.9779, -1.0177, -0.7831,  1.8716,  0.0062,\n",
      "        -0.2924,  0.5444, -0.4875, -0.4959,  1.0308,  1.3517, -0.6821, -0.8533,\n",
      "         0.7048, -0.4066,  0.7529, -0.1308], dtype=torch.float64)\n",
      "tensor([-3.1972e-02, -1.2804e-02, -2.2461e-02, -2.6318e-04, -4.5296e-04,\n",
      "        -2.2737e-02,  2.8676e-03, -1.7128e-02,  3.1392e-02,  3.8866e-03,\n",
      "         3.3981e-02, -7.7349e-02,  1.8706e-02, -9.4952e-03,  1.1353e-02,\n",
      "         1.6535e-02, -1.8260e-02,  8.4364e-03, -8.5124e-04,  3.0121e-03,\n",
      "         6.7715e-03, -9.4554e-03,  1.1278e-02, -4.0203e-02, -4.0501e-03,\n",
      "        -9.2709e-04,  1.0557e-02, -4.4549e-02,  2.9502e-03,  4.1260e-03,\n",
      "         9.0367e-03,  2.2066e-02,  3.8957e-02,  1.2817e-02, -2.8077e-03,\n",
      "         4.3149e-02, -1.6755e-02, -1.8849e-02,  4.1944e-02,  1.0080e-01,\n",
      "        -4.0508e-03,  3.1239e-03, -6.2618e-03,  2.6414e-02, -3.4693e-04,\n",
      "         8.3462e-03, -1.3585e-02,  3.3826e-03,  1.9451e-03,  1.2462e-02,\n",
      "         1.2997e-01,  1.2328e-02, -6.8680e-04, -1.0386e-02, -1.0944e-02,\n",
      "        -1.6538e-02,  4.4764e-03, -3.7439e-02, -1.6730e-02,  5.2352e-04,\n",
      "         2.1568e-03,  2.2859e-02, -2.9336e-02, -2.0406e-03,  1.9602e-02,\n",
      "        -1.8768e-02,  1.2980e-03,  2.4534e-02, -1.3055e-02, -1.5245e-02,\n",
      "        -4.2580e-03, -4.8494e-04,  3.5828e-03,  8.0556e-03, -2.2106e-02,\n",
      "         9.0307e-03, -3.8676e-03,  1.0189e-04, -2.2565e-02, -2.3201e-02,\n",
      "         3.7844e-04, -1.0113e-02, -5.7121e-02, -1.1657e-02,  5.2823e-03,\n",
      "        -3.7829e-03, -4.5527e-03, -1.5864e-03,  1.6053e-02, -1.8994e-02,\n",
      "         1.8232e-03, -3.1395e-03, -7.1092e-02, -2.9061e-03, -4.7013e-03,\n",
      "         6.5556e-03, -2.2524e-03,  1.1709e-02, -1.7991e-02,  1.3754e-02],\n",
      "       dtype=torch.float64)\n",
      "torch.Size([100])\n"
     ]
    }
   ],
   "source": [
    "# sample weights\n",
    "weights = swag.weight_sampler(first_mom[0:100], second_mom[0:100], D[0:100,:], S=1)"
   ]
  },
  {
   "cell_type": "code",
   "execution_count": 14,
   "metadata": {
    "pycharm": {
     "name": "#%%\n"
    }
   },
   "outputs": [
    {
     "name": "stdout",
     "output_type": "stream",
     "text": [
      "torch.Size([100])\n"
     ]
    },
    {
     "data": {
      "text/plain": [
       "(62006,)"
      ]
     },
     "execution_count": 14,
     "metadata": {},
     "output_type": "execute_result"
    }
   ],
   "source": [
    "print(weights.shape)\n",
    "swag.params_1d.shape"
   ]
  },
  {
   "cell_type": "code",
   "execution_count": 15,
   "metadata": {
    "pycharm": {
     "name": "#%%\n"
    }
   },
   "outputs": [
    {
     "ename": "AttributeError",
     "evalue": "'CIFAR10' object has no attribute 'shape'",
     "output_type": "error",
     "traceback": [
      "\u001b[0;31m---------------------------------------------------------------------------\u001b[0m",
      "\u001b[0;31mAttributeError\u001b[0m                            Traceback (most recent call last)",
      "\u001b[0;32m<ipython-input-15-9b045f6e193c>\u001b[0m in \u001b[0;36m<module>\u001b[0;34m\u001b[0m\n\u001b[0;32m----> 1\u001b[0;31m \u001b[0mswag\u001b[0m\u001b[0;34m.\u001b[0m\u001b[0mpredict\u001b[0m\u001b[0;34m(\u001b[0m\u001b[0mtestset\u001b[0m\u001b[0;34m,\u001b[0m \u001b[0mfirst_mom\u001b[0m\u001b[0;34m,\u001b[0m \u001b[0msecond_mom\u001b[0m\u001b[0;34m,\u001b[0m \u001b[0mD\u001b[0m\u001b[0;34m,\u001b[0m \u001b[0mS\u001b[0m\u001b[0;34m=\u001b[0m\u001b[0;36m1\u001b[0m\u001b[0;34m)\u001b[0m\u001b[0;34m\u001b[0m\u001b[0;34m\u001b[0m\u001b[0m\n\u001b[0m",
      "\u001b[0;32m~/Desktop/AM207/swag_uncertainty/code/swag.py\u001b[0m in \u001b[0;36mpredict\u001b[0;34m(self, X_test, first_mom, second_mom, D, S)\u001b[0m\n\u001b[1;32m    177\u001b[0m         \"\"\"\n\u001b[1;32m    178\u001b[0m         \u001b[0;31m# Initialize storage for predictions\u001b[0m\u001b[0;34m\u001b[0m\u001b[0;34m\u001b[0m\u001b[0;34m\u001b[0m\u001b[0m\n\u001b[0;32m--> 179\u001b[0;31m         \u001b[0mpredictions\u001b[0m \u001b[0;34m=\u001b[0m \u001b[0mnp\u001b[0m\u001b[0;34m.\u001b[0m\u001b[0mempty\u001b[0m\u001b[0;34m(\u001b[0m\u001b[0;34m(\u001b[0m\u001b[0mX_test\u001b[0m\u001b[0;34m.\u001b[0m\u001b[0mshape\u001b[0m\u001b[0;34m[\u001b[0m\u001b[0;36m0\u001b[0m\u001b[0;34m]\u001b[0m\u001b[0;34m,\u001b[0m \u001b[0mS\u001b[0m\u001b[0;34m)\u001b[0m\u001b[0;34m)\u001b[0m\u001b[0;34m\u001b[0m\u001b[0;34m\u001b[0m\u001b[0m\n\u001b[0m\u001b[1;32m    180\u001b[0m \u001b[0;34m\u001b[0m\u001b[0m\n\u001b[1;32m    181\u001b[0m         \u001b[0;31m# Generate weight samples\u001b[0m\u001b[0;34m\u001b[0m\u001b[0;34m\u001b[0m\u001b[0;34m\u001b[0m\u001b[0m\n",
      "\u001b[0;31mAttributeError\u001b[0m: 'CIFAR10' object has no attribute 'shape'"
     ]
    }
   ],
   "source": [
    "swag.predict(testset, first_mom, second_mom, D, S=1)\n"
   ]
  }
 ],
 "metadata": {
  "kernelspec": {
   "display_name": "PyCharm (swag_uncertainty)",
   "language": "python",
   "name": "pycharm-d67744e8"
  },
  "language_info": {
   "codemirror_mode": {
    "name": "ipython",
    "version": 3
   },
   "file_extension": ".py",
   "mimetype": "text/x-python",
   "name": "python",
   "nbconvert_exporter": "python",
   "pygments_lexer": "ipython3",
   "version": "3.7.4"
  }
 },
 "nbformat": 4,
 "nbformat_minor": 2
}
