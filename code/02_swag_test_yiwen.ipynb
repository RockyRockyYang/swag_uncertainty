{
 "cells": [
  {
   "cell_type": "code",
   "execution_count": 1,
   "metadata": {},
   "outputs": [],
   "source": [
    "import numpy as np\n",
    "import torch\n",
    "import torch.nn as nn\n",
    "import torch.nn.functional as F\n",
    "\n",
    "from models import SimpleNet, ConvNN\n",
    "from util import model_param_to_1D, params_1d_to_weights, create_NN_with_weights"
   ]
  },
  {
   "cell_type": "code",
   "execution_count": 168,
   "metadata": {},
   "outputs": [],
   "source": [
    "class SWAG:\n",
    "    \"\"\" Implements the SWAG paper: https://arxiv.org/pdf/1902.02476.pdf\n",
    "    \"\"\"\n",
    "    def __init__(self, NN_class, K):\n",
    "        ''' Params:\n",
    "                nn (): the NN on which Swag is performed\n",
    "                K (int): maximum number of columns in deviation matrix\n",
    "        '''\n",
    "\n",
    "        # Neural Network related params\n",
    "        self.NN_class = NN_class\n",
    "        self.net = NN_class()\n",
    "        self.params_1d, self.shape_lookup, self.len_lookup = model_param_to_1D(self.net)\n",
    "        self.weigt_D = len(self.params_1d)\n",
    "\n",
    "        # SWAG params\n",
    "        self.K = K\n",
    "\n",
    "    def init_storage(self):\n",
    "        first_mom = np.zeros(self.weigt_D)\n",
    "        second_mom = np.zeros(self.weigt_D)\n",
    "        D = np.zeros((self.weigt_D, self.K))\n",
    "        return first_mom, second_mom, D\n",
    "\n",
    "    def net_step(self,\n",
    "                 epoch: int,\n",
    "                 train_mode: bool = False,\n",
    "                 return_weights: bool = False):\n",
    "        if not self.optimizer:\n",
    "            raise RuntimeError(\"Please compile the model before training.\")\n",
    "\n",
    "        # Store and print running_loss\n",
    "        running_loss = 0.0\n",
    "        for i, data in enumerate(self.train_loader, 0):\n",
    "            X_train, y_train = data\n",
    "            self.optimizer.zero_grad()\n",
    "            loss = self.loss_fn(self.net(X_train), y_train)\n",
    "            loss.backward()\n",
    "            self.optimizer.step()\n",
    "\n",
    "            # Training mode\n",
    "            if train_mode:\n",
    "                self.train_scheduler.step()\n",
    "            # Swag mode\n",
    "            else:\n",
    "                self.swa_scheduler.step()\n",
    "\n",
    "            # print statistics\n",
    "            running_loss += loss.item()\n",
    "            if i % 2000 == 1999:    # print every 2000 mini-batches\n",
    "                print('[%d, %5d] loss: %.3f' %\n",
    "                      (epoch + 1, i + 1, running_loss / 2000))\n",
    "                running_loss = 0.0\n",
    "\n",
    "        # If return_weights\n",
    "        if return_weights:\n",
    "            new_weights, _, _ = model_param_to_1D(self.net)\n",
    "            return new_weights\n",
    "\n",
    "    def update_moments(self,\n",
    "                       n: int,\n",
    "                       first_mom: np.ndarray,\n",
    "                       second_mom: np.ndarray,\n",
    "                       new_weights: np.ndarray) -> (np.ndarray, np.ndarray):\n",
    "        ''' Updates the momements storage vectors\n",
    "            Params:\n",
    "                n(int): number of models so far\n",
    "                first_mom(np.ndarray): storage for first moment\n",
    "                second_mom(np.ndarray): storage for second moment\n",
    "                new_weights(np.ndarray): updated weights\n",
    "            Output:\n",
    "                first_mom_new(np.ndarray): updated first moment\n",
    "                second_mom_new(np.ndarray): updated second moment\n",
    "        '''\n",
    "        second_mom_step = np.power(new_weights, 2)\n",
    "        first_mom_new = (n*first_mom+new_weights) / (n+1)\n",
    "        second_mom_new = (n*second_mom+second_mom_step) / (n+1)\n",
    "        return first_mom_new, second_mom_new\n",
    "\n",
    "    def update_D(self,\n",
    "                 swag_step: int,\n",
    "                 D: np.ndarray,\n",
    "                 first_mom: np.ndarray,\n",
    "                 new_weights: np.ndarray):\n",
    "        ''' Update the Deviation matrix\n",
    "            Params:\n",
    "                swag_step(int): step number of swag epochs\n",
    "                D(np.ndarray): deviation matrix\n",
    "                first_mom(np.ndarray): storage for first moment\n",
    "                new_weights(np.ndarray): updated weights\n",
    "            Output:\n",
    "                D_new: updated deviation matrix\n",
    "        '''\n",
    "        D_new = D.copy()\n",
    "        update_col = swag_step % self.K\n",
    "        diff_vec = new_weights - first_mom\n",
    "        D_new[:, update_col] = diff_vec\n",
    "        return D_new\n",
    "\n",
    "    def compile(self,\n",
    "                lr: float,\n",
    "                momentum: float,\n",
    "                optimizer: torch.optim.Optimizer,\n",
    "                loss_fn: torch.nn.modules.loss._Loss,\n",
    "                train_scheduler,\n",
    "                swa_scheduler):\n",
    "        ''' Compiles the model\n",
    "        '''\n",
    "        self.optimizer = optimizer(self.net.parameters(), lr, momentum)\n",
    "        self.loss_fn = loss_fn\n",
    "        self.train_scheduler = train_scheduler(self.optimizer, T_max=100)\n",
    "        const_lr = lambda x: 1\n",
    "        self.swa_scheduler = swa_scheduler(self.optimizer, lr_lambda=const_lr)\n",
    "\n",
    "    def fit(self,\n",
    "            train_loader,\n",
    "            train_epoch: int,\n",
    "            swag_epoch: int,\n",
    "            c: int = 1) -> (np.array, np.array, np.ndarray):\n",
    "        ''' Main func that fits the swag model\n",
    "            Params:\n",
    "                train_loader()\n",
    "                train_epoch(int): the number of steps to train NN\n",
    "                swag_epoch(int): number of steps to perform swag\n",
    "                c(int): moment update frequency, thinning factor\n",
    "            Output:\n",
    "                first_mom(np.ndarray): the trained first mom\n",
    "                second_mom(np.ndarray): the trained second mom\n",
    "                D(np.ndarray): the trained deviation matrix\n",
    "        '''\n",
    "        # Save train_loader\n",
    "        self.train_loader = train_loader\n",
    "\n",
    "        if (swag_epoch // c) < self.K:\n",
    "            raise ValueError(f\"swag_epoch//c={swag_epoch//c} needs to be at least K={K}\")\n",
    "\n",
    "        # Init storage\n",
    "        first_mom, second_mom, D = self.init_storage()\n",
    "\n",
    "        # Train nn for train_epoch\n",
    "        print(\"Begin NN model training:\")\n",
    "        for i in range(train_epoch):\n",
    "            self.net_step(i)\n",
    "\n",
    "        # Perform SWAG inference\n",
    "        print(\"\\nBegin SWAG training:\")\n",
    "        for i in range(swag_epoch):\n",
    "            # Perform SGD for 1 step\n",
    "            new_weights = self.net_step(i, return_weights=True)\n",
    "\n",
    "            # Update the first and second moms\n",
    "            n_model = i // c\n",
    "            first_mom, second_mom = self.update_moments(n_model,\n",
    "                                                        first_mom,\n",
    "                                                        second_mom,\n",
    "                                                        new_weights)\n",
    "\n",
    "            # Update D matrix\n",
    "            if i % c == 0:\n",
    "                D = self.update_D(i, D, first_mom, new_weights)\n",
    "        return first_mom, second_mom, D\n",
    "\n",
    "    def predict(self, X_test, classes, first_mom, second_mom, D, S):\n",
    "        \"\"\" Params:\n",
    "                X_test(np.ndarray): test data\n",
    "                classes(np.ndarray): list of all labels\n",
    "                first_mom(np.ndarray): the trained first mom\n",
    "                second_mom(np.ndarray): the trained second mom\n",
    "                D(np.ndarray): the trained deviation matrix\n",
    "                S(int): number of posterior inference steps\n",
    "            Outputs:\n",
    "                predictions: model predictions\n",
    "        \"\"\"\n",
    "        # Initialize storage for probabilities\n",
    "        prob = np.zeros((len(X_test),len(classes)))\n",
    "\n",
    "        # Generate weight samples\n",
    "        weight_samples = []\n",
    "        for i in range(S):\n",
    "            samples = swag.weight_sampler(first_mom, second_mom, D)\n",
    "            weight_samples.append(samples)\n",
    "        # Recreate new net\n",
    "        for s, weight_param in enumerate(weight_samples):\n",
    "            model_params = params_1d_to_weights(weight_param, swag.shape_lookup, swag.len_lookup)\n",
    "            new_net = create_NN_with_weights(swag.NN_class, model_params)\n",
    "            output = new_net.forward(images)\n",
    "            softmax = torch.exp(output)\n",
    "            prob = prob + list(softmax.detach().numpy()*1/S)\n",
    "        predictions = np.argmax(prob, axis=1)\n",
    "        return predictions\n",
    "\n",
    "    def weight_sampler(self,first_mom, second_mom, D):\n",
    "        \"\"\" Params:\n",
    "                first_mom(np.ndarray): the trained first mom\n",
    "                second_mom(np.ndarray): the trained second mom\n",
    "                D(np.ndarray): the trained deviation matrix\n",
    "            Outputs:\n",
    "                weights(theta): the weights sampled from the multinomial distribution\n",
    "        \"\"\"\n",
    "\n",
    "        mean = torch.tensor(first_mom,requires_grad=False)\n",
    "        sigma_diag = torch.tensor(second_mom - first_mom**2)\n",
    "        var_sample = ((1/2)*sigma_diag).sqrt()* torch.randn_like(sigma_diag, requires_grad=False)\n",
    "        D_tensor = torch.tensor(D,requires_grad=False)\n",
    "        D_sample = np.sqrt((1/2*self.K-1)) *D_tensor@torch.randn_like(D_tensor[0,:], requires_grad=False)\n",
    "        print(sigma_diag.shape, var_sample.shape,D_tensor.shape,D_sample.shape)\n",
    "        D_reshaped = D_sample.view_as(mean)\n",
    "        print(D_reshaped.shape)\n",
    "        weights = mean + var_sample + D_reshaped\n",
    "        print(weights.shape)\n",
    "        return weights\n",
    "    \n",
    "#         D_flattened = torch.tensor(np.sum(D,axis=1),requires_grad=False)\n",
    "#         print(np.sum(D,axis=1),D_flattened.shape)\n",
    "#         print((D_flattened@D_flattened.T)/(2*self.K-1))\n",
    "#         print((1/2)*sigma_diag)\n",
    "#         var = (1/2)*sigma_diag+(D_flattened@D_flattened.T)/(2*self.K-1)\n",
    "#         var_sample = var.sqrt()* torch.randn_like(var, requires_grad=False)\n",
    "#         print(var_sample,var_sample.shape)\n",
    "#         weights = weights.reshape((-1,1))"
   ]
  },
  {
   "cell_type": "markdown",
   "metadata": {},
   "source": [
    "# Check functions validity"
   ]
  },
  {
   "cell_type": "code",
   "execution_count": 3,
   "metadata": {},
   "outputs": [
    {
     "name": "stdout",
     "output_type": "stream",
     "text": [
      "SimpleNet(\n",
      "  (conv1): Conv2d(1, 6, kernel_size=(3, 3), stride=(1, 1))\n",
      "  (conv2): Conv2d(6, 16, kernel_size=(3, 3), stride=(1, 1))\n",
      "  (fc1): Linear(in_features=576, out_features=120, bias=True)\n",
      "  (fc2): Linear(in_features=120, out_features=84, bias=True)\n",
      "  (fc3): Linear(in_features=84, out_features=10, bias=True)\n",
      ")\n"
     ]
    }
   ],
   "source": [
    "net = SimpleNet()\n",
    "print(net)"
   ]
  },
  {
   "cell_type": "code",
   "execution_count": 105,
   "metadata": {},
   "outputs": [],
   "source": [
    "# Get params in 1D and the lookups\n",
    "params_1d, shape_lookup, len_lookup = model_param_to_1D(net)\n",
    "\n",
    "# Recover model_params\n",
    "model_params = params_1d_to_weights(params_1d, shape_lookup, len_lookup)\n",
    "train_weights = model_params[2].detach().numpy()"
   ]
  },
  {
   "cell_type": "code",
   "execution_count": 107,
   "metadata": {
    "scrolled": true
   },
   "outputs": [
    {
     "data": {
      "text/plain": [
       "array([ 0.09826159,  0.05847538, -0.14085405, ..., -0.0629486 ,\n",
       "        0.04887664,  0.06000205])"
      ]
     },
     "execution_count": 107,
     "metadata": {},
     "output_type": "execute_result"
    }
   ],
   "source": [
    "params_1d"
   ]
  },
  {
   "cell_type": "code",
   "execution_count": 108,
   "metadata": {},
   "outputs": [
    {
     "data": {
      "text/plain": [
       "[torch.Size([6, 1, 3, 3]),\n",
       " torch.Size([6]),\n",
       " torch.Size([16, 6, 3, 3]),\n",
       " torch.Size([16]),\n",
       " torch.Size([120, 576]),\n",
       " torch.Size([120]),\n",
       " torch.Size([84, 120]),\n",
       " torch.Size([84]),\n",
       " torch.Size([10, 84]),\n",
       " torch.Size([10])]"
      ]
     },
     "execution_count": 108,
     "metadata": {},
     "output_type": "execute_result"
    }
   ],
   "source": [
    "shape_lookup"
   ]
  },
  {
   "cell_type": "code",
   "execution_count": 106,
   "metadata": {},
   "outputs": [
    {
     "data": {
      "text/plain": [
       "ParameterList(\n",
       "    (0): Parameter containing: [torch.DoubleTensor of size 6x1x3x3]\n",
       "    (1): Parameter containing: [torch.DoubleTensor of size 6]\n",
       "    (2): Parameter containing: [torch.DoubleTensor of size 16x6x3x3]\n",
       "    (3): Parameter containing: [torch.DoubleTensor of size 16]\n",
       "    (4): Parameter containing: [torch.DoubleTensor of size 120x576]\n",
       "    (5): Parameter containing: [torch.DoubleTensor of size 120]\n",
       "    (6): Parameter containing: [torch.DoubleTensor of size 84x120]\n",
       "    (7): Parameter containing: [torch.DoubleTensor of size 84]\n",
       "    (8): Parameter containing: [torch.DoubleTensor of size 10x84]\n",
       "    (9): Parameter containing: [torch.DoubleTensor of size 10]\n",
       ")"
      ]
     },
     "execution_count": 106,
     "metadata": {},
     "output_type": "execute_result"
    }
   ],
   "source": [
    "model_params"
   ]
  },
  {
   "cell_type": "code",
   "execution_count": 5,
   "metadata": {},
   "outputs": [],
   "source": [
    "# Create new net with weights\n",
    "new_net = create_NN_with_weights(SimpleNet, model_params)\n",
    "\n",
    "# Test if the params are still the same\n",
    "new_params = nn.ParameterList(new_net.parameters())\n",
    "test_weights = new_params[2].detach().numpy()\n",
    "\n",
    "assert np.all(test_weights == train_weights)"
   ]
  },
  {
   "cell_type": "code",
   "execution_count": 101,
   "metadata": {},
   "outputs": [
    {
     "name": "stdout",
     "output_type": "stream",
     "text": [
      "SimpleNet(\n",
      "  (conv1): Conv2d(1, 6, kernel_size=(3, 3), stride=(1, 1))\n",
      "  (conv2): Conv2d(6, 16, kernel_size=(3, 3), stride=(1, 1))\n",
      "  (fc1): Linear(in_features=576, out_features=120, bias=True)\n",
      "  (fc2): Linear(in_features=120, out_features=84, bias=True)\n",
      "  (fc3): Linear(in_features=84, out_features=10, bias=True)\n",
      ")\n"
     ]
    }
   ],
   "source": [
    "print(new_net)"
   ]
  },
  {
   "cell_type": "markdown",
   "metadata": {},
   "source": [
    "# SWAG Training"
   ]
  },
  {
   "cell_type": "code",
   "execution_count": 7,
   "metadata": {},
   "outputs": [],
   "source": [
    "import matplotlib.pyplot as plt\n",
    "import torch.optim as optim\n",
    "import torchvision\n",
    "import torchvision.transforms as transforms\n",
    "from torch.optim.lr_scheduler import CosineAnnealingLR, LambdaLR\n"
   ]
  },
  {
   "cell_type": "code",
   "execution_count": 169,
   "metadata": {},
   "outputs": [],
   "source": [
    "swag = SWAG(ConvNN, K = 2)"
   ]
  },
  {
   "cell_type": "code",
   "execution_count": 171,
   "metadata": {},
   "outputs": [
    {
     "name": "stdout",
     "output_type": "stream",
     "text": [
      "Files already downloaded and verified\n",
      "Files already downloaded and verified\n"
     ]
    }
   ],
   "source": [
    "transform = transforms.Compose(\n",
    "    [transforms.ToTensor(),\n",
    "     transforms.Normalize((0.5, 0.5, 0.5), (0.5, 0.5, 0.5))])\n",
    "\n",
    "trainset = torchvision.datasets.CIFAR10(root='./data', train=True,\n",
    "                                        download=True, transform=transform)\n",
    "trainloader = torch.utils.data.DataLoader(trainset, batch_size=4,\n",
    "                                          shuffle=True, num_workers=2)\n",
    "\n",
    "testset = torchvision.datasets.CIFAR10(root='./data', train=False,\n",
    "                                       download=True, transform=transform)\n",
    "testloader = torch.utils.data.DataLoader(testset, batch_size=4,\n",
    "                                         shuffle=False, num_workers=2)\n",
    "\n",
    "classes = ('plane', 'car', 'bird', 'cat',\n",
    "           'deer', 'dog', 'frog', 'horse', 'ship', 'truck')"
   ]
  },
  {
   "cell_type": "code",
   "execution_count": 172,
   "metadata": {},
   "outputs": [
    {
     "name": "stdout",
     "output_type": "stream",
     "text": [
      "horse  deer  frog plane\n"
     ]
    },
    {
     "data": {
      "image/png": "[encoded data removed]",
      "text/plain": [
       "<Figure size 432x288 with 1 Axes>"
      ]
     },
     "metadata": {
      "needs_background": "light"
     },
     "output_type": "display_data"
    }
   ],
   "source": [
    "# functions to show an image\n",
    "def imshow(img):\n",
    "    img = img / 2 + 0.5     # unnormalize\n",
    "    npimg = img.numpy()\n",
    "    plt.imshow(np.transpose(npimg, (1, 2, 0)))\n",
    "    plt.show()\n",
    "\n",
    "\n",
    "# get some random training images\n",
    "dataiter = iter(trainloader)\n",
    "images, labels = dataiter.next()\n",
    "\n",
    "# print labels\n",
    "print(' '.join('%5s' % classes[labels[j]] for j in range(4)))\n",
    "# show images\n",
    "imshow(torchvision.utils.make_grid(images))"
   ]
  },
  {
   "cell_type": "code",
   "execution_count": 173,
   "metadata": {},
   "outputs": [],
   "source": [
    "# Compile swa\n",
    "\n",
    "lr = 1e-3\n",
    "momentum=0.9\n",
    "optimizer = optim.SGD\n",
    "loss_fn = nn.CrossEntropyLoss()\n",
    "train_scheduler = CosineAnnealingLR\n",
    "swa_scheduler = LambdaLR\n",
    "\n",
    "swag.compile(lr, momentum, optimizer, loss_fn, train_scheduler, swa_scheduler)"
   ]
  },
  {
   "cell_type": "code",
   "execution_count": 174,
   "metadata": {},
   "outputs": [
    {
     "name": "stdout",
     "output_type": "stream",
     "text": [
      "Begin NN model training:\n",
      "[1,  2000] loss: 2.212\n",
      "[1,  4000] loss: 1.909\n",
      "[1,  6000] loss: 1.679\n",
      "[1,  8000] loss: 1.601\n",
      "[1, 10000] loss: 1.523\n",
      "[1, 12000] loss: 1.487\n",
      "[2,  2000] loss: 1.415\n",
      "[2,  4000] loss: 1.388\n",
      "[2,  6000] loss: 1.367\n",
      "[2,  8000] loss: 1.356\n",
      "[2, 10000] loss: 1.321\n",
      "[2, 12000] loss: 1.305\n",
      "\n",
      "Begin SWAG training:\n",
      "[1,  2000] loss: 1.233\n",
      "[1,  4000] loss: 1.238\n",
      "[1,  6000] loss: 1.200\n",
      "[1,  8000] loss: 1.221\n",
      "[1, 10000] loss: 1.216\n",
      "[1, 12000] loss: 1.174\n",
      "[2,  2000] loss: 1.126\n",
      "[2,  4000] loss: 1.134\n",
      "[2,  6000] loss: 1.110\n",
      "[2,  8000] loss: 1.118\n",
      "[2, 10000] loss: 1.107\n",
      "[2, 12000] loss: 1.123\n"
     ]
    }
   ],
   "source": [
    "# Fit swag\n",
    "first_mom, second_mom, D = swag.fit(trainloader,\n",
    "                                    train_epoch=2,\n",
    "                                    swag_epoch=2)"
   ]
  },
  {
   "cell_type": "code",
   "execution_count": 175,
   "metadata": {},
   "outputs": [
    {
     "data": {
      "text/plain": [
       "((62006,), (62006,), (62006, 2))"
      ]
     },
     "execution_count": 175,
     "metadata": {},
     "output_type": "execute_result"
    }
   ],
   "source": [
    "first_mom.shape, second_mom.shape, D.shape"
   ]
  },
  {
   "cell_type": "code",
   "execution_count": 91,
   "metadata": {
    "scrolled": true
   },
   "outputs": [
    {
     "name": "stdout",
     "output_type": "stream",
     "text": [
      "torch.Size([62006]) torch.Size([62006]) torch.Size([62006, 2]) torch.Size([62006])\n",
      "torch.Size([62006])\n",
      "torch.Size([62006])\n"
     ]
    }
   ],
   "source": [
    "# weight_sampler function test\n",
    "# weights = swag.weight_sampler(first_mom[0:100], second_mom[0:100], D[0:100,:], S=1)\n",
    "weights = swag.weight_sampler(first_mom, second_mom, D)"
   ]
  },
  {
   "cell_type": "markdown",
   "metadata": {},
   "source": [
    "# SWAG Testing"
   ]
  },
  {
   "cell_type": "code",
   "execution_count": 176,
   "metadata": {},
   "outputs": [
    {
     "name": "stdout",
     "output_type": "stream",
     "text": [
      "torch.Size([62006]) torch.Size([62006]) torch.Size([62006, 2]) torch.Size([62006])\n",
      "torch.Size([62006])\n",
      "torch.Size([62006])\n",
      "torch.Size([62006]) torch.Size([62006]) torch.Size([62006, 2]) torch.Size([62006])\n",
      "torch.Size([62006])\n",
      "torch.Size([62006])\n",
      "torch.Size([62006]) torch.Size([62006]) torch.Size([62006, 2]) torch.Size([62006])\n",
      "torch.Size([62006])\n",
      "torch.Size([62006])\n"
     ]
    }
   ],
   "source": [
    "## Little Test\n",
    "# Generate weight samples\n",
    "S = 3\n",
    "weight_samples = []\n",
    "for i in range(S):\n",
    "    samples = swag.weight_sampler(first_mom, second_mom, D)\n",
    "    weight_samples.append(samples)"
   ]
  },
  {
   "cell_type": "code",
   "execution_count": 177,
   "metadata": {},
   "outputs": [],
   "source": [
    "# prepare test images\n",
    "testiter = iter(testloader)\n",
    "images, labels = testiter.next()"
   ]
  },
  {
   "cell_type": "code",
   "execution_count": 178,
   "metadata": {
    "scrolled": true
   },
   "outputs": [
    {
     "name": "stdout",
     "output_type": "stream",
     "text": [
      "[[3.05099718e-01 5.04087821e-01 9.66486782e-01 1.66793470e+01\n",
      "  4.70426597e-01 4.38742840e+00 2.36626256e+00 2.48704143e-01\n",
      "  1.12928700e+00 2.13675059e-01]\n",
      " [1.90166416e+02 1.02218998e+02 1.66892152e-01 1.28835425e-01\n",
      "  6.66920305e-03 1.09409674e-02 2.16453446e-02 1.01012054e-02\n",
      "  1.84491058e+03 4.63665543e+01]\n",
      " [1.57662196e+01 1.89685804e+00 1.27785549e+00 6.56295627e-01\n",
      "  2.46777013e-01 1.68516546e-01 1.89400468e-01 1.30718835e-01\n",
      "  2.06042190e+01 2.00776261e+00]\n",
      " [8.59502583e+01 3.22283715e+00 1.27260074e+00 1.97158564e-01\n",
      "  1.10717993e-01 1.73821880e-02 8.41987655e-02 1.37010328e-02\n",
      "  1.89301178e+03 2.48792291e+00]]\n",
      "Prediction:  [3 8 8 8]\n",
      "Data:  [3 8 8 0]\n"
     ]
    }
   ],
   "source": [
    "# Recreate new net with the sampled weights\n",
    "prob = np.zeros((len(images),len(classes)))\n",
    "for s, weight_param in enumerate(weight_samples):\n",
    "    model_params = params_1d_to_weights(weight_param, swag.shape_lookup, swag.len_lookup)\n",
    "    new_net = create_NN_with_weights(swag.NN_class, model_params)\n",
    "    output = new_net.forward(images)\n",
    "    softmax = torch.exp(output)\n",
    "    prob = prob + list(softmax.detach().numpy()*1/S)\n",
    "print(prob)\n",
    "predictions = np.argmax(prob, axis=1)\n",
    "print('Prediction: ',predictions)\n",
    "print('Data: ',labels.numpy())"
   ]
  },
  {
   "cell_type": "code",
   "execution_count": 179,
   "metadata": {},
   "outputs": [
    {
     "name": "stdout",
     "output_type": "stream",
     "text": [
      "torch.Size([62006]) torch.Size([62006]) torch.Size([62006, 2]) torch.Size([62006])\n",
      "torch.Size([62006])\n",
      "torch.Size([62006])\n",
      "torch.Size([62006]) torch.Size([62006]) torch.Size([62006, 2]) torch.Size([62006])\n",
      "torch.Size([62006])\n",
      "torch.Size([62006])\n",
      "torch.Size([62006]) torch.Size([62006]) torch.Size([62006, 2]) torch.Size([62006])\n",
      "torch.Size([62006])\n",
      "torch.Size([62006])\n"
     ]
    },
    {
     "data": {
      "text/plain": [
       "array([3, 8, 8, 8])"
      ]
     },
     "execution_count": 179,
     "metadata": {},
     "output_type": "execute_result"
    }
   ],
   "source": [
    "# test the predict function\n",
    "swag.predict(images,classes,first_mom,second_mom,D,S)"
   ]
  },
  {
   "cell_type": "code",
   "execution_count": null,
   "metadata": {},
   "outputs": [],
   "source": []
  }
 ],
 "metadata": {
  "kernelspec": {
   "display_name": "PyCharm (swag_uncertainty)",
   "language": "python",
   "name": "pycharm-d67744e8"
  },
  "language_info": {
   "codemirror_mode": {
    "name": "ipython",
    "version": 3
   },
   "file_extension": ".py",
   "mimetype": "text/x-python",
   "name": "python",
   "nbconvert_exporter": "python",
   "pygments_lexer": "ipython3",
   "version": "3.7.4"
  }
 },
 "nbformat": 4,
 "nbformat_minor": 2
}
