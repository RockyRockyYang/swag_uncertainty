{
 "cells": [
  {
   "cell_type": "code",
   "execution_count": 1,
   "metadata": {},
   "outputs": [
    {
     "name": "stdout",
     "output_type": "stream",
     "text": [
      "Populating the interactive namespace from numpy and matplotlib\n"
     ]
    }
   ],
   "source": [
    "import numpy as np\n",
    "import pandas as pd\n",
    "import torch\n",
    "import torch.nn as nn\n",
    "import torch.nn.functional as F\n",
    "import matplotlib.pyplot as plt\n",
    "import seaborn as sns\n",
    "import torch.optim as optim\n",
    "import torchvision\n",
    "import torchvision.transforms as transforms\n",
    "from torch.optim.lr_scheduler import StepLR, LambdaLR\n",
    "from torch.utils.data import DataLoader\n",
    "\n",
    "from swag import SWAG\n",
    "from models import SimpleNet, ConvNN, Classification_NN\n",
    "from util import model_param_to_1D, params_1d_to_weights, create_NN_with_weights\n",
    "from data_gen import get_classification_data, ClassificationDataSet\n",
    "\n",
    "%pylab inline"
   ]
  },
  {
   "cell_type": "markdown",
   "metadata": {},
   "source": [
    "# Classification on a toy dataset"
   ]
  },
  {
   "cell_type": "markdown",
   "metadata": {},
   "source": [
    "Since the paper proposed that the SWAG algorithm will be able to closely approximate the posterior of neural networks, we would like to apply this idea to a simple task of OOD detection. \n",
    "\n",
    "In the below section, we will apply SWAG to a really simple dataset borrowed from HW7 for OOD detection. Specifically, we have strategically selected a number of points to evaluate the model's ability to capture aleatoric and epistemic uncertainties. The expected behavior for the test points are described as the follows:\n",
    "- `(-1, -1.5), (1, 1.5)`: in-distribution samples, should be classified corrected with high certainty\n",
    "- `(-5, -5), (5, 5)`: OOD samples, should be assigned high uncertainty in prediction\n",
    "- `(-5, 3.5), (5, -3.5)`: OOD samples, should be assigned high uncertainty in prediction. Note that these two points are roughly right on top of the linear decision boundary that separates the two classes, which means correctly assigning uncertainties is more challenging\n",
    "- `(-1, 1), (1, -0.2)`: in-distribution samples, selected to evaluate the model's ability to capture aleatoric uncertainties since they lie on top of the two classes"
   ]
  },
  {
   "cell_type": "code",
   "execution_count": 2,
   "metadata": {},
   "outputs": [],
   "source": [
    "(X, y), X_test = get_classification_data()"
   ]
  },
  {
   "cell_type": "code",
   "execution_count": 3,
   "metadata": {},
   "outputs": [
    {
     "data": {
      "text/plain": [
       "<matplotlib.legend.Legend at 0x7f81be328198>"
      ]
     },
     "execution_count": 3,
     "metadata": {},
     "output_type": "execute_result"
    },
    {
     "data": {
      "image/png": "[encoded data removed]",
      "text/plain": [
       "<Figure size 720x360 with 1 Axes>"
      ]
     },
     "metadata": {
      "needs_background": "light"
     },
     "output_type": "display_data"
    }
   ],
   "source": [
    "# Visualize our test data points\n",
    "fig, ax = plt.subplots(1, 1, figsize=(10, 5))\n",
    "ax.scatter(X[y == 1, 0], X[y == 1, 1], alpha=0.3, color='red', label='class 1')\n",
    "ax.scatter(X[y == 0, 0], X[y == 0, 1], alpha=0.3, color='blue', label='class 0')\n",
    "for i in range(len(X_test)):\n",
    "    pt = X_test[i]\n",
    "    if i == 0:\n",
    "        ax.scatter(pt[0], pt[1], alpha=1., s=50, color='black', label='test data')\n",
    "    else:\n",
    "        ax.scatter(pt[0], pt[1], alpha=1., s=50, color='black')\n",
    "ax.set_xlabel('x_1')\n",
    "ax.set_ylabel('x_2')\n",
    "ax.set_title('toy classification data with test data points')\n",
    "ax.legend(loc='best')"
   ]
  },
  {
   "cell_type": "code",
   "execution_count": 4,
   "metadata": {},
   "outputs": [
    {
     "data": {
      "text/plain": [
       "Classification_NN(\n",
       "  (fc1): Linear(in_features=2, out_features=4, bias=True)\n",
       "  (fc2): Linear(in_features=4, out_features=2, bias=True)\n",
       "  (fc3): Linear(in_features=2, out_features=2, bias=True)\n",
       ")"
      ]
     },
     "execution_count": 4,
     "metadata": {},
     "output_type": "execute_result"
    }
   ],
   "source": [
    "# Take a look at the architecture of Classification_NN\n",
    "Classification_NN()"
   ]
  },
  {
   "cell_type": "code",
   "execution_count": 5,
   "metadata": {},
   "outputs": [
    {
     "name": "stdout",
     "output_type": "stream",
     "text": [
      "Total number of parameters for the NN is: 28\n"
     ]
    }
   ],
   "source": [
    "# Initialize SWAG\n",
    "swag = SWAG(Classification_NN, K = 5)\n",
    "print(\"Total number of parameters for the NN is:\", swag.weigt_D)"
   ]
  },
  {
   "cell_type": "code",
   "execution_count": 6,
   "metadata": {},
   "outputs": [],
   "source": [
    "# Compile swag\n",
    "objective = 'classification'\n",
    "lr = 1e-3\n",
    "momentum = 0.9\n",
    "optimizer = optim.SGD\n",
    "loss_fn = nn.CrossEntropyLoss()\n",
    "train_scheduler = StepLR\n",
    "swa_scheduler = LambdaLR\n",
    "\n",
    "swag.compile(objective, lr, momentum, optimizer, loss_fn, train_scheduler, swa_scheduler)"
   ]
  },
  {
   "cell_type": "code",
   "execution_count": 7,
   "metadata": {},
   "outputs": [
    {
     "name": "stdout",
     "output_type": "stream",
     "text": [
      "(1000, 2) (1000, 1)\n"
     ]
    }
   ],
   "source": [
    "# Initialize the training DataSet\n",
    "train_data = ClassificationDataSet(n_samples=1000, mode='train')\n",
    "train_gen = DataLoader(dataset = train_data, batch_size = 16, shuffle = False)"
   ]
  },
  {
   "cell_type": "code",
   "execution_count": 8,
   "metadata": {
    "scrolled": false
   },
   "outputs": [
    {
     "name": "stdout",
     "output_type": "stream",
     "text": [
      "Begin NN model training:\n",
      "[Epoch: 1, \tIteration:    60] \tTraining Loss: 0.7422\n",
      "[Epoch: 2, \tIteration:    60] \tTraining Loss: 0.5207\n",
      "[Epoch: 3, \tIteration:    60] \tTraining Loss: 0.4067\n",
      "[Epoch: 4, \tIteration:    60] \tTraining Loss: 0.3734\n",
      "[Epoch: 5, \tIteration:    60] \tTraining Loss: 0.3606\n",
      "[Epoch: 6, \tIteration:    60] \tTraining Loss: 0.3537\n",
      "[Epoch: 7, \tIteration:    60] \tTraining Loss: 0.3493\n",
      "[Epoch: 8, \tIteration:    60] \tTraining Loss: 0.3462\n",
      "[Epoch: 9, \tIteration:    60] \tTraining Loss: 0.3440\n",
      "[Epoch: 10, \tIteration:    60] \tTraining Loss: 0.3423\n",
      "[Epoch: 11, \tIteration:    60] \tTraining Loss: 0.3409\n",
      "[Epoch: 12, \tIteration:    60] \tTraining Loss: 0.3399\n",
      "[Epoch: 13, \tIteration:    60] \tTraining Loss: 0.3390\n",
      "[Epoch: 14, \tIteration:    60] \tTraining Loss: 0.3382\n",
      "[Epoch: 15, \tIteration:    60] \tTraining Loss: 0.3376\n",
      "[Epoch: 16, \tIteration:    60] \tTraining Loss: 0.3370\n",
      "[Epoch: 17, \tIteration:    60] \tTraining Loss: 0.3366\n",
      "[Epoch: 18, \tIteration:    60] \tTraining Loss: 0.3361\n",
      "[Epoch: 19, \tIteration:    60] \tTraining Loss: 0.3358\n",
      "[Epoch: 20, \tIteration:    60] \tTraining Loss: 0.3354\n",
      "[Epoch: 21, \tIteration:    60] \tTraining Loss: 0.3351\n",
      "[Epoch: 22, \tIteration:    60] \tTraining Loss: 0.3349\n",
      "[Epoch: 23, \tIteration:    60] \tTraining Loss: 0.3346\n",
      "[Epoch: 24, \tIteration:    60] \tTraining Loss: 0.3344\n",
      "[Epoch: 25, \tIteration:    60] \tTraining Loss: 0.3342\n",
      "[Epoch: 26, \tIteration:    60] \tTraining Loss: 0.3340\n",
      "[Epoch: 27, \tIteration:    60] \tTraining Loss: 0.3338\n",
      "[Epoch: 28, \tIteration:    60] \tTraining Loss: 0.3336\n",
      "[Epoch: 29, \tIteration:    60] \tTraining Loss: 0.3335\n",
      "[Epoch: 30, \tIteration:    60] \tTraining Loss: 0.3334\n",
      "[Epoch: 31, \tIteration:    60] \tTraining Loss: 0.3332\n",
      "[Epoch: 32, \tIteration:    60] \tTraining Loss: 0.3331\n",
      "[Epoch: 33, \tIteration:    60] \tTraining Loss: 0.3330\n",
      "[Epoch: 34, \tIteration:    60] \tTraining Loss: 0.3329\n",
      "[Epoch: 35, \tIteration:    60] \tTraining Loss: 0.3328\n",
      "[Epoch: 36, \tIteration:    60] \tTraining Loss: 0.3327\n",
      "[Epoch: 37, \tIteration:    60] \tTraining Loss: 0.3326\n",
      "[Epoch: 38, \tIteration:    60] \tTraining Loss: 0.3325\n",
      "[Epoch: 39, \tIteration:    60] \tTraining Loss: 0.3324\n",
      "[Epoch: 40, \tIteration:    60] \tTraining Loss: 0.3323\n",
      "[Epoch: 41, \tIteration:    60] \tTraining Loss: 0.3322\n",
      "[Epoch: 42, \tIteration:    60] \tTraining Loss: 0.3322\n",
      "[Epoch: 43, \tIteration:    60] \tTraining Loss: 0.3321\n",
      "[Epoch: 44, \tIteration:    60] \tTraining Loss: 0.3320\n",
      "[Epoch: 45, \tIteration:    60] \tTraining Loss: 0.3320\n",
      "[Epoch: 46, \tIteration:    60] \tTraining Loss: 0.3319\n",
      "[Epoch: 47, \tIteration:    60] \tTraining Loss: 0.3318\n",
      "[Epoch: 48, \tIteration:    60] \tTraining Loss: 0.3318\n",
      "[Epoch: 49, \tIteration:    60] \tTraining Loss: 0.3317\n",
      "[Epoch: 50, \tIteration:    60] \tTraining Loss: 0.3317\n",
      "\n",
      "Begin SWAG training:\n",
      "[Epoch: 1, \tIteration:    60] \tTraining Loss: 0.3316\n",
      "[Epoch: 2, \tIteration:    60] \tTraining Loss: 0.3316\n",
      "[Epoch: 3, \tIteration:    60] \tTraining Loss: 0.3315\n",
      "[Epoch: 4, \tIteration:    60] \tTraining Loss: 0.3315\n",
      "[Epoch: 5, \tIteration:    60] \tTraining Loss: 0.3315\n",
      "[Epoch: 6, \tIteration:    60] \tTraining Loss: 0.3314\n",
      "[Epoch: 7, \tIteration:    60] \tTraining Loss: 0.3314\n",
      "[Epoch: 8, \tIteration:    60] \tTraining Loss: 0.3313\n",
      "[Epoch: 9, \tIteration:    60] \tTraining Loss: 0.3313\n",
      "[Epoch: 10, \tIteration:    60] \tTraining Loss: 0.3313\n",
      "[Epoch: 11, \tIteration:    60] \tTraining Loss: 0.3312\n",
      "[Epoch: 12, \tIteration:    60] \tTraining Loss: 0.3312\n",
      "[Epoch: 13, \tIteration:    60] \tTraining Loss: 0.3312\n",
      "[Epoch: 14, \tIteration:    60] \tTraining Loss: 0.3311\n",
      "[Epoch: 15, \tIteration:    60] \tTraining Loss: 0.3311\n",
      "[Epoch: 16, \tIteration:    60] \tTraining Loss: 0.3311\n",
      "[Epoch: 17, \tIteration:    60] \tTraining Loss: 0.3310\n",
      "[Epoch: 18, \tIteration:    60] \tTraining Loss: 0.3310\n",
      "[Epoch: 19, \tIteration:    60] \tTraining Loss: 0.3310\n",
      "[Epoch: 20, \tIteration:    60] \tTraining Loss: 0.3309\n"
     ]
    }
   ],
   "source": [
    "# Fit swag\n",
    "first_mom, second_mom, D = swag.fit(train_gen,\n",
    "                                    train_epoch=50,\n",
    "                                    swag_epoch=20,\n",
    "                                    log_freq=60)"
   ]
  },
  {
   "cell_type": "code",
   "execution_count": 9,
   "metadata": {},
   "outputs": [
    {
     "data": {
      "text/plain": [
       "array([[[1.00000000e+00, 1.47018042e-12],\n",
       "        [5.56976907e-03, 9.94430244e-01],\n",
       "        [1.00000000e+00, 0.00000000e+00],\n",
       "        [5.56976907e-03, 9.94430244e-01],\n",
       "        [9.99657631e-01, 3.42383835e-04],\n",
       "        [5.63651789e-03, 9.94363427e-01],\n",
       "        [3.26158851e-02, 9.67384160e-01],\n",
       "        [5.56976907e-03, 9.94430244e-01]],\n",
       "\n",
       "       [[1.00000000e+00, 4.18331412e-13],\n",
       "        [4.98860935e-03, 9.95011449e-01],\n",
       "        [1.00000000e+00, 0.00000000e+00],\n",
       "        [4.98860935e-03, 9.95011449e-01],\n",
       "        [9.99775827e-01, 2.24217263e-04],\n",
       "        [5.00985421e-03, 9.94990170e-01],\n",
       "        [2.74184439e-02, 9.72581506e-01],\n",
       "        [4.98860935e-03, 9.95011449e-01]],\n",
       "\n",
       "       [[1.00000000e+00, 8.91978402e-09],\n",
       "        [1.71128400e-02, 9.82887208e-01],\n",
       "        [1.00000000e+00, 1.25494436e-33],\n",
       "        [1.71128400e-02, 9.82887208e-01],\n",
       "        [9.98231471e-01, 1.76859600e-03],\n",
       "        [3.04515976e-02, 9.69548345e-01],\n",
       "        [1.32003203e-01, 8.67996871e-01],\n",
       "        [1.71218626e-02, 9.82878089e-01]],\n",
       "\n",
       "       [[1.00000000e+00, 1.01883883e-11],\n",
       "        [6.53779367e-03, 9.93462205e-01],\n",
       "        [1.00000000e+00, 0.00000000e+00],\n",
       "        [6.53779367e-03, 9.93462205e-01],\n",
       "        [9.99247849e-01, 7.52065622e-04],\n",
       "        [1.00876773e-02, 9.89912331e-01],\n",
       "        [4.05132435e-02, 9.59486783e-01],\n",
       "        [6.53779367e-03, 9.93462205e-01]],\n",
       "\n",
       "       [[1.00000000e+00, 1.01474623e-12],\n",
       "        [5.57218306e-03, 9.94427800e-01],\n",
       "        [1.00000000e+00, 0.00000000e+00],\n",
       "        [5.57218306e-03, 9.94427800e-01],\n",
       "        [9.99791682e-01, 2.08294587e-04],\n",
       "        [5.61834266e-03, 9.94381726e-01],\n",
       "        [3.56398672e-02, 9.64360118e-01],\n",
       "        [5.57218306e-03, 9.94427800e-01]]])"
      ]
     },
     "execution_count": 9,
     "metadata": {},
     "output_type": "execute_result"
    }
   ],
   "source": [
    "expand_pred = swag.predict(torch.Tensor(X_test), [0, 1], S=5, expanded=True)\n",
    "expand_pred"
   ]
  },
  {
   "cell_type": "code",
   "execution_count": null,
   "metadata": {},
   "outputs": [],
   "source": []
  }
 ],
 "metadata": {
  "kernelspec": {
   "display_name": "Python 3",
   "language": "python",
   "name": "python3"
  },
  "language_info": {
   "codemirror_mode": {
    "name": "ipython",
    "version": 3
   },
   "file_extension": ".py",
   "mimetype": "text/x-python",
   "name": "python",
   "nbconvert_exporter": "python",
   "pygments_lexer": "ipython3",
   "version": "3.6.7"
  }
 },
 "nbformat": 4,
 "nbformat_minor": 2
}
