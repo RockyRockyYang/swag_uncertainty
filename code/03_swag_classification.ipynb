{
 "cells": [
  {
   "cell_type": "code",
   "execution_count": 1,
   "metadata": {},
   "outputs": [
    {
     "name": "stdout",
     "output_type": "stream",
     "text": [
      "Populating the interactive namespace from numpy and matplotlib\n"
     ]
    }
   ],
   "source": [
    "import numpy as np\n",
    "import pandas as pd\n",
    "import torch\n",
    "import torch.nn as nn\n",
    "import torch.nn.functional as F\n",
    "import matplotlib.pyplot as plt\n",
    "import seaborn as sns\n",
    "import torch.optim as optim\n",
    "import torchvision\n",
    "import torchvision.transforms as transforms\n",
    "from torch.optim.lr_scheduler import CosineAnnealingLR, LambdaLR\n",
    "from torch.utils.data import DataLoader\n",
    "\n",
    "from swag import SWAG\n",
    "from models import SimpleNet, ConvNN, Classification_NN\n",
    "from util import model_param_to_1D, params_1d_to_weights, create_NN_with_weights\n",
    "from data_gen import get_classification_data, ClassificationDataSet\n",
    "\n",
    "%pylab inline"
   ]
  },
  {
   "cell_type": "markdown",
   "metadata": {},
   "source": [
    "# Classification on a toy dataset"
   ]
  },
  {
   "cell_type": "code",
   "execution_count": 2,
   "metadata": {},
   "outputs": [],
   "source": [
    "(X, y), X_test = get_classification_data()"
   ]
  },
  {
   "cell_type": "code",
   "execution_count": 3,
   "metadata": {},
   "outputs": [
    {
     "data": {
      "text/plain": [
       "<matplotlib.legend.Legend at 0x7f993ba15940>"
      ]
     },
     "execution_count": 3,
     "metadata": {},
     "output_type": "execute_result"
    },
    {
     "data": {
      "image/png": "[encoded data removed]",
      "text/plain": [
       "<Figure size 720x360 with 1 Axes>"
      ]
     },
     "metadata": {
      "needs_background": "light"
     },
     "output_type": "display_data"
    }
   ],
   "source": [
    "# Visualize our test data points\n",
    "fig, ax = plt.subplots(1, 1, figsize=(10, 5))\n",
    "ax.scatter(X[y == 1, 0], X[y == 1, 1], alpha=0.3, color='red', label='class 1')\n",
    "ax.scatter(X[y == 0, 0], X[y == 0, 1], alpha=0.3, color='blue', label='class 0')\n",
    "for i in range(len(X_test)):\n",
    "    pt = X_test[i]\n",
    "    if i == 0:\n",
    "        ax.scatter(pt[0], pt[1], alpha=1., s=50, color='black', label='test data')\n",
    "    else:\n",
    "        ax.scatter(pt[0], pt[1], alpha=1., s=50, color='black')\n",
    "ax.set_xlabel('x_1')\n",
    "ax.set_ylabel('x_2')\n",
    "ax.set_title('toy classification data with test data points')\n",
    "ax.legend(loc='best')"
   ]
  },
  {
   "cell_type": "code",
   "execution_count": 4,
   "metadata": {},
   "outputs": [
    {
     "data": {
      "text/plain": [
       "Classification_NN(\n",
       "  (fc1): Linear(in_features=2, out_features=4, bias=True)\n",
       "  (fc2): Linear(in_features=4, out_features=2, bias=True)\n",
       "  (fc3): Linear(in_features=2, out_features=2, bias=True)\n",
       ")"
      ]
     },
     "execution_count": 4,
     "metadata": {},
     "output_type": "execute_result"
    }
   ],
   "source": [
    "# Take a look at the architecture of Classification_NN\n",
    "Classification_NN()"
   ]
  },
  {
   "cell_type": "code",
   "execution_count": 17,
   "metadata": {},
   "outputs": [
    {
     "name": "stdout",
     "output_type": "stream",
     "text": [
      "Total number of parameters for the NN is: 28\n"
     ]
    }
   ],
   "source": [
    "# Initialize SWAG\n",
    "swag = SWAG(Classification_NN, K = 5)\n",
    "print(\"Total number of parameters for the NN is:\", swag.weigt_D)"
   ]
  },
  {
   "cell_type": "code",
   "execution_count": 18,
   "metadata": {},
   "outputs": [],
   "source": [
    "# Compile swag\n",
    "objective = 'classification'\n",
    "lr = 1e-3\n",
    "momentum = 0.9\n",
    "optimizer = optim.SGD\n",
    "loss_fn = nn.CrossEntropyLoss()\n",
    "train_scheduler = CosineAnnealingLR\n",
    "swa_scheduler = LambdaLR\n",
    "\n",
    "swag.compile(objective, lr, momentum, optimizer, loss_fn, train_scheduler, swa_scheduler)"
   ]
  },
  {
   "cell_type": "code",
   "execution_count": 19,
   "metadata": {},
   "outputs": [
    {
     "name": "stdout",
     "output_type": "stream",
     "text": [
      "(1000, 2) (1000, 1)\n"
     ]
    }
   ],
   "source": [
    "# Initialize the DataSet\n",
    "train_data = ClassificationDataSet(n_samples=1000, mode='train')\n",
    "train_gen = DataLoader(dataset = train_data, batch_size = 16, shuffle = False)"
   ]
  },
  {
   "cell_type": "code",
   "execution_count": 20,
   "metadata": {
    "scrolled": false
   },
   "outputs": [
    {
     "name": "stdout",
     "output_type": "stream",
     "text": [
      "Begin NN model training:\n",
      "[Epoch: 1, Iteration:    60] Training Loss: 0.7322\n",
      "[Epoch: 2, Iteration:    60] Training Loss: 0.7140\n",
      "[Epoch: 3, Iteration:    60] Training Loss: 0.7094\n",
      "[Epoch: 4, Iteration:    60] Training Loss: 0.7060\n",
      "[Epoch: 5, Iteration:    60] Training Loss: 0.7018\n",
      "[Epoch: 6, Iteration:    60] Training Loss: 0.6963\n",
      "[Epoch: 7, Iteration:    60] Training Loss: 0.6887\n",
      "[Epoch: 8, Iteration:    60] Training Loss: 0.6789\n",
      "[Epoch: 9, Iteration:    60] Training Loss: 0.6677\n",
      "[Epoch: 10, Iteration:    60] Training Loss: 0.6544\n",
      "[Epoch: 11, Iteration:    60] Training Loss: 0.6389\n",
      "[Epoch: 12, Iteration:    60] Training Loss: 0.6213\n",
      "[Epoch: 13, Iteration:    60] Training Loss: 0.6025\n",
      "[Epoch: 14, Iteration:    60] Training Loss: 0.5832\n",
      "[Epoch: 15, Iteration:    60] Training Loss: 0.5645\n",
      "[Epoch: 16, Iteration:    60] Training Loss: 0.5465\n",
      "[Epoch: 17, Iteration:    60] Training Loss: 0.5295\n",
      "[Epoch: 18, Iteration:    60] Training Loss: 0.5135\n",
      "[Epoch: 19, Iteration:    60] Training Loss: 0.4983\n",
      "[Epoch: 20, Iteration:    60] Training Loss: 0.4831\n",
      "[Epoch: 21, Iteration:    60] Training Loss: 0.4651\n",
      "[Epoch: 22, Iteration:    60] Training Loss: 0.4456\n",
      "[Epoch: 23, Iteration:    60] Training Loss: 0.4288\n",
      "[Epoch: 24, Iteration:    60] Training Loss: 0.4145\n",
      "[Epoch: 25, Iteration:    60] Training Loss: 0.4023\n",
      "[Epoch: 26, Iteration:    60] Training Loss: 0.3921\n",
      "[Epoch: 27, Iteration:    60] Training Loss: 0.3835\n",
      "[Epoch: 28, Iteration:    60] Training Loss: 0.3764\n",
      "[Epoch: 29, Iteration:    60] Training Loss: 0.3705\n",
      "[Epoch: 30, Iteration:    60] Training Loss: 0.3656\n",
      "[Epoch: 31, Iteration:    60] Training Loss: 0.3616\n",
      "[Epoch: 32, Iteration:    60] Training Loss: 0.3582\n",
      "[Epoch: 33, Iteration:    60] Training Loss: 0.3553\n",
      "[Epoch: 34, Iteration:    60] Training Loss: 0.3529\n",
      "[Epoch: 35, Iteration:    60] Training Loss: 0.3508\n",
      "[Epoch: 36, Iteration:    60] Training Loss: 0.3490\n",
      "[Epoch: 37, Iteration:    60] Training Loss: 0.3474\n",
      "[Epoch: 38, Iteration:    60] Training Loss: 0.3460\n",
      "[Epoch: 39, Iteration:    60] Training Loss: 0.3448\n",
      "[Epoch: 40, Iteration:    60] Training Loss: 0.3437\n",
      "[Epoch: 41, Iteration:    60] Training Loss: 0.3427\n",
      "[Epoch: 42, Iteration:    60] Training Loss: 0.3418\n",
      "[Epoch: 43, Iteration:    60] Training Loss: 0.3410\n",
      "[Epoch: 44, Iteration:    60] Training Loss: 0.3403\n",
      "[Epoch: 45, Iteration:    60] Training Loss: 0.3397\n",
      "[Epoch: 46, Iteration:    60] Training Loss: 0.3391\n",
      "[Epoch: 47, Iteration:    60] Training Loss: 0.3385\n",
      "[Epoch: 48, Iteration:    60] Training Loss: 0.3380\n",
      "[Epoch: 49, Iteration:    60] Training Loss: 0.3376\n",
      "[Epoch: 50, Iteration:    60] Training Loss: 0.3371\n",
      "\n",
      "Begin SWAG training:\n",
      "[Epoch: 1, Iteration:    60] Training Loss: 0.3367\n",
      "[Epoch: 2, Iteration:    60] Training Loss: 0.3363\n",
      "[Epoch: 3, Iteration:    60] Training Loss: 0.3360\n",
      "[Epoch: 4, Iteration:    60] Training Loss: 0.3356\n",
      "[Epoch: 5, Iteration:    60] Training Loss: 0.3353\n",
      "[Epoch: 6, Iteration:    60] Training Loss: 0.3350\n",
      "[Epoch: 7, Iteration:    60] Training Loss: 0.3347\n",
      "[Epoch: 8, Iteration:    60] Training Loss: 0.3345\n",
      "[Epoch: 9, Iteration:    60] Training Loss: 0.3342\n",
      "[Epoch: 10, Iteration:    60] Training Loss: 0.3339\n",
      "[Epoch: 11, Iteration:    60] Training Loss: 0.3337\n",
      "[Epoch: 12, Iteration:    60] Training Loss: 0.3335\n",
      "[Epoch: 13, Iteration:    60] Training Loss: 0.3333\n",
      "[Epoch: 14, Iteration:    60] Training Loss: 0.3331\n",
      "[Epoch: 15, Iteration:    60] Training Loss: 0.3329\n",
      "[Epoch: 16, Iteration:    60] Training Loss: 0.3327\n",
      "[Epoch: 17, Iteration:    60] Training Loss: 0.3325\n",
      "[Epoch: 18, Iteration:    60] Training Loss: 0.3323\n",
      "[Epoch: 19, Iteration:    60] Training Loss: 0.3321\n",
      "[Epoch: 20, Iteration:    60] Training Loss: 0.3320\n"
     ]
    }
   ],
   "source": [
    "# Fit swag\n",
    "first_mom, second_mom, D = swag.fit(train_gen,\n",
    "                                    train_epoch=50,\n",
    "                                    swag_epoch=20,\n",
    "                                    log_freq=60)"
   ]
  },
  {
   "cell_type": "code",
   "execution_count": 21,
   "metadata": {},
   "outputs": [
    {
     "data": {
      "text/plain": [
       "array([[[9.98366773e-01, 1.63319160e-03],\n",
       "        [9.72748220e-01, 2.72517521e-02],\n",
       "        [1.79496151e-08, 1.00000000e+00],\n",
       "        [3.52059811e-04, 9.99647975e-01],\n",
       "        [8.04200888e-01, 1.95799112e-01],\n",
       "        [9.41228032e-01, 5.87720498e-02],\n",
       "        [7.31467549e-03, 9.92685318e-01],\n",
       "        [4.62485515e-02, 9.53751385e-01]],\n",
       "\n",
       "       [[1.00000000e+00, 6.85609555e-12],\n",
       "        [9.80452657e-01, 1.95473805e-02],\n",
       "        [7.68637732e-19, 1.00000000e+00],\n",
       "        [1.24599628e-01, 8.75400364e-01],\n",
       "        [1.02773502e-01, 8.97226453e-01],\n",
       "        [9.99897242e-01, 1.02699509e-04],\n",
       "        [1.74965328e-06, 9.99998212e-01],\n",
       "        [1.14729337e-03, 9.98852730e-01]],\n",
       "\n",
       "       [[9.99988198e-01, 1.17489590e-05],\n",
       "        [9.90141690e-01, 9.85837542e-03],\n",
       "        [7.84627658e-12, 1.00000000e+00],\n",
       "        [9.22425301e-04, 9.99077559e-01],\n",
       "        [7.08448946e-01, 2.91550994e-01],\n",
       "        [9.88181412e-01, 1.18185487e-02],\n",
       "        [5.56374667e-04, 9.99443591e-01],\n",
       "        [1.42881582e-02, 9.85711873e-01]],\n",
       "\n",
       "       [[9.99993205e-01, 6.80259836e-06],\n",
       "        [9.90141690e-01, 9.85836610e-03],\n",
       "        [3.08082075e-12, 1.00000000e+00],\n",
       "        [6.53180876e-04, 9.99346793e-01],\n",
       "        [6.93907320e-01, 3.06092739e-01],\n",
       "        [9.90258694e-01, 9.74129606e-03],\n",
       "        [3.94265808e-04, 9.99605715e-01],\n",
       "        [1.13461269e-02, 9.88653839e-01]],\n",
       "\n",
       "       [[9.99999762e-01, 1.86125177e-07],\n",
       "        [9.93133664e-01, 6.86631352e-03],\n",
       "        [4.38592982e-14, 1.00000000e+00],\n",
       "        [1.94478745e-03, 9.98055220e-01],\n",
       "        [5.09675562e-01, 4.90324497e-01],\n",
       "        [9.97013211e-01, 2.98672519e-03],\n",
       "        [8.61675362e-05, 9.99913812e-01],\n",
       "        [5.41630853e-03, 9.94583666e-01]]])"
      ]
     },
     "execution_count": 21,
     "metadata": {},
     "output_type": "execute_result"
    }
   ],
   "source": [
    "expand_pred = swag.predict(torch.Tensor(X_test), [0, 1], first_mom, second_mom, D, S=5, expanded=True)\n",
    "expand_pred"
   ]
  },
  {
   "cell_type": "code",
   "execution_count": 22,
   "metadata": {},
   "outputs": [
    {
     "data": {
      "text/plain": [
       "array([0, 0, 1, 1, 0, 0, 1, 1])"
      ]
     },
     "execution_count": 22,
     "metadata": {},
     "output_type": "execute_result"
    }
   ],
   "source": [
    "swag.predict(torch.Tensor(X_test), [0, 1], first_mom, second_mom, D, S=5)"
   ]
  },
  {
   "cell_type": "code",
   "execution_count": null,
   "metadata": {},
   "outputs": [],
   "source": []
  }
 ],
 "metadata": {
  "kernelspec": {
   "display_name": "Python 3",
   "language": "python",
   "name": "python3"
  },
  "language_info": {
   "codemirror_mode": {
    "name": "ipython",
    "version": 3
   },
   "file_extension": ".py",
   "mimetype": "text/x-python",
   "name": "python",
   "nbconvert_exporter": "python",
   "pygments_lexer": "ipython3",
   "version": "3.6.7"
  }
 },
 "nbformat": 4,
 "nbformat_minor": 2
}
